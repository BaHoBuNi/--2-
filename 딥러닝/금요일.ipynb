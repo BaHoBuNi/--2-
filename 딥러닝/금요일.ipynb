{
 "cells": [
  {
   "cell_type": "code",
   "execution_count": 1,
   "id": "887e879e-1d36-4ed5-98df-aa33cbe6ec95",
   "metadata": {},
   "outputs": [],
   "source": [
    "import numpy as np"
   ]
  },
  {
   "cell_type": "code",
   "execution_count": 2,
   "id": "389482cb-49a2-4627-993e-af48ca367ed3",
   "metadata": {},
   "outputs": [],
   "source": [
    "import matplotlib.pyplot as plt"
   ]
  },
  {
   "cell_type": "code",
   "execution_count": 3,
   "id": "2d257987-ec26-415c-ae1e-939ed99bfab2",
   "metadata": {},
   "outputs": [],
   "source": [
    "import tensorflow\n",
    "from tensorflow.keras.models import Sequential\n",
    "from tensorflow.keras.layers import Dense, Conv2D, MaxPooling2D, Flatten\n",
    "from tensorflow.keras.layers import BatchNormalization, Dropout\n",
    "from tensorflow.keras.datasets import cifar100\n",
    "from tensorflow.keras.utils import to_categorical"
   ]
  },
  {
   "cell_type": "code",
   "execution_count": 4,
   "id": "635df304-f676-44c3-854f-a8e96a8353a0",
   "metadata": {},
   "outputs": [],
   "source": [
    "(X_train, y_train), (X_test,y_test) = cifar100.load_data()"
   ]
  },
  {
   "cell_type": "code",
   "execution_count": 5,
   "id": "a69cddcd-4b62-4282-9444-d1c3aef770a7",
   "metadata": {},
   "outputs": [],
   "source": [
    "X_train.shape, y_train.shape\n",
    "# y_train > one_hot (50000,100)\n",
    "y_train = to_categorical(y_train)\n",
    "y_test = to_categorical(y_test)"
   ]
  },
  {
   "cell_type": "code",
   "execution_count": 6,
   "id": "1909764b-ff78-47b5-a0d4-d04eba143b12",
   "metadata": {},
   "outputs": [
    {
     "data": {
      "text/plain": [
       "((50000, 32, 32, 3), (50000, 100))"
      ]
     },
     "execution_count": 6,
     "metadata": {},
     "output_type": "execute_result"
    }
   ],
   "source": [
    "X_train.shape, y_train.shape"
   ]
  },
  {
   "cell_type": "code",
   "execution_count": 7,
   "id": "1866bd98-1a1e-4650-9d2c-dab05aaa7f0e",
   "metadata": {},
   "outputs": [],
   "source": [
    "## network 설계\n",
    "model = Sequential(\n",
    "    [\n",
    "        Conv2D(30,(3,3),activation='relu',input_shape=(32,32,3)),\n",
    "        MaxPooling2D((3,3)),\n",
    "        BatchNormalization(),\n",
    "        Conv2D(50,(5,5),activation='relu'),\n",
    "        BatchNormalization(),\n",
    "        MaxPooling2D((2,2)),\n",
    "        Flatten(),\n",
    "        Dense(1024,activation='relu'),\n",
    "        BatchNormalization(),\n",
    "        Dropout(0.5),\n",
    "        Dense(100,activation='softmax')\n",
    "    ]\n",
    ")"
   ]
  },
  {
   "cell_type": "code",
   "execution_count": 8,
   "id": "b60eb2d9-5d86-49e6-b50d-2984e0747537",
   "metadata": {},
   "outputs": [
    {
     "name": "stdout",
     "output_type": "stream",
     "text": [
      "Model: \"sequential\"\n",
      "_________________________________________________________________\n",
      " Layer (type)                Output Shape              Param #   \n",
      "=================================================================\n",
      " conv2d (Conv2D)             (None, 30, 30, 30)        840       \n",
      "                                                                 \n",
      " max_pooling2d (MaxPooling2D  (None, 10, 10, 30)       0         \n",
      " )                                                               \n",
      "                                                                 \n",
      " batch_normalization (BatchN  (None, 10, 10, 30)       120       \n",
      " ormalization)                                                   \n",
      "                                                                 \n",
      " conv2d_1 (Conv2D)           (None, 6, 6, 50)          37550     \n",
      "                                                                 \n",
      " batch_normalization_1 (Batc  (None, 6, 6, 50)         200       \n",
      " hNormalization)                                                 \n",
      "                                                                 \n",
      " max_pooling2d_1 (MaxPooling  (None, 3, 3, 50)         0         \n",
      " 2D)                                                             \n",
      "                                                                 \n",
      " flatten (Flatten)           (None, 450)               0         \n",
      "                                                                 \n",
      " dense (Dense)               (None, 1024)              461824    \n",
      "                                                                 \n",
      " batch_normalization_2 (Batc  (None, 1024)             4096      \n",
      " hNormalization)                                                 \n",
      "                                                                 \n",
      " dropout (Dropout)           (None, 1024)              0         \n",
      "                                                                 \n",
      " dense_1 (Dense)             (None, 100)               102500    \n",
      "                                                                 \n",
      "=================================================================\n",
      "Total params: 607,130\n",
      "Trainable params: 604,922\n",
      "Non-trainable params: 2,208\n",
      "_________________________________________________________________\n"
     ]
    }
   ],
   "source": [
    "model.summary()"
   ]
  },
  {
   "cell_type": "code",
   "execution_count": 9,
   "id": "9994611b-e748-4adb-a5d9-34e28c4e6f28",
   "metadata": {},
   "outputs": [],
   "source": [
    "## network 컴파일\n",
    "optimizer = 'rmsprop'\n",
    "loss = 'categorical_crossentropy'\n",
    "metrics = ['accuracy']\n",
    "model.compile(optimizer=optimizer,\n",
    "             loss=loss,\n",
    "             metrics=metrics)"
   ]
  },
  {
   "cell_type": "code",
   "execution_count": 10,
   "id": "902b6b9a-3562-4ad3-b6e5-062970efe29b",
   "metadata": {},
   "outputs": [
    {
     "name": "stdout",
     "output_type": "stream",
     "text": [
      "Epoch 1/20\n",
      "391/391 [==============================] - 19s 47ms/step - loss: 3.9506 - accuracy: 0.1590 - val_loss: 3.5466 - val_accuracy: 0.2043\n",
      "Epoch 2/20\n",
      "391/391 [==============================] - 18s 46ms/step - loss: 3.0015 - accuracy: 0.2804 - val_loss: 3.1231 - val_accuracy: 0.2731\n",
      "Epoch 3/20\n",
      "391/391 [==============================] - 18s 46ms/step - loss: 2.6123 - accuracy: 0.3477 - val_loss: 2.9157 - val_accuracy: 0.2965\n",
      "Epoch 4/20\n",
      "391/391 [==============================] - 18s 46ms/step - loss: 2.3836 - accuracy: 0.3923 - val_loss: 2.4851 - val_accuracy: 0.3799\n",
      "Epoch 5/20\n",
      "391/391 [==============================] - 19s 49ms/step - loss: 2.2178 - accuracy: 0.4252 - val_loss: 2.6763 - val_accuracy: 0.3500\n",
      "Epoch 6/20\n",
      "391/391 [==============================] - 19s 48ms/step - loss: 2.0763 - accuracy: 0.4556 - val_loss: 2.5325 - val_accuracy: 0.3799\n",
      "Epoch 7/20\n",
      "391/391 [==============================] - 18s 46ms/step - loss: 1.9740 - accuracy: 0.4785 - val_loss: 2.5861 - val_accuracy: 0.3713\n",
      "Epoch 8/20\n",
      "391/391 [==============================] - 18s 46ms/step - loss: 1.8692 - accuracy: 0.5038 - val_loss: 2.6071 - val_accuracy: 0.3663\n",
      "Epoch 9/20\n",
      "391/391 [==============================] - 18s 46ms/step - loss: 1.7842 - accuracy: 0.5224 - val_loss: 2.5750 - val_accuracy: 0.3902\n",
      "Epoch 10/20\n",
      "391/391 [==============================] - 18s 47ms/step - loss: 1.7063 - accuracy: 0.5387 - val_loss: 2.6122 - val_accuracy: 0.3821\n",
      "Epoch 11/20\n",
      "391/391 [==============================] - 18s 46ms/step - loss: 1.6305 - accuracy: 0.5571 - val_loss: 2.7278 - val_accuracy: 0.3590\n",
      "Epoch 12/20\n",
      "391/391 [==============================] - 18s 46ms/step - loss: 1.5563 - accuracy: 0.5719 - val_loss: 2.5556 - val_accuracy: 0.3976\n",
      "Epoch 13/20\n",
      "391/391 [==============================] - 18s 46ms/step - loss: 1.4968 - accuracy: 0.5880 - val_loss: 2.5729 - val_accuracy: 0.3860\n",
      "Epoch 14/20\n",
      "391/391 [==============================] - 18s 46ms/step - loss: 1.4384 - accuracy: 0.5971 - val_loss: 2.6190 - val_accuracy: 0.3942\n",
      "Epoch 15/20\n",
      "391/391 [==============================] - 19s 48ms/step - loss: 1.3892 - accuracy: 0.6112 - val_loss: 2.9943 - val_accuracy: 0.3537\n",
      "Epoch 16/20\n",
      "391/391 [==============================] - 18s 46ms/step - loss: 1.3389 - accuracy: 0.6230 - val_loss: 2.8285 - val_accuracy: 0.3845\n",
      "Epoch 17/20\n",
      "391/391 [==============================] - 18s 46ms/step - loss: 1.2901 - accuracy: 0.6362 - val_loss: 2.8247 - val_accuracy: 0.3775\n",
      "Epoch 18/20\n",
      "391/391 [==============================] - 18s 46ms/step - loss: 1.2464 - accuracy: 0.6452 - val_loss: 2.6721 - val_accuracy: 0.4042\n",
      "Epoch 19/20\n",
      "391/391 [==============================] - 18s 46ms/step - loss: 1.2056 - accuracy: 0.6553 - val_loss: 2.6518 - val_accuracy: 0.4125\n",
      "Epoch 20/20\n",
      "391/391 [==============================] - 19s 48ms/step - loss: 1.1679 - accuracy: 0.6635 - val_loss: 2.9591 - val_accuracy: 0.3771\n"
     ]
    },
    {
     "data": {
      "text/plain": [
       "<keras.callbacks.History at 0x2de7545df10>"
      ]
     },
     "execution_count": 10,
     "metadata": {},
     "output_type": "execute_result"
    }
   ],
   "source": [
    "## network 학습\n",
    "epochs = 20\n",
    "batch_size = 128\n",
    "validation_data = (X_test, y_test)\n",
    "model.fit(X_train,\n",
    "          y_train,\n",
    "          epochs = epochs,\n",
    "          batch_size = batch_size,\n",
    "          validation_data = validation_data\n",
    "         )"
   ]
  },
  {
   "cell_type": "code",
   "execution_count": null,
   "id": "76d860cf-89e0-40ea-8fc8-a0f467235151",
   "metadata": {},
   "outputs": [],
   "source": []
  }
 ],
 "metadata": {
  "kernelspec": {
   "display_name": "Python 3 (ipykernel)",
   "language": "python",
   "name": "python3"
  },
  "language_info": {
   "codemirror_mode": {
    "name": "ipython",
    "version": 3
   },
   "file_extension": ".py",
   "mimetype": "text/x-python",
   "name": "python",
   "nbconvert_exporter": "python",
   "pygments_lexer": "ipython3",
   "version": "3.9.13"
  }
 },
 "nbformat": 4,
 "nbformat_minor": 5
}
