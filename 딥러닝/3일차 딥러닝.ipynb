{
 "cells": [
  {
   "cell_type": "code",
   "execution_count": 6,
   "id": "5551a354-edcd-41a9-9d24-ceae2b9ea4c0",
   "metadata": {},
   "outputs": [],
   "source": [
    "# 1. 가설함수   ed ) ax+b\n",
    "# 2. 예측결과  \n",
    "# 3. 비용함수(손실함수) ex) mse, categorical cross~\n",
    "# 4. 비용함수 최소화 => 미분 후 가설함수에 조금씩 반영하기"
   ]
  },
  {
   "cell_type": "code",
   "execution_count": 2,
   "id": "bbc662fc-42b1-405f-954b-09d6b3fed60a",
   "metadata": {},
   "outputs": [],
   "source": [
    "import numpy as np"
   ]
  },
  {
   "cell_type": "code",
   "execution_count": 45,
   "id": "0471394c-82a7-4ff5-91d5-d0890aab697f",
   "metadata": {},
   "outputs": [],
   "source": [
    "X = np.random.randn(100)\n",
    "y = X*3 + 4"
   ]
  },
  {
   "cell_type": "code",
   "execution_count": 46,
   "id": "ed53ca12-ef99-4b7d-bcd4-47a1f9ecd2ec",
   "metadata": {},
   "outputs": [
    {
     "data": {
      "text/plain": [
       "array([-0.83636863, -0.70257018,  0.40441432, -0.52482692,  0.41266631,\n",
       "       -0.9663402 , -0.24104499,  0.42556163,  0.64929177,  0.79581677,\n",
       "       -0.0141099 ,  0.0777341 ,  1.78287284, -0.83100053, -1.16353098,\n",
       "       -1.09022348, -0.01732714, -0.2924515 ,  1.34227324, -1.21587575,\n",
       "        0.30084783, -0.57752105,  0.87101766,  0.13832386,  0.05282603,\n",
       "        1.22048234,  0.46898582, -1.85395704,  0.19981929, -1.28005152,\n",
       "        1.0355029 , -0.27622637, -0.02834171, -1.28501511, -0.67107553,\n",
       "        0.03274525,  0.56622493,  0.20799659, -0.76320949, -0.97726959,\n",
       "        0.254299  ,  1.22745332,  0.84169153,  0.24417212, -0.81968149,\n",
       "        2.32187117,  0.61877506, -0.39361294,  0.58656237, -0.53329123,\n",
       "       -0.04299392,  0.0370875 , -1.28117258,  2.20657106, -1.50706609,\n",
       "       -1.73693991, -1.19096619, -0.12826355,  1.39555818,  0.06028445,\n",
       "       -1.05856308,  0.9963931 ,  0.63291659,  2.04991394, -0.72817783,\n",
       "        0.71754648, -0.67999561,  1.18826983, -0.67770305, -0.43749496,\n",
       "        0.99444557, -0.66119278,  0.72939963, -0.60543432,  1.71730435,\n",
       "       -1.17095147,  0.02491351,  0.22921464, -2.62565919,  0.67935194,\n",
       "        0.01811523,  1.22818091,  0.83143694,  0.1443551 , -1.57742591,\n",
       "       -0.22475338, -0.32696042, -0.14870669, -0.78425329,  1.01518715,\n",
       "       -0.64100402, -1.84949322, -0.31099363, -2.98901826,  0.83076066,\n",
       "       -0.34803458,  1.46005397, -0.76356906,  0.42506123,  0.65428764])"
      ]
     },
     "execution_count": 46,
     "metadata": {},
     "output_type": "execute_result"
    }
   ],
   "source": [
    "X"
   ]
  },
  {
   "cell_type": "code",
   "execution_count": 47,
   "id": "25c8cf93-d44a-48cd-92ba-31af4c65fa0c",
   "metadata": {},
   "outputs": [
    {
     "data": {
      "text/plain": [
       "array([ 1.49089411,  1.89228946,  5.21324296,  2.42551923,  5.23799894,\n",
       "        1.1009794 ,  3.27686502,  5.27668488,  5.94787531,  6.38745032,\n",
       "        3.95767029,  4.23320229,  9.34861851,  1.50699842,  0.50940706,\n",
       "        0.72932956,  3.94801859,  3.1226455 ,  8.02681971,  0.35237275,\n",
       "        4.90254349,  2.26743686,  6.61305298,  4.41497158,  4.1584781 ,\n",
       "        7.66144701,  5.40695747, -1.56187112,  4.59945787,  0.15984544,\n",
       "        7.10650871,  3.17132088,  3.91497486,  0.14495467,  1.98677341,\n",
       "        4.09823574,  5.69867479,  4.62398977,  1.71037154,  1.06819124,\n",
       "        4.762897  ,  7.68235996,  6.52507459,  4.73251637,  1.54095553,\n",
       "       10.96561352,  5.85632518,  2.81916119,  5.7596871 ,  2.40012631,\n",
       "        3.87101825,  4.11126249,  0.15648227, 10.61971318, -0.52119828,\n",
       "       -1.21081973,  0.42710143,  3.61520934,  8.18667454,  4.18085336,\n",
       "        0.82431076,  6.9891793 ,  5.89874977, 10.14974182,  1.81546652,\n",
       "        6.15263943,  1.96001318,  7.56480949,  1.96689086,  2.68751511,\n",
       "        6.98333671,  2.01642167,  6.1881989 ,  2.18369703,  9.15191305,\n",
       "        0.48714559,  4.07474053,  4.68764391, -3.87697758,  6.03805582,\n",
       "        4.05434568,  7.68454274,  6.49431081,  4.4330653 , -0.73227773,\n",
       "        3.32573987,  3.01911875,  3.55387994,  1.64724012,  7.04556145,\n",
       "        2.07698795, -1.54847965,  3.06701912, -4.96705478,  6.49228198,\n",
       "        2.95589626,  8.38016191,  1.70929282,  5.2751837 ,  5.96286291])"
      ]
     },
     "execution_count": 47,
     "metadata": {},
     "output_type": "execute_result"
    }
   ],
   "source": [
    "y"
   ]
  },
  {
   "cell_type": "code",
   "execution_count": 48,
   "id": "1a473cf3-1a01-42d1-8756-8c044e39ac5e",
   "metadata": {},
   "outputs": [
    {
     "data": {
      "text/plain": [
       "array([[-0.83636863,  1.49089411],\n",
       "       [-0.70257018,  1.89228946],\n",
       "       [ 0.40441432,  5.21324296],\n",
       "       [-0.52482692,  2.42551923],\n",
       "       [ 0.41266631,  5.23799894],\n",
       "       [-0.9663402 ,  1.1009794 ],\n",
       "       [-0.24104499,  3.27686502],\n",
       "       [ 0.42556163,  5.27668488],\n",
       "       [ 0.64929177,  5.94787531],\n",
       "       [ 0.79581677,  6.38745032],\n",
       "       [-0.0141099 ,  3.95767029],\n",
       "       [ 0.0777341 ,  4.23320229],\n",
       "       [ 1.78287284,  9.34861851],\n",
       "       [-0.83100053,  1.50699842],\n",
       "       [-1.16353098,  0.50940706],\n",
       "       [-1.09022348,  0.72932956],\n",
       "       [-0.01732714,  3.94801859],\n",
       "       [-0.2924515 ,  3.1226455 ],\n",
       "       [ 1.34227324,  8.02681971],\n",
       "       [-1.21587575,  0.35237275],\n",
       "       [ 0.30084783,  4.90254349],\n",
       "       [-0.57752105,  2.26743686],\n",
       "       [ 0.87101766,  6.61305298],\n",
       "       [ 0.13832386,  4.41497158],\n",
       "       [ 0.05282603,  4.1584781 ],\n",
       "       [ 1.22048234,  7.66144701],\n",
       "       [ 0.46898582,  5.40695747],\n",
       "       [-1.85395704, -1.56187112],\n",
       "       [ 0.19981929,  4.59945787],\n",
       "       [-1.28005152,  0.15984544],\n",
       "       [ 1.0355029 ,  7.10650871],\n",
       "       [-0.27622637,  3.17132088],\n",
       "       [-0.02834171,  3.91497486],\n",
       "       [-1.28501511,  0.14495467],\n",
       "       [-0.67107553,  1.98677341],\n",
       "       [ 0.03274525,  4.09823574],\n",
       "       [ 0.56622493,  5.69867479],\n",
       "       [ 0.20799659,  4.62398977],\n",
       "       [-0.76320949,  1.71037154],\n",
       "       [-0.97726959,  1.06819124],\n",
       "       [ 0.254299  ,  4.762897  ],\n",
       "       [ 1.22745332,  7.68235996],\n",
       "       [ 0.84169153,  6.52507459],\n",
       "       [ 0.24417212,  4.73251637],\n",
       "       [-0.81968149,  1.54095553],\n",
       "       [ 2.32187117, 10.96561352],\n",
       "       [ 0.61877506,  5.85632518],\n",
       "       [-0.39361294,  2.81916119],\n",
       "       [ 0.58656237,  5.7596871 ],\n",
       "       [-0.53329123,  2.40012631],\n",
       "       [-0.04299392,  3.87101825],\n",
       "       [ 0.0370875 ,  4.11126249],\n",
       "       [-1.28117258,  0.15648227],\n",
       "       [ 2.20657106, 10.61971318],\n",
       "       [-1.50706609, -0.52119828],\n",
       "       [-1.73693991, -1.21081973],\n",
       "       [-1.19096619,  0.42710143],\n",
       "       [-0.12826355,  3.61520934],\n",
       "       [ 1.39555818,  8.18667454],\n",
       "       [ 0.06028445,  4.18085336],\n",
       "       [-1.05856308,  0.82431076],\n",
       "       [ 0.9963931 ,  6.9891793 ],\n",
       "       [ 0.63291659,  5.89874977],\n",
       "       [ 2.04991394, 10.14974182],\n",
       "       [-0.72817783,  1.81546652],\n",
       "       [ 0.71754648,  6.15263943],\n",
       "       [-0.67999561,  1.96001318],\n",
       "       [ 1.18826983,  7.56480949],\n",
       "       [-0.67770305,  1.96689086],\n",
       "       [-0.43749496,  2.68751511],\n",
       "       [ 0.99444557,  6.98333671],\n",
       "       [-0.66119278,  2.01642167],\n",
       "       [ 0.72939963,  6.1881989 ],\n",
       "       [-0.60543432,  2.18369703],\n",
       "       [ 1.71730435,  9.15191305],\n",
       "       [-1.17095147,  0.48714559],\n",
       "       [ 0.02491351,  4.07474053],\n",
       "       [ 0.22921464,  4.68764391],\n",
       "       [-2.62565919, -3.87697758],\n",
       "       [ 0.67935194,  6.03805582],\n",
       "       [ 0.01811523,  4.05434568],\n",
       "       [ 1.22818091,  7.68454274],\n",
       "       [ 0.83143694,  6.49431081],\n",
       "       [ 0.1443551 ,  4.4330653 ],\n",
       "       [-1.57742591, -0.73227773],\n",
       "       [-0.22475338,  3.32573987],\n",
       "       [-0.32696042,  3.01911875],\n",
       "       [-0.14870669,  3.55387994],\n",
       "       [-0.78425329,  1.64724012],\n",
       "       [ 1.01518715,  7.04556145],\n",
       "       [-0.64100402,  2.07698795],\n",
       "       [-1.84949322, -1.54847965],\n",
       "       [-0.31099363,  3.06701912],\n",
       "       [-2.98901826, -4.96705478],\n",
       "       [ 0.83076066,  6.49228198],\n",
       "       [-0.34803458,  2.95589626],\n",
       "       [ 1.46005397,  8.38016191],\n",
       "       [-0.76356906,  1.70929282],\n",
       "       [ 0.42506123,  5.2751837 ],\n",
       "       [ 0.65428764,  5.96286291]])"
      ]
     },
     "execution_count": 48,
     "metadata": {},
     "output_type": "execute_result"
    }
   ],
   "source": [
    "np.c_[X,y]"
   ]
  },
  {
   "cell_type": "code",
   "execution_count": 49,
   "id": "1c9eb88c-dbe0-4873-b554-ba78d74cab1e",
   "metadata": {},
   "outputs": [],
   "source": [
    "a = 1.\n",
    "b = 2.\n",
    "y_hat = a*X + b"
   ]
  },
  {
   "cell_type": "code",
   "execution_count": 50,
   "id": "139c4d23-4c34-4444-8303-8713377b0423",
   "metadata": {},
   "outputs": [],
   "source": [
    "loss = np.mean((y-y_hat)**2)"
   ]
  },
  {
   "cell_type": "code",
   "execution_count": 51,
   "id": "183d9a7e-71aa-4bbd-9e0b-aa323466e267",
   "metadata": {},
   "outputs": [
    {
     "data": {
      "text/plain": [
       "7.624625000765496"
      ]
     },
     "execution_count": 51,
     "metadata": {},
     "output_type": "execute_result"
    }
   ],
   "source": [
    "loss"
   ]
  },
  {
   "cell_type": "code",
   "execution_count": 11,
   "id": "d44e3d31-338d-42f1-a617-0f0696759ddc",
   "metadata": {},
   "outputs": [],
   "source": [
    "# loss를 줄이는게 좋다"
   ]
  },
  {
   "cell_type": "code",
   "execution_count": 12,
   "id": "fe8432d3-4b37-4466-b9bb-b5b81c6da0d5",
   "metadata": {},
   "outputs": [],
   "source": [
    "# (y-(a*X+b)**2)를 미분하자\n",
    "\n",
    "# a로 미분 => 2x(ax+b-y) => 2x(y_hat - y)\n",
    "\n",
    "# b로 미분 =>  "
   ]
  },
  {
   "cell_type": "code",
   "execution_count": 52,
   "id": "ebc467c5-757f-4ef5-8aa2-47f3755d5787",
   "metadata": {},
   "outputs": [],
   "source": [
    "da = np.mean(2*X*(y_hat - y))\n",
    "db = np.mean(2*(y_hat-y))"
   ]
  },
  {
   "cell_type": "code",
   "execution_count": 53,
   "id": "51c6192c-263c-4ddb-9728-2750d5be4e83",
   "metadata": {},
   "outputs": [],
   "source": [
    "a = a - 1e-3*da\n",
    "b=  b - 1e-3*db"
   ]
  },
  {
   "cell_type": "code",
   "execution_count": 54,
   "id": "9774b2da-b2fc-43a0-95f5-ec405d268c98",
   "metadata": {},
   "outputs": [
    {
     "data": {
      "text/plain": [
       "1.0038048199047158"
      ]
     },
     "execution_count": 54,
     "metadata": {},
     "output_type": "execute_result"
    }
   ],
   "source": [
    "a"
   ]
  },
  {
   "cell_type": "code",
   "execution_count": 55,
   "id": "97d80a48-8d6e-4b70-b889-bdaa045f17c8",
   "metadata": {},
   "outputs": [
    {
     "data": {
      "text/plain": [
       "2.00381980509605"
      ]
     },
     "execution_count": 55,
     "metadata": {},
     "output_type": "execute_result"
    }
   ],
   "source": [
    "b"
   ]
  },
  {
   "cell_type": "code",
   "execution_count": 20,
   "id": "41e2343d-b2dd-45f9-b324-1eca424904e4",
   "metadata": {},
   "outputs": [],
   "source": [
    "# 실제 값은 3,4인데 예측값 1,2에서 계속 하다보면 3,4로 맞춰 질 것이다"
   ]
  },
  {
   "cell_type": "code",
   "execution_count": 21,
   "id": "250ba6c3-124e-41b7-a3ef-146929b34996",
   "metadata": {},
   "outputs": [],
   "source": [
    "# 식으로 만들면?"
   ]
  },
  {
   "cell_type": "code",
   "execution_count": 56,
   "id": "74262933-c754-4bdc-a1db-f495ba8bde19",
   "metadata": {},
   "outputs": [],
   "source": [
    "for i in range(10000):\n",
    "    y_hat = a*X + b\n",
    "    loss = np.mean((y-y_hat)**2)\n",
    "    da = np.mean(2*X*(y_hat-y))\n",
    "    db = np.mean(2*(y_hat-y))\n",
    "    a = a - 1e-3*da\n",
    "    b = b - 1e-3*db"
   ]
  },
  {
   "cell_type": "code",
   "execution_count": 57,
   "id": "32ee3e67-bd39-4c6e-a4ce-b50c708dd415",
   "metadata": {},
   "outputs": [
    {
     "data": {
      "text/plain": [
       "2.999999989489312"
      ]
     },
     "execution_count": 57,
     "metadata": {},
     "output_type": "execute_result"
    }
   ],
   "source": [
    "a"
   ]
  },
  {
   "cell_type": "code",
   "execution_count": 58,
   "id": "abff38d3-c03f-4aec-ac94-1e3fb33ab33d",
   "metadata": {},
   "outputs": [
    {
     "data": {
      "text/plain": [
       "3.9999999898482206"
      ]
     },
     "execution_count": 58,
     "metadata": {},
     "output_type": "execute_result"
    }
   ],
   "source": [
    "b"
   ]
  },
  {
   "cell_type": "code",
   "execution_count": 64,
   "id": "03dd281b-d8ab-427c-9dc3-bb340bdf5a9a",
   "metadata": {},
   "outputs": [],
   "source": [
    "# x1,x2로 하면?/"
   ]
  },
  {
   "cell_type": "code",
   "execution_count": 59,
   "id": "971ac35d-ca85-4878-bddd-26cadb663c1a",
   "metadata": {},
   "outputs": [],
   "source": [
    "X = np.random.randn(100,2)\n",
    "x1 = X[:,0]\n",
    "x2 = X[:,1]\n",
    "y = x1*8 + x2*3 + 10"
   ]
  },
  {
   "cell_type": "code",
   "execution_count": 60,
   "id": "2eda1ea9-b62a-45a0-a9ad-64843b3a37db",
   "metadata": {},
   "outputs": [
    {
     "data": {
      "text/plain": [
       "array([[ 1.14820503e+00,  7.17134735e-01,  2.13370444e+01],\n",
       "       [ 7.92689219e-01, -5.26203703e-01,  1.47629026e+01],\n",
       "       [ 9.49284020e-03, -9.70732751e-01,  7.16374447e+00],\n",
       "       [-6.29916473e-01,  2.02714268e-01,  5.56881102e+00],\n",
       "       [-2.43972623e-01, -1.02217093e-01,  7.74156773e+00],\n",
       "       [ 1.29768204e+00, -1.10010654e+00,  1.70811367e+01],\n",
       "       [-1.55067013e-01,  1.04502479e+00,  1.18945383e+01],\n",
       "       [-4.60829196e-01, -4.04360476e-01,  5.10028501e+00],\n",
       "       [ 1.73196687e+00,  1.33001597e+00,  2.78457829e+01],\n",
       "       [ 7.53455244e-01, -7.11495277e-01,  1.38931561e+01],\n",
       "       [ 1.39357274e+00, -8.26646115e-01,  1.86686436e+01],\n",
       "       [ 6.45288487e-01,  7.24629119e-01,  1.73361953e+01],\n",
       "       [-2.64336483e-01,  1.53533626e+00,  1.24913169e+01],\n",
       "       [-4.76421670e-01,  6.41467212e-01,  8.11302828e+00],\n",
       "       [-8.23400116e-01, -6.73021095e-01,  1.39373579e+00],\n",
       "       [ 5.41239275e-01, -1.73802275e-01,  1.38085074e+01],\n",
       "       [ 5.82768725e-01, -9.29349816e-01,  1.18741004e+01],\n",
       "       [-4.72111457e-01,  5.38949484e-01,  7.83995680e+00],\n",
       "       [ 4.31455748e-01,  4.49034430e-01,  1.47987493e+01],\n",
       "       [ 1.02440767e+00,  1.10216377e+00,  2.15017527e+01],\n",
       "       [ 6.78323596e-02, -1.40490556e+00,  6.32794220e+00],\n",
       "       [-1.20319445e+00, -1.48151045e-01, -7.00086983e-02],\n",
       "       [-7.34494573e-01, -2.43267540e-01,  3.39424079e+00],\n",
       "       [ 3.58291700e-01,  2.62027152e+00,  2.07271481e+01],\n",
       "       [ 1.63893086e+00, -8.10667060e-01,  2.06794457e+01],\n",
       "       [ 1.96701324e-01, -1.49016378e+00,  7.10311927e+00],\n",
       "       [ 1.09670444e+00, -5.09325591e-01,  1.72456588e+01],\n",
       "       [ 2.39722169e-01,  3.24489828e-01,  1.28912468e+01],\n",
       "       [ 1.19403943e+00, -4.31162415e-01,  1.82588282e+01],\n",
       "       [ 3.25379117e-01, -3.81557724e-01,  1.14583598e+01],\n",
       "       [-1.88874524e-01,  1.08945193e-01,  8.81583939e+00],\n",
       "       [ 3.44607992e-01,  7.95941497e-01,  1.51446884e+01],\n",
       "       [-2.87165529e-01, -8.06649974e-02,  7.46068078e+00],\n",
       "       [-5.96927195e-01, -6.05811959e-02,  5.04283886e+00],\n",
       "       [-1.10445663e-01,  8.80451648e-01,  1.17577896e+01],\n",
       "       [ 7.17696930e-01, -3.68489190e-01,  1.46361079e+01],\n",
       "       [-5.95303989e-01, -8.49784965e-01,  2.68821320e+00],\n",
       "       [-8.79454415e-01,  1.21474417e+00,  6.60859720e+00],\n",
       "       [-1.63611834e+00,  1.14238369e+00,  3.38204346e-01],\n",
       "       [ 7.52375947e-01, -2.47744796e+00,  8.58666369e+00],\n",
       "       [-1.68262641e-01,  6.09051531e-01,  1.04810535e+01],\n",
       "       [-9.42815954e-01,  1.02577224e-01,  2.76520404e+00],\n",
       "       [ 3.79810832e-01,  5.02123183e-01,  1.45448562e+01],\n",
       "       [-6.74645249e-01,  1.33615749e+00,  8.61131047e+00],\n",
       "       [ 7.12211796e-01, -1.21067286e+00,  1.20656758e+01],\n",
       "       [ 1.18218264e-01,  3.43869883e-01,  1.19773558e+01],\n",
       "       [ 5.65777285e-01,  2.25012921e-01,  1.52012570e+01],\n",
       "       [-4.87994585e-02, -6.63067249e-01,  7.62040258e+00],\n",
       "       [-1.40737272e+00, -1.49771237e+00, -5.75211885e+00],\n",
       "       [-1.16865762e+00, -2.54781727e+00, -6.99271276e+00],\n",
       "       [ 2.32765239e-01, -4.37214117e-01,  1.05504796e+01],\n",
       "       [-2.92627420e-01,  6.65427451e-02,  7.85860888e+00],\n",
       "       [ 8.00812076e-01,  8.92672878e-01,  1.90845152e+01],\n",
       "       [ 4.43693674e-01, -7.78498560e-02,  1.33159998e+01],\n",
       "       [ 2.27545158e-02, -1.90783301e-01,  9.60968622e+00],\n",
       "       [ 3.95731952e-01,  2.85684553e-01,  1.40229093e+01],\n",
       "       [ 9.41365358e-02,  1.55528458e+00,  1.54189460e+01],\n",
       "       [ 3.82083359e-01,  4.26861240e-01,  1.43372506e+01],\n",
       "       [-7.86023523e-02, -5.42142859e-01,  7.74475260e+00],\n",
       "       [-1.20011245e+00,  6.80433238e-01,  2.44040015e+00],\n",
       "       [ 8.97411226e-01,  2.02391853e+00,  2.32510454e+01],\n",
       "       [-1.36025457e+00, -6.35881352e-01, -2.78968058e+00],\n",
       "       [ 7.36905927e-01, -3.89793422e-01,  1.47258671e+01],\n",
       "       [-8.07840968e-01,  7.36795679e-01,  5.74765929e+00],\n",
       "       [ 6.45363897e-01, -1.04560972e+00,  1.20260820e+01],\n",
       "       [-3.43782490e-01,  5.76798466e-01,  8.98013547e+00],\n",
       "       [-8.56106479e-01, -3.99817409e-01,  1.95169594e+00],\n",
       "       [-5.53605827e-01, -9.09889028e-01,  2.84148630e+00],\n",
       "       [ 1.44885106e-01,  3.16769892e-03,  1.11685839e+01],\n",
       "       [ 1.02667307e+00, -5.50605065e-01,  1.65615694e+01],\n",
       "       [-8.47432365e-01, -4.34585135e-01,  1.91678567e+00],\n",
       "       [-7.87490094e-01, -4.10063635e-01,  2.46988835e+00],\n",
       "       [ 1.26258743e+00,  1.72811063e+00,  2.52850314e+01],\n",
       "       [-1.49537070e+00, -1.38425469e+00, -6.11572969e+00],\n",
       "       [ 1.45096902e-02,  1.30052201e-01,  1.05062341e+01],\n",
       "       [ 1.20736757e+00,  1.28607912e-01,  2.00447643e+01],\n",
       "       [ 1.14029774e+00,  8.59360328e-01,  2.17004629e+01],\n",
       "       [ 6.02677388e-02, -2.76277542e+00,  2.19381564e+00],\n",
       "       [ 2.69133425e+00,  3.56797105e-01,  3.26010653e+01],\n",
       "       [-1.52388368e-01, -1.21058846e+00,  5.14912766e+00],\n",
       "       [ 7.19907414e-01, -8.37295413e-01,  1.32473731e+01],\n",
       "       [ 4.68123061e-01, -1.33022838e+00,  9.75429934e+00],\n",
       "       [-6.48689694e-01, -4.59616548e-01,  3.43163280e+00],\n",
       "       [-5.18171644e-01,  2.76993637e-01,  6.68560776e+00],\n",
       "       [ 8.52988651e-01, -3.06738513e-01,  1.59036937e+01],\n",
       "       [-8.19978533e-01, -2.00203635e+00, -2.56593730e+00],\n",
       "       [ 3.94904297e-01, -1.56238424e-01,  1.26905191e+01],\n",
       "       [-1.38649339e+00, -1.16070682e+00, -4.57406760e+00],\n",
       "       [-1.55568736e+00, -1.46665679e+00, -6.84546930e+00],\n",
       "       [ 1.79497838e+00, -7.29855881e-01,  2.21702594e+01],\n",
       "       [-1.07162082e+00, -1.01188473e+00, -1.60862072e+00],\n",
       "       [ 1.06010663e+00,  2.87366511e-01,  1.93429526e+01],\n",
       "       [-1.52855171e+00,  2.40070834e+00,  4.97371134e+00],\n",
       "       [ 3.73961361e-01,  5.76852122e-02,  1.31647465e+01],\n",
       "       [ 9.33271415e-01,  5.53741009e-01,  1.91273943e+01],\n",
       "       [ 1.18568513e-01,  2.79454002e-01,  1.17869101e+01],\n",
       "       [ 1.47818040e+00, -1.39745408e-01,  2.14062069e+01],\n",
       "       [ 7.12108376e-01,  1.59824984e+00,  2.04916165e+01],\n",
       "       [ 1.71096498e+00, -1.14818180e+00,  2.02431744e+01],\n",
       "       [ 4.06421583e-02, -3.15605302e-01,  9.37832136e+00]])"
      ]
     },
     "execution_count": 60,
     "metadata": {},
     "output_type": "execute_result"
    }
   ],
   "source": [
    "np.c_[X,y]"
   ]
  },
  {
   "cell_type": "code",
   "execution_count": 61,
   "id": "ff90e590-acf8-4c2e-8ea3-5231e7c38f7a",
   "metadata": {},
   "outputs": [],
   "source": [
    "a1 = 100\n",
    "a2 = -3\n",
    "b = 0"
   ]
  },
  {
   "cell_type": "code",
   "execution_count": 62,
   "id": "12dc38be-432e-4551-9b9c-db5229c22eec",
   "metadata": {},
   "outputs": [],
   "source": [
    "for i in range(10000):\n",
    "    y_hat = a1*x1 + a2*x2 + b\n",
    "    loss = np.mean((y-y_hat)**2)\n",
    "    da1 = np.mean(2*x1*(y_hat-y))\n",
    "    da2 = np.mean(2*x2*(y_hat-y))\n",
    "    db = np.mean(2*(y_hat-y))\n",
    "    a1 = a1- 1e-3*da1\n",
    "    a2 = a2- 1e-3*da2\n",
    "    b =   b- 1e-3*db"
   ]
  },
  {
   "cell_type": "code",
   "execution_count": 63,
   "id": "38d6c299-40f1-482b-8f49-42403a3738d0",
   "metadata": {},
   "outputs": [
    {
     "data": {
      "text/plain": [
       "(8.000056400454437, 2.9999789399182983, 9.99997158370143)"
      ]
     },
     "execution_count": 63,
     "metadata": {},
     "output_type": "execute_result"
    }
   ],
   "source": [
    "a1, a2 ,b"
   ]
  },
  {
   "cell_type": "code",
   "execution_count": 41,
   "id": "d41d5ca5-9dfb-4e42-8e8d-1e876e11ac1f",
   "metadata": {},
   "outputs": [],
   "source": [
    "# 예측(100,-3,0) 개떡같이해도 만 번 loss 최소화 하다보면 실제 값(8,3,10)이 된다"
   ]
  },
  {
   "cell_type": "code",
   "execution_count": 65,
   "id": "c04f2e3d-0289-414b-8e6b-a6a544f480fc",
   "metadata": {},
   "outputs": [],
   "source": [
    "# 한번에 묶엇 하는 방법 없을까 ? da1,da2....da1000있으면 번거롭다 => 행렬로 묶기"
   ]
  },
  {
   "cell_type": "code",
   "execution_count": 78,
   "id": "d05b58ba-0c35-427b-9b58-3e167294019a",
   "metadata": {},
   "outputs": [],
   "source": [
    "X = np.random.randn(100,3)\n",
    "x1 = X[:,0]\n",
    "x2 = X[:,1]\n",
    "x3 = X[:,2]\n",
    "y = 100*x1 + 7*x2 - 20*x3 + 80"
   ]
  },
  {
   "cell_type": "code",
   "execution_count": 79,
   "id": "3d736f41-b178-4ba0-b109-78388681e422",
   "metadata": {},
   "outputs": [],
   "source": [
    "W = np.array([[100],[7],[-20]])\n",
    "y1 = np.dot(X,W) + 80\n"
   ]
  },
  {
   "cell_type": "code",
   "execution_count": 80,
   "id": "7ba479ed-b5df-49a5-8163-5ffebc724ccf",
   "metadata": {},
   "outputs": [],
   "source": [
    "y= y.reshape(-1,1)"
   ]
  },
  {
   "cell_type": "code",
   "execution_count": 72,
   "id": "11227933-7744-45c7-b34d-6ce2f59ced44",
   "metadata": {},
   "outputs": [],
   "source": [
    "# 소수점이 약간 다르다"
   ]
  },
  {
   "cell_type": "code",
   "execution_count": 73,
   "id": "155a7d80-0baa-43a4-90a9-71bbc5e47e62",
   "metadata": {},
   "outputs": [],
   "source": [
    "a1 = np.random.randn(1)\n",
    "a2 = np.random.randn(1)\n",
    "a3 = np.random.randn(1)\n",
    "b = 0\n",
    "y_hat = x1*a1 + x2*a2 + x3*a3 +b"
   ]
  },
  {
   "cell_type": "code",
   "execution_count": 81,
   "id": "21ad6267-44fe-43de-bac3-e7157f5d40f0",
   "metadata": {},
   "outputs": [],
   "source": [
    "W = np.random.randn(3,1)\n",
    "b = 0"
   ]
  },
  {
   "cell_type": "code",
   "execution_count": 77,
   "id": "56cac056-af28-4f24-8073-2e84edddc742",
   "metadata": {},
   "outputs": [],
   "source": [
    "# 위에 했던놈이랑 차이점은 행렬에 대한 미분을 해야한다"
   ]
  },
  {
   "cell_type": "code",
   "execution_count": 87,
   "id": "f06bd9ac-4813-4ecc-b818-a365ce296455",
   "metadata": {},
   "outputs": [],
   "source": [
    "for i in range(10000):\n",
    "    y_hat = np.dot(X,W) + b\n",
    "    loss = np.mean((y_hat-y)**2)\n",
    "    dw = 2*np.dot(X.T,(y_hat-y))\n",
    "    db = np.mean(2*(y_hat-y))\n",
    "    W = W - 1e-4*dw\n",
    "    b = b - 1e-4*db"
   ]
  },
  {
   "cell_type": "code",
   "execution_count": 88,
   "id": "2cc2b0a0-5710-4569-a193-2c03b332cd5c",
   "metadata": {},
   "outputs": [
    {
     "data": {
      "text/plain": [
       "(array([[ 99.99798034],\n",
       "        [  7.0190994 ],\n",
       "        [-20.00192272]]),\n",
       " 79.73864489567023)"
      ]
     },
     "execution_count": 88,
     "metadata": {},
     "output_type": "execute_result"
    }
   ],
   "source": [
    "W,b"
   ]
  },
  {
   "cell_type": "code",
   "execution_count": 91,
   "id": "5241d77c-cb89-466d-9374-5adac17c8be4",
   "metadata": {},
   "outputs": [],
   "source": [
    "# dot이 있으니까 mean 할 필요가 없다 \n",
    "# 1e-3 ,1e-4은 알아서 조정할것 \n",
    "# 100,7,-20 ,80 다 나왔다"
   ]
  },
  {
   "cell_type": "code",
   "execution_count": 105,
   "id": "79591c6f-f780-4ab4-8c59-8d805b1243a8",
   "metadata": {},
   "outputs": [],
   "source": [
    "X = np.random.randn(100,20)\n",
    "y = np.dot(X,np.random.randn(20,1)) + 100"
   ]
  },
  {
   "cell_type": "code",
   "execution_count": 106,
   "id": "991fe3d3-84ee-4fa6-8a55-bab03bfff9f2",
   "metadata": {},
   "outputs": [],
   "source": [
    "W = np.random.randn(20,1)\n",
    "b = 0\n",
    "\n",
    "# X변수의 개수만큼 W 정해주면 나머지는 다 똑같다"
   ]
  },
  {
   "cell_type": "code",
   "execution_count": 107,
   "id": "6a85f84a-096d-4f18-b465-eb2cf023f1c3",
   "metadata": {},
   "outputs": [],
   "source": [
    "for i in range(10000):\n",
    "    y_hat = np.dot(X,W) + b\n",
    "    loss = np.mean((y_hat-y)**2)\n",
    "    dw = 2*np.dot(X.T,(y_hat-y))\n",
    "    db = np.mean(2*(y_hat-y))\n",
    "    W = W -1e-4*dw\n",
    "    b = b - 1e-4*db"
   ]
  },
  {
   "cell_type": "code",
   "execution_count": 110,
   "id": "2495502f-c81a-4df7-a6a0-24f6a72ebc6b",
   "metadata": {},
   "outputs": [
    {
     "data": {
      "text/plain": [
       "339.88644304133993"
      ]
     },
     "execution_count": 110,
     "metadata": {},
     "output_type": "execute_result"
    }
   ],
   "source": [
    "loss\n",
    "\n",
    "# mse"
   ]
  },
  {
   "cell_type": "code",
   "execution_count": 111,
   "id": "7502049c-07ee-4406-8e28-577b0448c786",
   "metadata": {},
   "outputs": [],
   "source": [
    "# "
   ]
  },
  {
   "cell_type": "code",
   "execution_count": 129,
   "id": "8068d3a7-c893-452a-98fa-6618fa68d8fa",
   "metadata": {},
   "outputs": [],
   "source": [
    "X = np.around(np.random.randn(100),2)\n",
    "y = X*3"
   ]
  },
  {
   "cell_type": "code",
   "execution_count": 115,
   "id": "22a60916-f0c4-4388-8393-d37952e05eb1",
   "metadata": {},
   "outputs": [],
   "source": [
    "# 1.가설함수\n",
    "# 2.loss function\n",
    "# 3.loss 미분(미분식 = 위에서 한것 , 수치적방법 = 아래에서 할것)\n",
    "# 4.미분값을 가설함수의 변수값 뺴주면 (최적화)\n",
    "# 5. 학습 : (2~4) 반복"
   ]
  },
  {
   "cell_type": "code",
   "execution_count": 124,
   "id": "42676a01-b24c-47ff-b598-2a16c54c13ff",
   "metadata": {},
   "outputs": [],
   "source": [
    "# np.c_[X,y] 얘 쓸 떄에는 [] 쓸 것"
   ]
  },
  {
   "cell_type": "code",
   "execution_count": 125,
   "id": "ca8530ee-3baf-4908-9243-fa770b8d927f",
   "metadata": {},
   "outputs": [],
   "source": [
    "w = np.random.randn(1)\n",
    "h = 1e-4\n",
    "for i in range(10000):\n",
    "    y_hat = w*X\n",
    "    loss = np.mean((y_hat-y)**2) \n",
    "    fx = np.mean((y_hat-y)**2)\n",
    "    y_hat_tmp = (w+h)*X\n",
    "    fxh = np.mean((y_hat_tmp -y)**2)\n",
    "    grad = (fxh - fx) / h\n",
    "    w = w - 1e-3*grad\n",
    "\n",
    "# (f(x+h)-f(x)) / h\n",
    "# 느리다. 수치적미분은 "
   ]
  },
  {
   "cell_type": "code",
   "execution_count": 127,
   "id": "54f36ae5-5c66-4d21-8afd-58d491940524",
   "metadata": {},
   "outputs": [
    {
     "data": {
      "text/plain": [
       "array([2.99995])"
      ]
     },
     "execution_count": 127,
     "metadata": {},
     "output_type": "execute_result"
    }
   ],
   "source": [
    "w\n",
    "\n",
    "# 결과는 y= X*3 의 3으로 가까워지는게 맞다"
   ]
  },
  {
   "cell_type": "code",
   "execution_count": 128,
   "id": "f93ee028-0be2-41a8-81e5-eb8937b458af",
   "metadata": {},
   "outputs": [],
   "source": [
    "# bias도 해보자"
   ]
  },
  {
   "cell_type": "code",
   "execution_count": 141,
   "id": "df10e97b-395c-403a-a505-7cc78164a93e",
   "metadata": {},
   "outputs": [],
   "source": [
    "X = np.around(np.random.randn(100),2)\n",
    "y = X*3 + 5"
   ]
  },
  {
   "cell_type": "code",
   "execution_count": 143,
   "id": "befd93ef-4d5e-4050-aa63-c326e1a5f0cd",
   "metadata": {},
   "outputs": [],
   "source": [
    "w = np.random.randn(1)\n",
    "b = 0\n",
    "h = 1e-4\n",
    "for i in range(10000):\n",
    "    y_hat = w*X + b\n",
    "    loss = np.mean((y_hat-y)**2) \n",
    "    fx = np.mean((y_hat-y)**2)          \n",
    "    #########################################\n",
    "    y_hat_tmp = (w+h)*X + b\n",
    "    fxh = np.mean((y_hat_tmp -y)**2)\n",
    "    dw = (fxh - fx) / h\n",
    "    fx = np.mean((y_hat-y)**2)\n",
    "    y_hat_tmp = w*X+(b+h)\n",
    "    fxh = np.mean((y_hat_tmp-y)**2)\n",
    "    db = (fxh-fx)/h\n",
    "    w = w - 1e-3*dw\n",
    "    b = b - 1e-3*db\n"
   ]
  },
  {
   "cell_type": "code",
   "execution_count": 144,
   "id": "b4a43525-3353-4d3d-8324-79f5aba9db3c",
   "metadata": {},
   "outputs": [
    {
     "data": {
      "text/plain": [
       "(array([2.99994529]), 4.999945640236048)"
      ]
     },
     "execution_count": 144,
     "metadata": {},
     "output_type": "execute_result"
    }
   ],
   "source": [
    "w,b"
   ]
  },
  {
   "cell_type": "code",
   "execution_count": 146,
   "id": "7a10759b-5935-4658-b03f-cfc8ca3243dc",
   "metadata": {},
   "outputs": [],
   "source": [
    "# 1.예측함수\n",
    "# 2.비용함수\n",
    "# 3.미분함수(수치미분)\n",
    "# 4. 경사하강함수"
   ]
  },
  {
   "cell_type": "code",
   "execution_count": 160,
   "id": "b7d58b5c-fd96-446a-a361-1a2f78aacd0b",
   "metadata": {},
   "outputs": [],
   "source": [
    "# 0 데이터\n",
    "\n",
    "x = np.random.randn(100)\n",
    "y = x*7\n",
    "w = np.random.randn(1)\n",
    "# 1\n",
    "def predict(w):\n",
    "    return X*w\n",
    "# 2\n",
    "def loss(w):\n",
    "    return np.mean((predict(w)-y)**2)\n",
    "# 3\n",
    "def grad(w):\n",
    "    h = 1e-4\n",
    "    fx = loss(w)\n",
    "    fxh = loss(w+h) \n",
    "    grad = (fxh-fx)/h\n",
    "    return grad\n",
    "# 4\n",
    "for i in range(10000):\n",
    "    w = w - 1e-3*grad(w)"
   ]
  },
  {
   "cell_type": "code",
   "execution_count": 164,
   "id": "a5ed874a-8a6f-41d9-a3ea-2143c91dc305",
   "metadata": {},
   "outputs": [
    {
     "data": {
      "text/plain": [
       "array([0.17224383])"
      ]
     },
     "execution_count": 164,
     "metadata": {},
     "output_type": "execute_result"
    }
   ],
   "source": [
    "w"
   ]
  },
  {
   "cell_type": "code",
   "execution_count": 163,
   "id": "415c2e52-2702-4c19-b74a-11212d61d830",
   "metadata": {},
   "outputs": [],
   "source": [
    "# 위처럼 w뿐 아니라 b도 해보기"
   ]
  },
  {
   "cell_type": "code",
   "execution_count": 208,
   "id": "d30f74b6-c0e2-41f5-b36a-0296d2cabea8",
   "metadata": {},
   "outputs": [
    {
     "name": "stderr",
     "output_type": "stream",
     "text": [
      "C:\\Users\\USER\\AppData\\Local\\Temp\\ipykernel_3944\\2295183838.py:5: VisibleDeprecationWarning: Creating an ndarray from ragged nested sequences (which is a list-or-tuple of lists-or-tuples-or ndarrays with different lengths or shapes) is deprecated. If you meant to do this, you must specify 'dtype=object' when creating the ndarray.\n",
      "  w = np.array((np.random.randn(1),0))\n"
     ]
    }
   ],
   "source": [
    "# 0 데이터\n",
    "\n",
    "X = np.random.randn(100)\n",
    "y = X*100 - 70\n",
    "w = np.array((np.random.randn(1),0))\n",
    "\n",
    "# 소문자, 대문자 잘쓰기"
   ]
  },
  {
   "cell_type": "code",
   "execution_count": 209,
   "id": "868cf35f-269a-474a-ae40-ec953550d99b",
   "metadata": {},
   "outputs": [],
   "source": [
    "def predict(w):\n",
    "    y_hat = X*w[0] + w[1] \n",
    "    return y_hat\n",
    "def loss(w):\n",
    "    y_hat = predict(w)\n",
    "    return np.mean(2*(y_hat-y)**2)\n",
    "def grad(w):\n",
    "    h = 1e-4\n",
    "    fx = loss(w)\n",
    "    tmp = w[0]\n",
    "    w[0] = tmp+h\n",
    "    fxh = loss(w)\n",
    "    dw = (fxh-fx)/h\n",
    "    w[0] = tmp\n",
    "    tmp = w[1]\n",
    "    fx = loss(w)\n",
    "    w[1] = tmp+h\n",
    "    fxh = loss(w)\n",
    "    db = (fxh-fx)/h\n",
    "    result = np.array((dw,db))\n",
    "    return result"
   ]
  },
  {
   "cell_type": "code",
   "execution_count": 210,
   "id": "51ce06b8-59ea-46fa-bd47-e565e36b80cb",
   "metadata": {},
   "outputs": [],
   "source": [
    "# 4\n",
    "for i in range(10000):\n",
    "    w[0] = w[0] - 1e-3*grad(w)[0]\n",
    "    w[1] = w[1] - 1e-3*grad(w)[1]"
   ]
  },
  {
   "cell_type": "code",
   "execution_count": 211,
   "id": "0830caf5-a382-443b-ac10-9c36a71fc990",
   "metadata": {},
   "outputs": [
    {
     "data": {
      "text/plain": [
       "array([array([100.00015593]), -69.97514867751376], dtype=object)"
      ]
     },
     "execution_count": 211,
     "metadata": {},
     "output_type": "execute_result"
    }
   ],
   "source": [
    "w"
   ]
  },
  {
   "cell_type": "code",
   "execution_count": 212,
   "id": "f4623938-a66a-4581-9355-a2b89d0b7dbc",
   "metadata": {},
   "outputs": [
    {
     "data": {
      "text/plain": [
       "4.999945640236048"
      ]
     },
     "execution_count": 212,
     "metadata": {},
     "output_type": "execute_result"
    }
   ],
   "source": [
    "b"
   ]
  },
  {
   "cell_type": "code",
   "execution_count": 213,
   "id": "dee76de0-28b7-4dfc-88b7-0fbfb9027756",
   "metadata": {},
   "outputs": [],
   "source": [
    "# 변수가 여러개일 때~"
   ]
  },
  {
   "cell_type": "code",
   "execution_count": 259,
   "id": "d821c732-d0f5-4db5-954f-c8b684cb94b4",
   "metadata": {},
   "outputs": [],
   "source": [
    "X = np.random.randn(100,2)\n",
    "W = np.array([[8],[-7]])\n",
    "y = np.dot(X,W) + 1000"
   ]
  },
  {
   "cell_type": "code",
   "execution_count": 236,
   "id": "0a1e9107-7d98-41cb-a020-9a55a9baf9cf",
   "metadata": {},
   "outputs": [
    {
     "data": {
      "text/plain": [
       "((100, 2), (100, 1))"
      ]
     },
     "execution_count": 236,
     "metadata": {},
     "output_type": "execute_result"
    }
   ],
   "source": [
    "X.shape , y.shape"
   ]
  },
  {
   "cell_type": "code",
   "execution_count": 260,
   "id": "f92d5ef3-4d12-452f-8795-c43ec9400ab7",
   "metadata": {},
   "outputs": [
    {
     "name": "stderr",
     "output_type": "stream",
     "text": [
      "C:\\Users\\USER\\AppData\\Local\\Temp\\ipykernel_3944\\1050238314.py:3: VisibleDeprecationWarning: Creating an ndarray from ragged nested sequences (which is a list-or-tuple of lists-or-tuples-or ndarrays with different lengths or shapes) is deprecated. If you meant to do this, you must specify 'dtype=object' when creating the ndarray.\n",
      "  W = np.array((w,b))\n"
     ]
    }
   ],
   "source": [
    "w = np.random.randn(2,1)\n",
    "b = 0\n",
    "W = np.array((w,b))"
   ]
  },
  {
   "cell_type": "code",
   "execution_count": 238,
   "id": "69b69465-645d-4626-90a7-2cab62c7b002",
   "metadata": {},
   "outputs": [
    {
     "data": {
      "text/plain": [
       "array([array([[0.63836522],\n",
       "              [1.71704431]]), 0], dtype=object)"
      ]
     },
     "execution_count": 238,
     "metadata": {},
     "output_type": "execute_result"
    }
   ],
   "source": [
    "W"
   ]
  },
  {
   "cell_type": "code",
   "execution_count": 239,
   "id": "24046251-f9d9-46ed-a6a5-2d66a180f824",
   "metadata": {},
   "outputs": [
    {
     "data": {
      "text/plain": [
       "(array([0.63836522]), array([1.71704431]), 0)"
      ]
     },
     "execution_count": 239,
     "metadata": {},
     "output_type": "execute_result"
    }
   ],
   "source": [
    "W[0][0] ,W[0][1] ,W[1]"
   ]
  },
  {
   "cell_type": "code",
   "execution_count": 240,
   "id": "dd3a25ad-87b1-41d4-8738-8146b954cbc2",
   "metadata": {},
   "outputs": [],
   "source": [
    "def predict(W):\n",
    "    y_hat = np.dot(X,W[0]) + W[1]\n",
    "    return y_hat\n",
    "def loss(W):\n",
    "    y_hat = predict(W)\n",
    "    return np.mean(2*(y_hat-y)**2)\n",
    "def grad(W):\n",
    "    h = 1e-4\n",
    "    tmp = W[0][0]\n",
    "    fx = loss(W)\n",
    "    W[0][0] = tmp + h\n",
    "    fxh = loss(W)\n",
    "    grad_1 = (fxh - fx) / h\n",
    "    W[0][0] = tmp\n",
    "    fx = loss(W)\n",
    "    tmp = W[0][1]\n",
    "    W[0][1] = tmp + h\n",
    "    fxh = loss(W)\n",
    "    grad_2 = (fxh -fx) / h\n",
    "    W[0][1] = tmp\n",
    "    tmp = W[1]\n",
    "    fx = loss(W)\n",
    "    W[1] = tmp + h\n",
    "    fxh = loss(W)\n",
    "    grad_b = (fxh-fx) /h\n",
    "    w_ = np.c_[grad_1,grad_2].T\n",
    "    grad = np.array((w_,grad_b))\n",
    "    return grad\n",
    "    "
   ]
  },
  {
   "cell_type": "code",
   "execution_count": 241,
   "id": "11293648-7552-4d31-ba70-6cc16bf20d57",
   "metadata": {},
   "outputs": [
    {
     "name": "stderr",
     "output_type": "stream",
     "text": [
      "C:\\Users\\USER\\AppData\\Local\\Temp\\ipykernel_3944\\1451833634.py:27: VisibleDeprecationWarning: Creating an ndarray from ragged nested sequences (which is a list-or-tuple of lists-or-tuples-or ndarrays with different lengths or shapes) is deprecated. If you meant to do this, you must specify 'dtype=object' when creating the ndarray.\n",
      "  grad = np.array((w_,grad_b))\n"
     ]
    },
    {
     "data": {
      "text/plain": [
       "array([array([[ 385.17687237],\n",
       "              [-141.88387897]]), -3995.3597937710583], dtype=object)"
      ]
     },
     "execution_count": 241,
     "metadata": {},
     "output_type": "execute_result"
    }
   ],
   "source": [
    "grad(W)"
   ]
  },
  {
   "cell_type": "code",
   "execution_count": 242,
   "id": "dc888303-f440-4391-a64a-8c24c89ef17c",
   "metadata": {},
   "outputs": [
    {
     "name": "stderr",
     "output_type": "stream",
     "text": [
      "C:\\Users\\USER\\AppData\\Local\\Temp\\ipykernel_3944\\1451833634.py:27: VisibleDeprecationWarning: Creating an ndarray from ragged nested sequences (which is a list-or-tuple of lists-or-tuples-or ndarrays with different lengths or shapes) is deprecated. If you meant to do this, you must specify 'dtype=object' when creating the ndarray.\n",
      "  grad = np.array((w_,grad_b))\n"
     ]
    }
   ],
   "source": [
    "for i in range(10000):\n",
    "    W[0] = W[0] - 1e-3*grad(W)[0]\n",
    "    W[1] = W[1] - 1e-3*grad(W)[1]"
   ]
  },
  {
   "cell_type": "code",
   "execution_count": 243,
   "id": "2ae36188-2ff1-4a06-b15e-c848b96fabe7",
   "metadata": {},
   "outputs": [
    {
     "data": {
      "text/plain": [
       "array([array([[ 8.04775641],\n",
       "              [-6.93765926]]), 1000.0272010020144], dtype=object)"
      ]
     },
     "execution_count": 243,
     "metadata": {},
     "output_type": "execute_result"
    }
   ],
   "source": [
    "W"
   ]
  },
  {
   "cell_type": "code",
   "execution_count": 244,
   "id": "9541325e-6d9c-4e34-b6d1-795ca37d4189",
   "metadata": {},
   "outputs": [],
   "source": [
    "#  저 위의 grad를 for문으로 바꿔보자"
   ]
  },
  {
   "cell_type": "code",
   "execution_count": 297,
   "id": "9b1062b3-af50-4901-beb7-8c7c4484864c",
   "metadata": {},
   "outputs": [],
   "source": [
    "X = np.random.randn(100,2)\n",
    "W = np.array([[8],[-7]])\n",
    "y = np.dot(X,W) + 1000"
   ]
  },
  {
   "cell_type": "code",
   "execution_count": 298,
   "id": "7a020d28-a261-4617-a2d4-f190fd0678ff",
   "metadata": {},
   "outputs": [
    {
     "name": "stderr",
     "output_type": "stream",
     "text": [
      "C:\\Users\\USER\\AppData\\Local\\Temp\\ipykernel_3944\\1050238314.py:3: VisibleDeprecationWarning: Creating an ndarray from ragged nested sequences (which is a list-or-tuple of lists-or-tuples-or ndarrays with different lengths or shapes) is deprecated. If you meant to do this, you must specify 'dtype=object' when creating the ndarray.\n",
      "  W = np.array((w,b))\n"
     ]
    }
   ],
   "source": [
    "w = np.random.randn(2,1)\n",
    "b = 0\n",
    "W = np.array((w,b))"
   ]
  },
  {
   "cell_type": "code",
   "execution_count": 299,
   "id": "7c75980d-6d8c-419d-bde5-d9d7ad0b08d4",
   "metadata": {},
   "outputs": [],
   "source": [
    "def grad(W):\n",
    "    h = 1e-4\n",
    "    grad_w = np.zeros_like(W[0])\n",
    "    for i in range(W[0].shape[0]):\n",
    "        for j in range(W[0].shape[1]):\n",
    "            tmp = W[0][i,j]\n",
    "            fx = loss(W)\n",
    "            W[0][i,j] = tmp+h\n",
    "            fxh = loss(W)\n",
    "            grad_w[i,j] = (fxh-fx)/h\n",
    "            W[0][i,j] = tmp\n",
    "    tmp = W[1]\n",
    "    fx = loss(W)\n",
    "    W[1] = tmp+h\n",
    "    fxh = loss(W)\n",
    "    grad_b = (fxh-fx)/h\n",
    "    W[1] = tmp\n",
    "    grad = np.array((grad_w,grad_b))\n",
    "    return grad"
   ]
  },
  {
   "cell_type": "code",
   "execution_count": 300,
   "id": "e03e2701-9318-43ab-ad3b-ccedb86d9217",
   "metadata": {},
   "outputs": [
    {
     "name": "stderr",
     "output_type": "stream",
     "text": [
      "C:\\Users\\USER\\AppData\\Local\\Temp\\ipykernel_3944\\2015249953.py:18: VisibleDeprecationWarning: Creating an ndarray from ragged nested sequences (which is a list-or-tuple of lists-or-tuples-or ndarrays with different lengths or shapes) is deprecated. If you meant to do this, you must specify 'dtype=object' when creating the ndarray.\n",
      "  grad = np.array((grad_w,grad_b))\n"
     ]
    }
   ],
   "source": [
    "for i in range(10000):\n",
    "    W[0] = W[0] - 1e-3*grad(W)[0]\n",
    "    W[1] = W[1] - 1e-3*grad(W)[1]"
   ]
  },
  {
   "cell_type": "code",
   "execution_count": 305,
   "id": "bfb4766f-e98c-4149-b6dd-a119ae4148e7",
   "metadata": {},
   "outputs": [
    {
     "data": {
      "text/plain": [
       "array([array([[ 7.99995455],\n",
       "              [-7.00006139]]), 999.9999447228346], dtype=object)"
      ]
     },
     "execution_count": 305,
     "metadata": {},
     "output_type": "execute_result"
    }
   ],
   "source": [
    "W\n",
    "\n",
    "# 병신같이 W구해놓고 w가 왜 안나오지 하지말기"
   ]
  },
  {
   "cell_type": "code",
   "execution_count": 408,
   "id": "6ef63feb-ea6a-4e6e-b240-b0693ac554dc",
   "metadata": {},
   "outputs": [],
   "source": [
    "###################################################################이 밑으로는 안된다고 생각하고 다시 해보기##########################################################################"
   ]
  },
  {
   "cell_type": "code",
   "execution_count": 3,
   "id": "da230edf-1468-4426-91db-a408c6641c2b",
   "metadata": {},
   "outputs": [],
   "source": [
    "X = np.random.randn(100,3)\n",
    "w1 = np.random.randn(3,10)\n",
    "b1 = np.random.randn(1,10)\n",
    "w2 = np.random.randn(10,1)\n",
    "b2 = np.random.randn(1,1)\n",
    "y = np.dot(X,w1) + b1\n",
    "y = np.dot(y,w2) + b2"
   ]
  },
  {
   "cell_type": "code",
   "execution_count": 4,
   "id": "c91ff76d-699a-46ba-8f91-12262c524e42",
   "metadata": {},
   "outputs": [],
   "source": [
    "W = [\n",
    "    [w1,b1],\n",
    "    [w2,b2]\n",
    "]"
   ]
  },
  {
   "cell_type": "code",
   "execution_count": 5,
   "id": "5df2c53a-760a-4e40-a9ba-2d3ef44e5095",
   "metadata": {},
   "outputs": [],
   "source": [
    "def predict(W):\n",
    "    y_hat = X.copy()\n",
    "    for i in range(len(W)):\n",
    "        y_hat = np.dot(y_hat,W[i][0]) + W[i][1]\n",
    "    return y_hat\n",
    "\n",
    "def loss(W):\n",
    "    y_hat = predict(W)\n",
    "    return np.mean((y_hat-y)**2)\n",
    "\n",
    "def grad(W):\n",
    "    h = 1e-4\n",
    "    grad_ = []\n",
    "    for i in range(len(W)):\n",
    "        grad_w = np.zeros_like(W[i][0])\n",
    "        for row in range(W[i][0].shape[0]):\n",
    "            for col in range(W[i][0].shape[1]):\n",
    "                tmp = W[i][0][row,col]\n",
    "                fx = loss(W)\n",
    "                W[i][0][row,col] = tmp+h\n",
    "                fxh = loss(W)\n",
    "                grad_w[row,col] = (fxh-fx)/h\n",
    "                W[i][0][row,col] = tmp\n",
    "        grad_b = []\n",
    "        for row in range(W[i][1].size):\n",
    "            tmp = W[i][1][:,row]\n",
    "            fx = loss(W)\n",
    "            W[i][1][:,row] = tmp+h\n",
    "            fxh = loss(W)\n",
    "            grad_b.append((fxh-fx)/h)\n",
    "            W[i][1][:,row] = tmp\n",
    "        grad_b = np.array(grad_b).reshape(1,-1)\n",
    "        grad_tmp = [grad_w,grad_b]\n",
    "        grad_.append(grad_tmp)\n",
    "    return grad_"
   ]
  },
  {
   "cell_type": "code",
   "execution_count": 7,
   "id": "2f6d6f08-43f7-4183-a673-9104a5631c39",
   "metadata": {},
   "outputs": [],
   "source": [
    "def net(values):\n",
    "    net = []\n",
    "    row = X.shape[1]\n",
    "    for value in values: \n",
    "        w = np.random.randn(row,value)\n",
    "        b = np.random.randn(1,value)\n",
    "        row = value\n",
    "        tmp = [w,b]\n",
    "        net.append(tmp)\n",
    "    return net"
   ]
  },
  {
   "cell_type": "code",
   "execution_count": 8,
   "id": "b04cd025-154d-49c4-b4b7-132c37fe3662",
   "metadata": {},
   "outputs": [],
   "source": [
    "X = np.random.randn(10000,200)\n",
    "W = net([30,100,1])"
   ]
  },
  {
   "cell_type": "code",
   "execution_count": 9,
   "id": "36789483-cc9e-450e-887a-f6aece65fd87",
   "metadata": {},
   "outputs": [],
   "source": [
    "y = predict(W)"
   ]
  },
  {
   "cell_type": "code",
   "execution_count": 11,
   "id": "d5941772-3334-403a-abf5-98c0f4fccf3d",
   "metadata": {},
   "outputs": [],
   "source": [
    "# for i in range(10):\n",
    "#     for j in range(len(W)):\n",
    "#         W[j][0] = W[j][0] - 1e-3*grad(W)[j][0]\n",
    "#         W[j][1] = W[j][1] - 1e-3*grad(W)[j][1]\n",
    "        \n",
    "# 돌리면 나오긴 하는데 2시간 걸린다"
   ]
  },
  {
   "cell_type": "code",
   "execution_count": null,
   "id": "8a34f0d0-3861-4f8b-95b7-6eb4a6442bd2",
   "metadata": {},
   "outputs": [],
   "source": [
    "오우;;\\"
   ]
  }
 ],
 "metadata": {
  "kernelspec": {
   "display_name": "donga",
   "language": "python",
   "name": "donga"
  },
  "language_info": {
   "codemirror_mode": {
    "name": "ipython",
    "version": 3
   },
   "file_extension": ".py",
   "mimetype": "text/x-python",
   "name": "python",
   "nbconvert_exporter": "python",
   "pygments_lexer": "ipython3",
   "version": "3.9.13"
  }
 },
 "nbformat": 4,
 "nbformat_minor": 5
}
