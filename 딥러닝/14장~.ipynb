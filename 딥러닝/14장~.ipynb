{
 "cells": [
  {
   "cell_type": "code",
   "execution_count": 1,
   "id": "60e9ca42-4ba6-4664-8f98-ba787a57abc1",
   "metadata": {},
   "outputs": [],
   "source": [
    "#"
   ]
  },
  {
   "cell_type": "code",
   "execution_count": 106,
   "id": "faf6f27c-16ce-47ec-8ee6-41e5eeaca2ca",
   "metadata": {},
   "outputs": [],
   "source": [
    "import numpy as np\n",
    "import tensorflow as tf\n",
    "from tensorflow import keras\n",
    "import matplotlib.pyplot as plt"
   ]
  },
  {
   "cell_type": "code",
   "execution_count": 46,
   "id": "507811e5-8929-4210-9f23-937960ea5970",
   "metadata": {},
   "outputs": [],
   "source": [
    "from tensorflow.keras import Model"
   ]
  },
  {
   "cell_type": "code",
   "execution_count": 47,
   "id": "65dd5372-46d2-46eb-98b8-7d0788e735ea",
   "metadata": {},
   "outputs": [],
   "source": [
    "from tensorflow.keras.models import Sequential\n",
    "from tensorflow.keras import layers"
   ]
  },
  {
   "cell_type": "code",
   "execution_count": 48,
   "id": "c21a3970-6d44-4c50-9fdd-65d3b531f061",
   "metadata": {},
   "outputs": [],
   "source": [
    "model = Sequential()"
   ]
  },
  {
   "cell_type": "code",
   "execution_count": 49,
   "id": "c501ce24-a8d5-43b1-9cd1-b9fe6b0f3406",
   "metadata": {},
   "outputs": [],
   "source": [
    "# dense는 꼭 알아 둘것"
   ]
  },
  {
   "cell_type": "code",
   "execution_count": 50,
   "id": "6b211371-99df-4f17-802d-ecf66829865f",
   "metadata": {},
   "outputs": [],
   "source": [
    "model.add(layers.Dense(100,activation='relu',input_shape=[10]))"
   ]
  },
  {
   "cell_type": "code",
   "execution_count": 51,
   "id": "a6aaf68a-0783-4628-9493-bd7b0256200c",
   "metadata": {},
   "outputs": [
    {
     "name": "stdout",
     "output_type": "stream",
     "text": [
      "Model: \"sequential_8\"\n",
      "_________________________________________________________________\n",
      " Layer (type)                Output Shape              Param #   \n",
      "=================================================================\n",
      " dense_30 (Dense)            (None, 100)               1100      \n",
      "                                                                 \n",
      "=================================================================\n",
      "Total params: 1,100\n",
      "Trainable params: 1,100\n",
      "Non-trainable params: 0\n",
      "_________________________________________________________________\n"
     ]
    }
   ],
   "source": [
    "model.summary()"
   ]
  },
  {
   "cell_type": "code",
   "execution_count": 52,
   "id": "9ff601b1-7a4c-474a-bba0-5fcfe2808acb",
   "metadata": {},
   "outputs": [],
   "source": [
    "# # # # # # # # # # # # # # # # # # # # # # # # # # # # # # # # # # # # # # # # # # # "
   ]
  },
  {
   "cell_type": "code",
   "execution_count": 53,
   "id": "71efb962-f73d-41cd-80b6-09b6e1699bfc",
   "metadata": {},
   "outputs": [],
   "source": [
    "from tensorflow.keras.models import Sequential\n",
    "from tensorflow.keras import layers\n",
    "from tensorflow.keras.layers import Dense, Conv2D"
   ]
  },
  {
   "cell_type": "code",
   "execution_count": 54,
   "id": "8461e7b1-7aa1-4749-a473-06b475e09fef",
   "metadata": {},
   "outputs": [],
   "source": [
    "model = Sequential()\n",
    "model.add(layers.Dense(100,activation='relu',input_shape=[10]))\n",
    "model.add(Dense(50,activation='relu'))\n",
    "model.add(Dense(10,activation='softmax'))"
   ]
  },
  {
   "cell_type": "code",
   "execution_count": 55,
   "id": "393cf956-f060-4835-8f73-2108a566d9a6",
   "metadata": {},
   "outputs": [],
   "source": [
    "model1 = Sequential(\n",
    "    [\n",
    "        Dense(100,activation='relu',input_shape=[10]),\n",
    "        Dense(50,activation='relu'),\n",
    "        Dense(10,activation='softmax')\n",
    "    ]\n",
    ")"
   ]
  },
  {
   "cell_type": "code",
   "execution_count": 56,
   "id": "80b8f04d-50d2-4062-b7fd-19685a229973",
   "metadata": {},
   "outputs": [],
   "source": [
    "l1 = Dense(100,activation='relu',input_shape=[10])\n",
    "l2 = Dense(50,activation='relu')\n",
    "out = Dense(10,activation='relu')\n",
    "model2 = Sequential([l1,l2,out])"
   ]
  },
  {
   "cell_type": "code",
   "execution_count": 57,
   "id": "6e84d6a2-8ae2-47db-ba66-b8bc8f765a2d",
   "metadata": {},
   "outputs": [],
   "source": [
    "################################################################################"
   ]
  },
  {
   "cell_type": "code",
   "execution_count": 58,
   "id": "ae4cf572-8e55-4983-8a40-e95df650f9ae",
   "metadata": {},
   "outputs": [],
   "source": [
    "# 함수형 에러난다."
   ]
  },
  {
   "cell_type": "code",
   "execution_count": 59,
   "id": "3aef9b8e-44ac-4717-811c-84b2c914502b",
   "metadata": {},
   "outputs": [],
   "source": [
    "# 연습용 코드"
   ]
  },
  {
   "cell_type": "code",
   "execution_count": 60,
   "id": "d9fe09ea-b50a-414d-9ad1-d78d595f7bf1",
   "metadata": {},
   "outputs": [],
   "source": [
    "model = Sequential(\n",
    "    [\n",
    "        Dense(100,activation='relu',input_shape=(50,)),\n",
    "        Dense(200,activation='relu'),\n",
    "        Dense(300,activation='relu'),\n",
    "        Dense(3,activation='softmax'),\n",
    "    ]\n",
    ")"
   ]
  },
  {
   "cell_type": "code",
   "execution_count": 61,
   "id": "9756ba92-ec45-4e9e-88a2-232d6b4c4e9d",
   "metadata": {},
   "outputs": [
    {
     "name": "stdout",
     "output_type": "stream",
     "text": [
      "Model: \"sequential_12\"\n",
      "_________________________________________________________________\n",
      " Layer (type)                Output Shape              Param #   \n",
      "=================================================================\n",
      " dense_40 (Dense)            (None, 100)               5100      \n",
      "                                                                 \n",
      " dense_41 (Dense)            (None, 200)               20200     \n",
      "                                                                 \n",
      " dense_42 (Dense)            (None, 300)               60300     \n",
      "                                                                 \n",
      " dense_43 (Dense)            (None, 3)                 903       \n",
      "                                                                 \n",
      "=================================================================\n",
      "Total params: 86,503\n",
      "Trainable params: 86,503\n",
      "Non-trainable params: 0\n",
      "_________________________________________________________________\n"
     ]
    }
   ],
   "source": [
    "model.summary()"
   ]
  },
  {
   "cell_type": "code",
   "execution_count": 62,
   "id": "55a4b2c5-3fee-434a-81fc-44c795e4e2fd",
   "metadata": {},
   "outputs": [],
   "source": [
    "##########"
   ]
  },
  {
   "cell_type": "code",
   "execution_count": 63,
   "id": "dbf45fdc-bb67-424f-bea9-0a296cac903a",
   "metadata": {},
   "outputs": [],
   "source": [
    "from tensorflow.keras.activations import relu"
   ]
  },
  {
   "cell_type": "code",
   "execution_count": 69,
   "id": "33f104c3-c338-48be-9a8a-b72b400948d4",
   "metadata": {},
   "outputs": [],
   "source": [
    "model = Sequential(\n",
    "    [\n",
    "        Dense(100,activation=keras.activations.relu),\n",
    "        Dense(100,activation=keras.activations.relu,\n",
    "              kernel_initializer=keras.initializers.GlorotNormal()),\n",
    "        Dense(100,activation=keras.activations.relu,\n",
    "               kernel_regularizer=tf.keras.regularizers.l1),\n",
    "        Dense(100,activation=keras.activations.relu,\n",
    "         kernel_regularizer=tf.keras.regularizers.l2),\n",
    "    ]\n",
    ")\n",
    "model.build(input_shape=(None,50))"
   ]
  },
  {
   "cell_type": "code",
   "execution_count": 67,
   "id": "752c841d-f492-4fca-83ec-95b299591468",
   "metadata": {},
   "outputs": [],
   "source": [
    "# "
   ]
  },
  {
   "cell_type": "code",
   "execution_count": 95,
   "id": "5c19a47d-bd79-4574-a25c-5cdfcdf640ba",
   "metadata": {},
   "outputs": [],
   "source": [
    "import tensorflow\n",
    "from tensorflow import keras\n",
    "from keras.datasets import fashion_mnist"
   ]
  },
  {
   "cell_type": "code",
   "execution_count": 96,
   "id": "31c8bc9f-11bf-469f-805c-7ebe83dea22f",
   "metadata": {},
   "outputs": [],
   "source": [
    "(X_train, y_train), (X_test,y_test) = fashion_mnist.load_data()"
   ]
  },
  {
   "cell_type": "code",
   "execution_count": 97,
   "id": "dc88b121-bd8c-4326-aa2c-f0137d1dfdfe",
   "metadata": {},
   "outputs": [],
   "source": [
    "from keras.utils.np_utils import to_categorical\n",
    "X_train = X_train.reshape(-1,28*28)\n",
    "y_train = to_categorical(y_train)"
   ]
  },
  {
   "cell_type": "code",
   "execution_count": 98,
   "id": "db16a89e-5b14-4cb4-9b73-623f476a8cc1",
   "metadata": {},
   "outputs": [
    {
     "data": {
      "text/plain": [
       "((60000, 784), (60000, 10))"
      ]
     },
     "execution_count": 98,
     "metadata": {},
     "output_type": "execute_result"
    }
   ],
   "source": [
    "X_train.shape , y_train.shape"
   ]
  },
  {
   "cell_type": "code",
   "execution_count": 99,
   "id": "7380fb42-6da8-46b6-9be5-35761bf67df9",
   "metadata": {},
   "outputs": [],
   "source": [
    "model = Sequential(\n",
    "    [\n",
    "        Dense(1024,activation='relu',input_shape=(784,)),\n",
    "        Dense(256,activation='relu'),\n",
    "        Dense(10,activation='softmax')\n",
    "    ]\n",
    ")"
   ]
  },
  {
   "cell_type": "code",
   "execution_count": 100,
   "id": "58e35a5b-116e-40bb-b11f-e49dc0bb2244",
   "metadata": {},
   "outputs": [],
   "source": [
    "optimizer = 'rmsprop'\n",
    "loss = 'categorical_crossentropy'\n",
    "metrics = ['accuracy']\n",
    "model.compile(\n",
    "    optimizer=optimizer,\n",
    "    loss = loss,\n",
    "    metrics = metrics\n",
    ")"
   ]
  },
  {
   "cell_type": "code",
   "execution_count": 101,
   "id": "b37cbb42-4d77-494d-9379-b9ba6c7277b0",
   "metadata": {},
   "outputs": [
    {
     "name": "stdout",
     "output_type": "stream",
     "text": [
      "Epoch 1/10\n",
      "1875/1875 [==============================] - 14s 7ms/step - loss: 4.1228 - accuracy: 0.6744\n",
      "Epoch 2/10\n",
      "1875/1875 [==============================] - 14s 7ms/step - loss: 0.9324 - accuracy: 0.7249\n",
      "Epoch 3/10\n",
      "1875/1875 [==============================] - 14s 7ms/step - loss: 0.9476 - accuracy: 0.7348\n",
      "Epoch 4/10\n",
      "1875/1875 [==============================] - 14s 7ms/step - loss: 0.9285 - accuracy: 0.7393\n",
      "Epoch 5/10\n",
      "1875/1875 [==============================] - 14s 8ms/step - loss: 1.0007 - accuracy: 0.7274\n",
      "Epoch 6/10\n",
      "1875/1875 [==============================] - 14s 8ms/step - loss: 1.0108 - accuracy: 0.7326\n",
      "Epoch 7/10\n",
      "1875/1875 [==============================] - 14s 8ms/step - loss: 1.0990 - accuracy: 0.7051\n",
      "Epoch 8/10\n",
      "1875/1875 [==============================] - 14s 8ms/step - loss: 1.1355 - accuracy: 0.6910\n",
      "Epoch 9/10\n",
      "1875/1875 [==============================] - 14s 8ms/step - loss: 1.1710 - accuracy: 0.6794\n",
      "Epoch 10/10\n",
      "1875/1875 [==============================] - 14s 8ms/step - loss: 1.2787 - accuracy: 0.6530\n"
     ]
    },
    {
     "data": {
      "text/plain": [
       "<keras.callbacks.History at 0x2176f4f64f0>"
      ]
     },
     "execution_count": 101,
     "metadata": {},
     "output_type": "execute_result"
    }
   ],
   "source": [
    "model.fit(X_train, \n",
    "         y_train,\n",
    "         epochs=10)"
   ]
  },
  {
   "cell_type": "code",
   "execution_count": 103,
   "id": "3792b86a-1587-473c-a15e-4b9b1c754d2b",
   "metadata": {},
   "outputs": [
    {
     "data": {
      "text/plain": [
       "[4.12277364730835,\n",
       " 0.9323686957359314,\n",
       " 0.947603702545166,\n",
       " 0.9284619688987732,\n",
       " 1.0006542205810547,\n",
       " 1.0107831954956055,\n",
       " 1.099008321762085,\n",
       " 1.1354873180389404,\n",
       " 1.1710031032562256,\n",
       " 1.2786661386489868]"
      ]
     },
     "execution_count": 103,
     "metadata": {},
     "output_type": "execute_result"
    }
   ],
   "source": [
    "model.history.history['loss']"
   ]
  },
  {
   "cell_type": "code",
   "execution_count": 107,
   "id": "e7d2383f-424d-4c3c-95a7-04f17cca880c",
   "metadata": {},
   "outputs": [
    {
     "data": {
      "text/plain": [
       "[<matplotlib.lines.Line2D at 0x2176c5a7910>]"
      ]
     },
     "execution_count": 107,
     "metadata": {},
     "output_type": "execute_result"
    },
    {
     "data": {
      "image/png": "[encoded data removed]",
      "text/plain": [
       "<Figure size 640x480 with 1 Axes>"
      ]
     },
     "metadata": {},
     "output_type": "display_data"
    }
   ],
   "source": [
    "plt.plot(np.arange(1,11),model.history.history['loss'])"
   ]
  },
  {
   "cell_type": "code",
   "execution_count": 105,
   "id": "6dd98698-2d14-4ee7-95b2-e83444a65192",
   "metadata": {},
   "outputs": [
    {
     "data": {
      "text/plain": [
       "[0.6743666529655457,\n",
       " 0.7249166369438171,\n",
       " 0.7348333597183228,\n",
       " 0.7392833232879639,\n",
       " 0.7273666858673096,\n",
       " 0.7325666546821594,\n",
       " 0.7050999999046326,\n",
       " 0.6909666657447815,\n",
       " 0.6793666481971741,\n",
       " 0.6529833078384399]"
      ]
     },
     "execution_count": 105,
     "metadata": {},
     "output_type": "execute_result"
    }
   ],
   "source": [
    "model.history.history['accuracy']"
   ]
  },
  {
   "cell_type": "code",
   "execution_count": 108,
   "id": "5dcf01b5-64fc-4233-bd96-798a6a067a51",
   "metadata": {},
   "outputs": [],
   "source": [
    "###################################"
   ]
  },
  {
   "cell_type": "code",
   "execution_count": 114,
   "id": "4602442d-b9ea-465b-b07c-2ce42b232f01",
   "metadata": {},
   "outputs": [],
   "source": [
    "class MyModel(keras.models.Model):\n",
    "    def __init__(self):\n",
    "        super(MyModel,self).__init__()\n",
    "        self.h1 = Dense(100,activation='relu')\n",
    "        self.h2 = Dense(50,activation='relu')\n",
    "        self.h3 = Dense(60,activation='relu')\n",
    "        self.out = Dense(10,activation='softmax')\n",
    "    def call(self,inputs):\n",
    "        h = self.h1(inputs)\n",
    "        h = self.h2(h)\n",
    "        h = self.h3(h)\n",
    "        self.outputs = self.out(h)\n",
    "        return self.outputs"
   ]
  },
  {
   "cell_type": "code",
   "execution_count": 115,
   "id": "97115b2e-7d37-4596-94ef-616cf2ef3478",
   "metadata": {},
   "outputs": [],
   "source": [
    "model = MyModel()"
   ]
  },
  {
   "cell_type": "code",
   "execution_count": 116,
   "id": "d2b96f88-faf3-4423-96cc-4cdd73eebbf8",
   "metadata": {},
   "outputs": [],
   "source": [
    "model.build(input_shape=(None, 784))"
   ]
  },
  {
   "cell_type": "code",
   "execution_count": 117,
   "id": "955ac94a-a8a3-4f8d-a2f5-81d152af15d6",
   "metadata": {},
   "outputs": [],
   "source": [
    "from keras.optimizers import Adam\n",
    "from keras.losses import CategoricalCrossentropy\n",
    "from keras.metrics import Accuracy"
   ]
  },
  {
   "cell_type": "code",
   "execution_count": 118,
   "id": "b04ff943-14d5-40d3-ac15-197a59a6c83c",
   "metadata": {},
   "outputs": [
    {
     "name": "stdout",
     "output_type": "stream",
     "text": [
      "Epoch 1/2\n",
      "1875/1875 [==============================] - 3s 1ms/step - loss: 1.3913 - accuracy: 0.7448\n",
      "Epoch 2/2\n",
      "1875/1875 [==============================] - 3s 1ms/step - loss: 0.5534 - accuracy: 0.8070\n"
     ]
    },
    {
     "data": {
      "text/plain": [
       "<keras.callbacks.History at 0x2176f4eb1c0>"
      ]
     },
     "execution_count": 118,
     "metadata": {},
     "output_type": "execute_result"
    }
   ],
   "source": [
    "model.compile(optimizer=Adam(),\n",
    "              loss='categorical_crossentropy',\n",
    "             metrics=['accuracy'])\n",
    "model.fit(X_train,\n",
    "         y_train,\n",
    "         epochs=2)"
   ]
  },
  {
   "cell_type": "code",
   "execution_count": 120,
   "id": "cfe1407d-e306-42db-b2b2-71b475564941",
   "metadata": {},
   "outputs": [
    {
     "data": {
      "text/plain": [
       "(60000, 784)"
      ]
     },
     "execution_count": 120,
     "metadata": {},
     "output_type": "execute_result"
    }
   ],
   "source": [
    "X_train.shape"
   ]
  },
  {
   "cell_type": "code",
   "execution_count": 122,
   "id": "2b1a5e81-01da-4928-8de6-9f3be1a675db",
   "metadata": {},
   "outputs": [
    {
     "data": {
      "text/plain": [
       "<matplotlib.image.AxesImage at 0x2176e7e3970>"
      ]
     },
     "execution_count": 122,
     "metadata": {},
     "output_type": "execute_result"
    },
    {
     "data": {
      "image/png": "[encoded data removed]",
      "text/plain": [
       "<Figure size 640x480 with 1 Axes>"
      ]
     },
     "metadata": {},
     "output_type": "display_data"
    }
   ],
   "source": [
    "plt.imshow(X_train[0].reshape(28,28))"
   ]
  },
  {
   "cell_type": "code",
   "execution_count": 119,
   "id": "8d3952e8-2371-4efc-92fe-8a806df006d6",
   "metadata": {},
   "outputs": [],
   "source": [
    "#################################################################"
   ]
  },
  {
   "cell_type": "code",
   "execution_count": 141,
   "id": "88144264-675d-4e86-bca9-401969a46b04",
   "metadata": {},
   "outputs": [],
   "source": [
    "from keras.datasets import mnist"
   ]
  },
  {
   "cell_type": "code",
   "execution_count": 142,
   "id": "87a7eb02-7269-49aa-8a37-c1a7d22a94e9",
   "metadata": {},
   "outputs": [],
   "source": [
    "(X_train, y_train), (_,_) = mnist.load_data()"
   ]
  },
  {
   "cell_type": "code",
   "execution_count": 143,
   "id": "db3b8636-6b66-4de4-8f3f-cb7d83337ecc",
   "metadata": {},
   "outputs": [
    {
     "data": {
      "text/plain": [
       "(60000, 28, 28)"
      ]
     },
     "execution_count": 143,
     "metadata": {},
     "output_type": "execute_result"
    }
   ],
   "source": [
    "X_train.shape"
   ]
  },
  {
   "cell_type": "code",
   "execution_count": 144,
   "id": "fc5eeef1-aceb-40ee-815d-513a21621947",
   "metadata": {},
   "outputs": [],
   "source": [
    "y_train = to_categorical(y_train)"
   ]
  },
  {
   "cell_type": "code",
   "execution_count": 145,
   "id": "021468a6-875c-476a-9d59-79502d6a23a3",
   "metadata": {},
   "outputs": [],
   "source": [
    "X_train = X_train[:5000,:,:]"
   ]
  },
  {
   "cell_type": "code",
   "execution_count": 146,
   "id": "2a047f31-89d5-4c1f-950b-3da67f23bea5",
   "metadata": {},
   "outputs": [],
   "source": [
    "y_train = y_train[:5000,:]"
   ]
  },
  {
   "cell_type": "code",
   "execution_count": 147,
   "id": "4a0eb8af-7e3c-4dbf-bc50-a5d32a1fe0a4",
   "metadata": {},
   "outputs": [],
   "source": [
    "# flatten으로 펴줘야 학습이 된단다\n",
    "from tensorflow.keras.layers import Flatten\n",
    "\n",
    "model = Sequential(\n",
    "    [\n",
    "        Flatten(input_shape=(28,28)),\n",
    "        Dense(100,activation='relu'),\n",
    "        Dense(50,activation='relu'),\n",
    "        Dense(10,activation='softmax')\n",
    "    ]\n",
    ")"
   ]
  },
  {
   "cell_type": "code",
   "execution_count": 148,
   "id": "7eb88311-a30e-4cad-9a84-24b0007b4bc6",
   "metadata": {},
   "outputs": [],
   "source": [
    "model.build(input_shape=(28,28))"
   ]
  },
  {
   "cell_type": "code",
   "execution_count": 149,
   "id": "2ee4a22d-4443-4c63-aad0-81f144177e04",
   "metadata": {},
   "outputs": [],
   "source": [
    "model.compile(optimizer='adam',\n",
    "             loss='categorical_crossentropy',\n",
    "             metrics=['accuracy'])"
   ]
  },
  {
   "cell_type": "code",
   "execution_count": 150,
   "id": "8c1dd177-dcc6-429c-959e-2b949c3f3cd8",
   "metadata": {},
   "outputs": [
    {
     "name": "stdout",
     "output_type": "stream",
     "text": [
      "Epoch 1/2\n",
      "157/157 [==============================] - 1s 2ms/step - loss: 8.8338 - accuracy: 0.6774\n",
      "Epoch 2/2\n",
      "157/157 [==============================] - 0s 2ms/step - loss: 1.6064 - accuracy: 0.8326\n"
     ]
    },
    {
     "data": {
      "text/plain": [
       "<keras.callbacks.History at 0x217738085e0>"
      ]
     },
     "execution_count": 150,
     "metadata": {},
     "output_type": "execute_result"
    }
   ],
   "source": [
    "model.fit(X_train,y_train,epochs=2)"
   ]
  },
  {
   "cell_type": "code",
   "execution_count": 151,
   "id": "b7b9c0b4-bdb3-4f88-9694-f0379f91256c",
   "metadata": {},
   "outputs": [
    {
     "name": "stdout",
     "output_type": "stream",
     "text": [
      "Model: \"sequential_21\"\n",
      "_________________________________________________________________\n",
      " Layer (type)                Output Shape              Param #   \n",
      "=================================================================\n",
      " flatten_1 (Flatten)         (None, 784)               0         \n",
      "                                                                 \n",
      " dense_81 (Dense)            (None, 100)               78500     \n",
      "                                                                 \n",
      " dense_82 (Dense)            (None, 50)                5050      \n",
      "                                                                 \n",
      " dense_83 (Dense)            (None, 10)                510       \n",
      "                                                                 \n",
      "=================================================================\n",
      "Total params: 84,060\n",
      "Trainable params: 84,060\n",
      "Non-trainable params: 0\n",
      "_________________________________________________________________\n"
     ]
    }
   ],
   "source": [
    "model.summary()"
   ]
  },
  {
   "cell_type": "code",
   "execution_count": 152,
   "id": "f45e3f50-c7df-4d25-a44e-a763f7282082",
   "metadata": {},
   "outputs": [],
   "source": [
    "##############################################################"
   ]
  },
  {
   "cell_type": "code",
   "execution_count": 190,
   "id": "426b82be-23c6-4c8b-a17e-33ccadc4f6e3",
   "metadata": {},
   "outputs": [],
   "source": [
    "(X_train,y_train), (X_test,y_test) = mnist.load_data()"
   ]
  },
  {
   "cell_type": "code",
   "execution_count": 191,
   "id": "17e7f63d-19ba-4d91-a333-f7240b8190f9",
   "metadata": {},
   "outputs": [],
   "source": [
    "y_train = to_categorical(y_train)\n",
    "y_test = to_categorical(y_test)"
   ]
  },
  {
   "cell_type": "code",
   "execution_count": 192,
   "id": "8da1db15-96f3-4b7a-817e-ac10a314071d",
   "metadata": {},
   "outputs": [],
   "source": [
    "from keras.activations import relu, sigmoid, softmax, tanh\n",
    "model = Sequential(\n",
    "    [\n",
    "        \n",
    "        Flatten(input_shape=(X_train.shape[1:])),\n",
    "        Dense(256,activation=sigmoid),\n",
    "        Dense(128,activation=relu),\n",
    "        Dense(64,activation=relu),\n",
    "        Dense(10,activation=softmax)\n",
    "    ]\n",
    ")"
   ]
  },
  {
   "cell_type": "code",
   "execution_count": 193,
   "id": "4f12f975-a3d3-428f-b0a9-b32892fcd59d",
   "metadata": {},
   "outputs": [],
   "source": [
    "tmp1 = np.zeros_like(model.layers[1].get_weights()[0])\n",
    "tmp2 = np.zeros_like(model.layers[1].get_weights()[1])"
   ]
  },
  {
   "cell_type": "code",
   "execution_count": 194,
   "id": "58bfce4e-0e0e-4479-85a2-2a1bf9fd9a78",
   "metadata": {},
   "outputs": [],
   "source": [
    "model.layers[1].set_weights([tmp1,tmp2])"
   ]
  },
  {
   "cell_type": "code",
   "execution_count": 196,
   "id": "3b7cc239-b560-4349-9853-7425c16e086d",
   "metadata": {},
   "outputs": [
    {
     "data": {
      "text/plain": [
       "<bound method Layer.set_weights of <keras.layers.core.dense.Dense object at 0x0000021773396280>>"
      ]
     },
     "execution_count": 196,
     "metadata": {},
     "output_type": "execute_result"
    }
   ],
   "source": [
    "model.layers[1].set_weights"
   ]
  },
  {
   "cell_type": "code",
   "execution_count": 197,
   "id": "c1fbcfcd-1a15-481c-bf6e-82b7f6897d40",
   "metadata": {},
   "outputs": [],
   "source": [
    "model.compile(optimizer='adam',\n",
    "             loss='categorical_crossentropy',\n",
    "             metrics=['accuracy'])"
   ]
  },
  {
   "cell_type": "code",
   "execution_count": 198,
   "id": "9f03ed97-04f1-4256-89bf-279970042ae0",
   "metadata": {},
   "outputs": [
    {
     "name": "stdout",
     "output_type": "stream",
     "text": [
      "Epoch 1/10\n",
      "60/60 [==============================] - 1s 13ms/step - loss: 0.7287 - accuracy: 0.7952 - val_loss: 0.2893 - val_accuracy: 0.9169\n",
      "Epoch 2/10\n",
      "60/60 [==============================] - 1s 10ms/step - loss: 0.2393 - accuracy: 0.9294 - val_loss: 0.2017 - val_accuracy: 0.9418\n",
      "Epoch 3/10\n",
      "60/60 [==============================] - 1s 10ms/step - loss: 0.1847 - accuracy: 0.9450 - val_loss: 0.1786 - val_accuracy: 0.9446\n",
      "Epoch 4/10\n",
      "60/60 [==============================] - 1s 10ms/step - loss: 0.1720 - accuracy: 0.9481 - val_loss: 0.1705 - val_accuracy: 0.9491\n",
      "Epoch 5/10\n",
      "60/60 [==============================] - 1s 10ms/step - loss: 0.1545 - accuracy: 0.9542 - val_loss: 0.1730 - val_accuracy: 0.9498\n",
      "Epoch 6/10\n",
      "60/60 [==============================] - 1s 10ms/step - loss: 0.1559 - accuracy: 0.9528 - val_loss: 0.1545 - val_accuracy: 0.9538\n",
      "Epoch 7/10\n",
      "60/60 [==============================] - 1s 10ms/step - loss: 0.1429 - accuracy: 0.9556 - val_loss: 0.1564 - val_accuracy: 0.9508\n",
      "Epoch 8/10\n",
      "60/60 [==============================] - 1s 10ms/step - loss: 0.1453 - accuracy: 0.9549 - val_loss: 0.1603 - val_accuracy: 0.9502\n",
      "Epoch 9/10\n",
      "60/60 [==============================] - 1s 10ms/step - loss: 0.1414 - accuracy: 0.9550 - val_loss: 0.1620 - val_accuracy: 0.9504\n",
      "Epoch 10/10\n",
      "60/60 [==============================] - 1s 10ms/step - loss: 0.1384 - accuracy: 0.9557 - val_loss: 0.1520 - val_accuracy: 0.9523\n"
     ]
    },
    {
     "data": {
      "text/plain": [
       "<keras.callbacks.History at 0x217733da370>"
      ]
     },
     "execution_count": 198,
     "metadata": {},
     "output_type": "execute_result"
    }
   ],
   "source": [
    "model.fit(X_train,\n",
    "         y_train,\n",
    "         epochs=10,\n",
    "         batch_size=1000,\n",
    "         validation_data=(X_test,y_test))"
   ]
  },
  {
   "cell_type": "code",
   "execution_count": 199,
   "id": "09969a11-3801-4281-8345-ba70497dd621",
   "metadata": {},
   "outputs": [],
   "source": [
    "def check(x):\n",
    "    plt.imshow(x)\n",
    "    print(np.argmax(model.predict(x.reshape(1,28,28))))     "
   ]
  },
  {
   "cell_type": "code",
   "execution_count": 200,
   "id": "973a7ac8-c236-4583-aaa8-cba3af2ed189",
   "metadata": {},
   "outputs": [
    {
     "name": "stdout",
     "output_type": "stream",
     "text": [
      "313/313 [==============================] - 1s 1ms/step - loss: 0.1520 - accuracy: 0.9523\n"
     ]
    },
    {
     "data": {
      "text/plain": [
       "[0.1520480364561081, 0.9523000121116638]"
      ]
     },
     "execution_count": 200,
     "metadata": {},
     "output_type": "execute_result"
    }
   ],
   "source": [
    "model.evaluate(X_test,y_test)"
   ]
  },
  {
   "cell_type": "code",
   "execution_count": 201,
   "id": "d5bdbb07-f8ff-4c3b-b0a0-fef9f825704f",
   "metadata": {},
   "outputs": [],
   "source": [
    "# ########################################################################"
   ]
  },
  {
   "cell_type": "code",
   "execution_count": 202,
   "id": "b373cd3f-2282-4350-ad43-02eb7698f41e",
   "metadata": {},
   "outputs": [],
   "source": [
    "from keras.datasets import cifar10"
   ]
  },
  {
   "cell_type": "code",
   "execution_count": 204,
   "id": "457de035-4f74-49e8-bbaa-64733ceaf8d9",
   "metadata": {},
   "outputs": [
    {
     "name": "stdout",
     "output_type": "stream",
     "text": [
      "Downloading data from https://www.cs.toronto.edu/~kriz/cifar-10-python.tar.gz\n",
      "170498071/170498071 [==============================] - 285s 2us/step\n"
     ]
    }
   ],
   "source": [
    "(X_train, y_train),(X_test,y_test) = cifar10.load_data()"
   ]
  },
  {
   "cell_type": "code",
   "execution_count": 205,
   "id": "3a1665e8-d0bf-4ee6-b4f5-7ccc3745e419",
   "metadata": {},
   "outputs": [
    {
     "data": {
      "text/plain": [
       "<matplotlib.image.AxesImage at 0x217785f5790>"
      ]
     },
     "execution_count": 205,
     "metadata": {},
     "output_type": "execute_result"
    },
    {
     "data": {
      "image/png": "[encoded data removed]",
      "text/plain": [
       "<Figure size 640x480 with 1 Axes>"
      ]
     },
     "metadata": {},
     "output_type": "display_data"
    }
   ],
   "source": [
    "plt.imshow(X_train[10])"
   ]
  },
  {
   "cell_type": "code",
   "execution_count": 215,
   "id": "06bb8b4a-09ac-4e79-b90b-d9effe005835",
   "metadata": {},
   "outputs": [],
   "source": [
    "#               #               #               #               #               #               #               #               "
   ]
  },
  {
   "cell_type": "code",
   "execution_count": 206,
   "id": "77e41863-6e04-40ec-9fe7-57b0532588e2",
   "metadata": {},
   "outputs": [],
   "source": [
    "y_train = to_categorical(y_train) \n",
    "y_test = to_categorical(y_test)"
   ]
  },
  {
   "cell_type": "code",
   "execution_count": 210,
   "id": "51efe748-8a0a-40e4-82c3-646c7c000abf",
   "metadata": {},
   "outputs": [],
   "source": [
    "from keras.layers import BatchNormalization, Dropout"
   ]
  },
  {
   "cell_type": "code",
   "execution_count": 211,
   "id": "7bf21cfa-f0dd-4936-9993-7b5d53c5e52b",
   "metadata": {},
   "outputs": [],
   "source": [
    "model = Sequential(\n",
    "    [\n",
    "        Flatten(input_shape=(X_train.shape[1:])),\n",
    "        Dense(256,activation='relu'),\n",
    "        BatchNormalization(),\n",
    "        Dense(128,activation='relu'),\n",
    "        BatchNormalization(),\n",
    "        Dropout(0.5),\n",
    "        Dense(y_train.shape[1],activation='softmax')\n",
    "    ]\n",
    ")"
   ]
  },
  {
   "cell_type": "code",
   "execution_count": 212,
   "id": "6babf021-b797-4db9-9343-a5e395c67d75",
   "metadata": {},
   "outputs": [],
   "source": [
    "model.compile(optimizer='adam',\n",
    "             loss='categorical_crossentropy',\n",
    "             metrics=['accuracy'])"
   ]
  },
  {
   "cell_type": "code",
   "execution_count": 213,
   "id": "728e5273-8dc4-491b-b89f-86e215bcabae",
   "metadata": {},
   "outputs": [
    {
     "name": "stdout",
     "output_type": "stream",
     "text": [
      "Epoch 1/10\n",
      "196/196 [==============================] - 4s 14ms/step - loss: 2.1265 - accuracy: 0.3097 - val_loss: 1.8140 - val_accuracy: 0.3422\n",
      "Epoch 2/10\n",
      "196/196 [==============================] - 3s 13ms/step - loss: 1.7447 - accuracy: 0.3859 - val_loss: 1.6765 - val_accuracy: 0.4008\n",
      "Epoch 3/10\n",
      "196/196 [==============================] - 3s 13ms/step - loss: 1.6349 - accuracy: 0.4222 - val_loss: 1.6337 - val_accuracy: 0.4191\n",
      "Epoch 4/10\n",
      "196/196 [==============================] - 3s 13ms/step - loss: 1.5800 - accuracy: 0.4419 - val_loss: 1.6014 - val_accuracy: 0.4343\n",
      "Epoch 5/10\n",
      "196/196 [==============================] - 3s 13ms/step - loss: 1.5476 - accuracy: 0.4550 - val_loss: 1.5631 - val_accuracy: 0.4430\n",
      "Epoch 6/10\n",
      "196/196 [==============================] - 3s 13ms/step - loss: 1.5203 - accuracy: 0.4635 - val_loss: 1.6063 - val_accuracy: 0.4424\n",
      "Epoch 7/10\n",
      "196/196 [==============================] - 3s 13ms/step - loss: 1.5034 - accuracy: 0.4653 - val_loss: 1.5997 - val_accuracy: 0.4316\n",
      "Epoch 8/10\n",
      "196/196 [==============================] - 3s 13ms/step - loss: 1.4810 - accuracy: 0.4740 - val_loss: 1.5891 - val_accuracy: 0.4411\n",
      "Epoch 9/10\n",
      "196/196 [==============================] - 3s 13ms/step - loss: 1.4579 - accuracy: 0.4846 - val_loss: 1.5506 - val_accuracy: 0.4553\n",
      "Epoch 10/10\n",
      "196/196 [==============================] - 3s 13ms/step - loss: 1.4421 - accuracy: 0.4880 - val_loss: 1.5532 - val_accuracy: 0.4569\n"
     ]
    },
    {
     "data": {
      "text/plain": [
       "<keras.callbacks.History at 0x21778ceaaf0>"
      ]
     },
     "execution_count": 213,
     "metadata": {},
     "output_type": "execute_result"
    }
   ],
   "source": [
    "model.fit(X_train,\n",
    "         y_train,\n",
    "         epochs=10,\n",
    "         batch_size=256,\n",
    "         validation_data=(X_test,y_test))"
   ]
  },
  {
   "cell_type": "code",
   "execution_count": 217,
   "id": "dd23b118-904f-4be5-83ab-63fbe266e4da",
   "metadata": {},
   "outputs": [
    {
     "name": "stdout",
     "output_type": "stream",
     "text": [
      "313/313 [==============================] - 1s 2ms/step - loss: 1.5532 - accuracy: 0.4569\n"
     ]
    },
    {
     "data": {
      "text/plain": [
       "[1.5531686544418335, 0.4569000005722046]"
      ]
     },
     "execution_count": 217,
     "metadata": {},
     "output_type": "execute_result"
    }
   ],
   "source": [
    "model.evaluate(X_test,y_test)"
   ]
  },
  {
   "cell_type": "code",
   "execution_count": 218,
   "id": "ce224255-a201-4168-b52a-cb1bfcb34f88",
   "metadata": {},
   "outputs": [],
   "source": [
    "model = Sequential(\n",
    "    [\n",
    "        Flatten(input_shape=X_train.shape[1:]),\n",
    "        Dense(100,activation='relu'),\n",
    "        Dense(25,activation='relu')\n",
    "    ]\n",
    ")"
   ]
  },
  {
   "cell_type": "code",
   "execution_count": 219,
   "id": "1aefd5a5-82b5-47af-834b-038f967f6c6e",
   "metadata": {},
   "outputs": [
    {
     "name": "stdout",
     "output_type": "stream",
     "text": [
      "1563/1563 [==============================] - 2s 1ms/step\n"
     ]
    },
    {
     "data": {
      "text/plain": [
       "array([[ 32.385532,   0.      ,  39.578114, ...,   0.      ,   0.      ,\n",
       "        222.54784 ],\n",
       "       [  0.      ,   0.      ,   0.      , ...,   0.      ,   0.      ,\n",
       "        154.24203 ],\n",
       "       [189.1524  ,   0.      ,   0.      , ...,   0.      ,   0.      ,\n",
       "        282.11215 ],\n",
       "       ...,\n",
       "       [ 68.79933 ,   0.      ,   0.      , ...,   0.      ,   0.      ,\n",
       "        207.37148 ],\n",
       "       [ 49.765667,   0.      ,   0.      , ...,   0.      ,   0.      ,\n",
       "        382.64447 ],\n",
       "       [ 57.989716,   0.      ,   0.      , ...,   0.      ,   0.      ,\n",
       "        256.2591  ]], dtype=float32)"
      ]
     },
     "execution_count": 219,
     "metadata": {},
     "output_type": "execute_result"
    }
   ],
   "source": [
    "model.predict(X_train)"
   ]
  },
  {
   "cell_type": "code",
   "execution_count": 220,
   "id": "31cd2345-182b-46b5-a85f-dc3be3ea9050",
   "metadata": {},
   "outputs": [
    {
     "data": {
      "text/plain": [
       "(50000, 32, 32, 3)"
      ]
     },
     "execution_count": 220,
     "metadata": {},
     "output_type": "execute_result"
    }
   ],
   "source": [
    "X_train.shape"
   ]
  },
  {
   "cell_type": "code",
   "execution_count": 221,
   "id": "f44af332-b812-46ca-9750-c5f7c8d596df",
   "metadata": {},
   "outputs": [],
   "source": [
    "#####################################################################################################################################"
   ]
  },
  {
   "cell_type": "code",
   "execution_count": 222,
   "id": "2499be3e-1bfc-4ca9-a489-e614f7cdb55d",
   "metadata": {},
   "outputs": [],
   "source": [
    "from keras.models import Sequential\n",
    "from keras.layers import Dense, Conv2D, MaxPooling2D, Flatten"
   ]
  },
  {
   "cell_type": "code",
   "execution_count": 223,
   "id": "d750a8cc-9a80-4cea-b135-30f8fc151af8",
   "metadata": {},
   "outputs": [],
   "source": [
    "from keras.datasets import cifar10"
   ]
  },
  {
   "cell_type": "code",
   "execution_count": 227,
   "id": "5493ea19-feeb-459f-80bc-2f12d6940466",
   "metadata": {},
   "outputs": [],
   "source": [
    "y_train = to_categorical(y_train)\n",
    "y_test = to_categorical(y_test)"
   ]
  },
  {
   "cell_type": "code",
   "execution_count": 228,
   "id": "468f0651-29f8-4d71-9461-146d554b930d",
   "metadata": {},
   "outputs": [],
   "source": [
    "model = Sequential(\n",
    "    [\n",
    "        Conv2D(30,(5,5),activation='relu',input_shape=(X_train.shape[1:])),\n",
    "        MaxPooling2D((2,2)),\n",
    "        BatchNormalization(),\n",
    "        Conv2D(60,(5,5),activation='relu'),\n",
    "        MaxPooling2D((3,3)),\n",
    "        BatchNormalization(),\n",
    "        Flatten(),\n",
    "        Dense(256,activation='relu'),\n",
    "        BatchNormalization(),\n",
    "        Dense(64,activation='relu'),\n",
    "        BatchNormalization(),\n",
    "        Dense(y_train.shape[1],activation='softmax')\n",
    "    ]\n",
    ")"
   ]
  },
  {
   "cell_type": "code",
   "execution_count": 230,
   "id": "edcdde9b-cc24-444a-b955-0bde3001914c",
   "metadata": {},
   "outputs": [],
   "source": [
    "model.compile(optimizer='adam',\n",
    "             loss='categorical_crossentropy',\n",
    "             metrics=['accuracy'])"
   ]
  },
  {
   "cell_type": "code",
   "execution_count": 233,
   "id": "16baeef5-3909-4b45-9701-e633f0ca538b",
   "metadata": {},
   "outputs": [
    {
     "name": "stdout",
     "output_type": "stream",
     "text": [
      "Epoch 1/10\n",
      "50/50 [==============================] - 20s 391ms/step - loss: 0.8364 - accuracy: 0.7118 - val_loss: 0.9299 - val_accuracy: 0.6722\n",
      "Epoch 2/10\n",
      "50/50 [==============================] - 19s 385ms/step - loss: 0.7711 - accuracy: 0.7351 - val_loss: 0.9327 - val_accuracy: 0.6735\n",
      "Epoch 3/10\n",
      "50/50 [==============================] - 20s 394ms/step - loss: 0.7391 - accuracy: 0.7445 - val_loss: 0.9518 - val_accuracy: 0.6657\n",
      "Epoch 4/10\n",
      "50/50 [==============================] - 21s 413ms/step - loss: 0.7136 - accuracy: 0.7532 - val_loss: 0.8742 - val_accuracy: 0.6937\n",
      "Epoch 5/10\n",
      "50/50 [==============================] - 21s 423ms/step - loss: 0.6909 - accuracy: 0.7601 - val_loss: 0.8650 - val_accuracy: 0.6942\n",
      "Epoch 6/10\n",
      "50/50 [==============================] - 20s 405ms/step - loss: 0.6692 - accuracy: 0.7698 - val_loss: 0.8636 - val_accuracy: 0.6996\n",
      "Epoch 7/10\n",
      "50/50 [==============================] - 20s 401ms/step - loss: 0.6472 - accuracy: 0.7776 - val_loss: 0.8583 - val_accuracy: 0.6997\n",
      "Epoch 8/10\n",
      "50/50 [==============================] - 20s 397ms/step - loss: 0.6273 - accuracy: 0.7847 - val_loss: 0.8405 - val_accuracy: 0.7100\n",
      "Epoch 9/10\n",
      "50/50 [==============================] - 20s 402ms/step - loss: 0.6053 - accuracy: 0.7934 - val_loss: 0.8443 - val_accuracy: 0.7045\n",
      "Epoch 10/10\n",
      "50/50 [==============================] - 21s 418ms/step - loss: 0.5846 - accuracy: 0.8010 - val_loss: 0.8519 - val_accuracy: 0.7063\n"
     ]
    },
    {
     "data": {
      "text/plain": [
       "<keras.callbacks.History at 0x2176eb3b220>"
      ]
     },
     "execution_count": 233,
     "metadata": {},
     "output_type": "execute_result"
    }
   ],
   "source": [
    "model.fit(X_train,\n",
    "         y_train,\n",
    "         epochs=10,\n",
    "         batch_size=1000,\n",
    "         validation_data=(X_test,y_test))"
   ]
  },
  {
   "cell_type": "code",
   "execution_count": 236,
   "id": "59a0d36c-2879-4f1f-b4f7-f9b49ed365bb",
   "metadata": {},
   "outputs": [],
   "source": [
    "# 사진들"
   ]
  },
  {
   "cell_type": "code",
   "execution_count": 237,
   "id": "a4824167-6427-4292-a508-f4227ebbbbaf",
   "metadata": {},
   "outputs": [],
   "source": [
    "category = {\n",
    "0:\"airplane\",\n",
    "1:\"automobile\",\n",
    "2:\"bird\",\n",
    "3:\"cat\",\n",
    "4:\"deer\",\n",
    "5:\"dog\",\n",
    "6:\"frog\",\n",
    "7:\"horse\",\n",
    "8:\"ship\",\n",
    "9:\"truck\",\n",
    "}"
   ]
  },
  {
   "cell_type": "code",
   "execution_count": 238,
   "id": "eb572ae0-4217-4bb4-bcc0-d408e0fc101f",
   "metadata": {},
   "outputs": [
    {
     "name": "stdout",
     "output_type": "stream",
     "text": [
      "1/1 [==============================] - 0s 132ms/step\n"
     ]
    },
    {
     "data": {
      "text/plain": [
       "'deer'"
      ]
     },
     "execution_count": 238,
     "metadata": {},
     "output_type": "execute_result"
    }
   ],
   "source": [
    "category[np.argmax(model.predict(X_train[[10]]))]"
   ]
  },
  {
   "cell_type": "code",
   "execution_count": null,
   "id": "843e5a4d-b8d9-4331-9adc-7bf69110c9d8",
   "metadata": {},
   "outputs": [],
   "source": []
  }
 ],
 "metadata": {
  "kernelspec": {
   "display_name": "donga",
   "language": "python",
   "name": "donga"
  },
  "language_info": {
   "codemirror_mode": {
    "name": "ipython",
    "version": 3
   },
   "file_extension": ".py",
   "mimetype": "text/x-python",
   "name": "python",
   "nbconvert_exporter": "python",
   "pygments_lexer": "ipython3",
   "version": "3.9.13"
  }
 },
 "nbformat": 4,
 "nbformat_minor": 5
}
