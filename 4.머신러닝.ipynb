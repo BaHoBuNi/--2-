{
 "cells": [
  {
   "cell_type": "code",
   "execution_count": 1,
   "id": "4a4d3bf0-f22c-44b9-b166-d0e0983c39c5",
   "metadata": {},
   "outputs": [],
   "source": [
    "# 머신러닝 ~"
   ]
  },
  {
   "cell_type": "code",
   "execution_count": 3,
   "id": "e9690a0a-ac74-4c82-a14f-5c8e1b7cd910",
   "metadata": {},
   "outputs": [],
   "source": [
    "import numpy as np\n",
    "import pandas as pd"
   ]
  },
  {
   "cell_type": "code",
   "execution_count": 3,
   "id": "c048c1a8-8812-430c-81cb-43be7e7a7279",
   "metadata": {},
   "outputs": [],
   "source": [
    "# y = a*x\n",
    "# err(cost) = y - y_hat\n",
    "# 보정 y_hat = a_hat*x\n",
    "# err = y - (a_hat)*x\n",
    "# rss(err,cost) = (y - (a_hat)*x)**2,mean("
   ]
  },
  {
   "cell_type": "markdown",
   "id": "615f18a2-a6e2-4bac-9e77-d7e1a955eca8",
   "metadata": {},
   "source": [
    "## 머신러닝 기본 틀 설명\n",
    "\n",
    "RSS는 Residual Sum of Squares, 즉 잔차 제곱합을 의미한다. 잔차는 실제 값과 모델 예측 값 간의 차이를 말하며, 이를 제곱하여 합산한 값이 잔차 제곱합이다.\n",
    "\n",
    "주어진 모델은 y = ax 이며, 보정된 예측값은 y_hat = a_hatx 이다. 따라서 잔차는 실제 값 y와 보정된 예측값 y_hat 간의 차이인 (y - y_hat)이다. \n",
    "\n",
    "이 잔차를 최소화하는 것이 모델의 목표이며, 이를 위해 잔차 제곱합을 최소화하는 최적의 a_hat 값을 찾아야한다.\n",
    "\n",
    "따라서 RSS(err, cost) = sum((y - a_hat*x)**2) 을 최소화하는 a_hat 값을 찾아야 합니다. 이를 위해 일반적으로 경사 하강법이나 최소자승법 등의 방법을 사용한다. \n",
    "\n",
    "최소자승법은 행렬 계산을 사용하여 a_hat을 구할 수 있으며, 경사 하강법은 미분과 같은 수치적인 방법을 사용하여 a_hat을 구할 수 있다.\n",
    "\n",
    "따라서 코스트 함수 err(cost) = y - y_hat 를 사용하여 보정된 예측값 y_hat = a_hat*x 를 구하고, 이를 이용하여 잔차 err = y - (a_hat)x 를 구한 후, \n",
    "\n",
    "이 잔차를 제곱하여 합산한 RSS(err, cost) = sum((y - a_hatx)**2) 을 최소화하는 a_hat 값을 찾는 것이 모델 학습의 목표다."
   ]
  },
  {
   "cell_type": "code",
   "execution_count": 4,
   "id": "e6027e38-9683-4efa-a782-dc5c1679eb3c",
   "metadata": {},
   "outputs": [],
   "source": [
    "import numpy as np"
   ]
  },
  {
   "cell_type": "code",
   "execution_count": 5,
   "id": "16302994-6e0d-415b-9e86-5c19fa592379",
   "metadata": {},
   "outputs": [],
   "source": [
    "x = np.random.randn(10)\n",
    "y = 3 *x\n",
    "# 평균 1 , 표준편차 0 정규분포에서 랜덤 10개를 뽑는 것"
   ]
  },
  {
   "cell_type": "code",
   "execution_count": 6,
   "id": "84d58a58-2150-4253-9087-5559ed3f65a5",
   "metadata": {},
   "outputs": [],
   "source": [
    "import matplotlib.pyplot as plt"
   ]
  },
  {
   "cell_type": "code",
   "execution_count": 7,
   "id": "cb93041e-f832-4534-b287-442c957ea561",
   "metadata": {},
   "outputs": [
    {
     "data": {
      "text/plain": [
       "40.72393370246146"
      ]
     },
     "execution_count": 7,
     "metadata": {},
     "output_type": "execute_result"
    }
   ],
   "source": [
    "a_hat = 10\n",
    "y_hat = a_hat*x\n",
    "\n",
    "rss = np.sum((y-y_hat)**2) / y.size\n",
    "rss = np.mean((y-y_hat)**2)\n",
    "rss"
   ]
  },
  {
   "cell_type": "code",
   "execution_count": 8,
   "id": "96da9e57-f8c5-45f0-90ef-42898a1145b9",
   "metadata": {},
   "outputs": [],
   "source": [
    "# a_hat이 단일 정수가 아닌 경우"
   ]
  },
  {
   "cell_type": "code",
   "execution_count": 9,
   "id": "9eea039f-3bab-4d02-baf1-f1090de70d4f",
   "metadata": {},
   "outputs": [],
   "source": [
    "a_hat = np.linspace(-3,7,30)\n",
    "\n",
    "# -3부터 7까지의 구간을 30등분으로 나눈 값"
   ]
  },
  {
   "cell_type": "code",
   "execution_count": 10,
   "id": "49f1a63f-2fdd-4d36-897f-9a279291dcb0",
   "metadata": {},
   "outputs": [
    {
     "data": {
      "text/plain": [
       "[<matplotlib.lines.Line2D at 0x2b183114a30>]"
      ]
     },
     "execution_count": 10,
     "metadata": {},
     "output_type": "execute_result"
    },
    {
     "data": {
      "image/png": "[encoded data removed]",
      "text/plain": [
       "<Figure size 640x480 with 1 Axes>"
      ]
     },
     "metadata": {},
     "output_type": "display_data"
    }
   ],
   "source": [
    "errors = []\n",
    "for i in a_hat:\n",
    "    y_hat = i*x\n",
    "    rss = np.mean((y-y_hat)**2)\n",
    "    errors.append(rss)\n",
    "                  \n",
    "plt.plot(a_hat,errors)"
   ]
  },
  {
   "cell_type": "code",
   "execution_count": 11,
   "id": "228d6b41-8bf1-4cc0-9ed3-c1ec22c8e214",
   "metadata": {},
   "outputs": [],
   "source": [
    "# 실제값"
   ]
  },
  {
   "cell_type": "code",
   "execution_count": 12,
   "id": "5a002811-4fe4-4d27-94ae-3b7474dd84a0",
   "metadata": {},
   "outputs": [],
   "source": [
    "real_a1 = np.random.randint(1000,9000,1)\n",
    "real_a2 = np.random.randint(100,900,1)\n",
    "real_b = np.random.randint(10000,90000,1)"
   ]
  },
  {
   "cell_type": "code",
   "execution_count": 13,
   "id": "b7acc535-0fa9-4dfd-8636-a0f1c887a00f",
   "metadata": {},
   "outputs": [],
   "source": [
    "x1 = np.random.randint(1,30,100)\n",
    "x2 = np.random.randint(7,50,100)"
   ]
  },
  {
   "cell_type": "code",
   "execution_count": 14,
   "id": "90fff6dc-69dd-40b8-9ed4-9b6d490aa7c5",
   "metadata": {},
   "outputs": [],
   "source": [
    "y = real_a1 * x1 + real_a2 * x2 + real_b"
   ]
  },
  {
   "cell_type": "code",
   "execution_count": 15,
   "id": "8746df89-04c4-4ebd-8a02-1bd046c378f0",
   "metadata": {},
   "outputs": [],
   "source": [
    "a1_hat = np.random.randn(1)\n",
    "a2_hat = np.random.randn(1)\n",
    "b_hat = 0"
   ]
  },
  {
   "cell_type": "code",
   "execution_count": 16,
   "id": "0906e35b-f35d-4a2f-afe9-3202bf3920c2",
   "metadata": {},
   "outputs": [],
   "source": [
    "epochs = 100000\n",
    "\n",
    "# epochs는 머신러닝 분야에서 학습을 반복하는 횟수를 나타내는 변수"
   ]
  },
  {
   "cell_type": "code",
   "execution_count": 18,
   "id": "fa3979af-3ecf-4def-bb18-7a79b5b10a37",
   "metadata": {},
   "outputs": [],
   "source": [
    "lr = 1e-4\n",
    "\n",
    "# lr은 머신러닝 분야에서 학습률(learning rate)을 나타내는 변수로 사용된다.\n",
    "# 학습률은 모델이 학습을 진행할 때 마다 모델 파라미터를 어느 정도 크기로 업데이트할지 결정하는 역할을 한다.\n",
    "# 여기서 1e-4는 0.0001을 의미한다.. 따라서 이 코드는 학습률을 0.0001로 설정한 것이다.\n",
    "# 즉, 모델 파라미터를 업데이트할 때 마다 업데이트의 크기를 매우 작게 설정하고, 조금씩 조정하도록 하는 것."
   ]
  },
  {
   "cell_type": "code",
   "execution_count": 19,
   "id": "75dfea35-6dae-43db-9225-30fcc1b7e1b4",
   "metadata": {},
   "outputs": [],
   "source": [
    "a1_hat = np.random.randn(1)\n",
    "a2_hat = np.random.randn(1)\n",
    "b_hat = 0\n",
    "epochs = 100000\n",
    "lr = 1e-4\n",
    "\n",
    "for epoch in range(epochs):\n",
    "    y_hat = a1_hat*x1 + a2_hat*x2 + b_hat\n",
    "    a1_hat -=lr*(2*x1*(y_hat - y)).mean()\n",
    "    a2_hat -=lr*(2*x2*(y_hat - y)).mean()\n",
    "    b_hat  -=lr*(2*(y_hat-y)).mean()"
   ]
  },
  {
   "cell_type": "markdown",
   "id": "d7d202d4-80a0-4051-9c64-7cffb6d7ee53",
   "metadata": {},
   "source": [
    "## 코드 설명\n",
    "\n",
    "다중 선형 회귀 모델에서 경사 하강법(gradient descent) 알고리즘을 사용하여 모델 파라미터(a1_hat, a2_hat, b_hat)를 업데이트하는 코드.\n",
    "    \n",
    "y_hat = a1_hat * x1 + a2_hat * x2 + b_hat는 현재의 모델 파라미터 값으로 예측된 y값을 계산하는 코드.\n",
    "    \n",
    "a1_hat -=lr*(2*x1(y_hat - y)).mean()는 a1_hat 파라미터를 업데이트하는 코드. \n",
    "\n",
    "이 코드는 현재 모델 파라미터와 예측된 y값(y_hat)을 이용하여 a1_hat의 기울기를 계산하고, 학습률(lr)을 곱하여 a1_hat의 값을 업데이트한다.\n",
    "    \n",
    "이때 (2*x1(y_hat - y)).mean() 부분은 오차(cost) 함수를 a1_hat에 대해 미분한 값이며, 이를 통해 a1_hat을 업데이트한다."
   ]
  },
  {
   "cell_type": "code",
   "execution_count": 20,
   "id": "e4b0bd3c-14de-4d7d-b3db-51c2cc0a40c4",
   "metadata": {},
   "outputs": [],
   "source": [
    "# 추정치"
   ]
  },
  {
   "cell_type": "code",
   "execution_count": 21,
   "id": "ca801d75-acae-46cb-b603-9075a0d69e83",
   "metadata": {},
   "outputs": [
    {
     "data": {
      "text/plain": [
       "array([7336.83029371])"
      ]
     },
     "execution_count": 21,
     "metadata": {},
     "output_type": "execute_result"
    }
   ],
   "source": [
    "a1_hat"
   ]
  },
  {
   "cell_type": "code",
   "execution_count": 22,
   "id": "92217f6b-f847-4d8b-9ada-6a05877bfeb4",
   "metadata": {},
   "outputs": [
    {
     "data": {
      "text/plain": [
       "array([396.94061832])"
      ]
     },
     "execution_count": 22,
     "metadata": {},
     "output_type": "execute_result"
    }
   ],
   "source": [
    "a2_hat"
   ]
  },
  {
   "cell_type": "code",
   "execution_count": 23,
   "id": "9ba6fb74-99ea-4c77-ade2-cbad3ce49a62",
   "metadata": {},
   "outputs": [
    {
     "data": {
      "text/plain": [
       "55482.679566129045"
      ]
     },
     "execution_count": 23,
     "metadata": {},
     "output_type": "execute_result"
    }
   ],
   "source": [
    "b_hat"
   ]
  },
  {
   "cell_type": "code",
   "execution_count": 24,
   "id": "5bd06677-0a68-4b51-8929-0df41fed9a03",
   "metadata": {},
   "outputs": [],
   "source": [
    "# real_a1, real_a2, real_b와 비교해보기 (실제값)"
   ]
  },
  {
   "cell_type": "code",
   "execution_count": 25,
   "id": "73a03594-3789-4899-a426-18dfd529cb0c",
   "metadata": {},
   "outputs": [
    {
     "data": {
      "text/plain": [
       "array([ 90, 120, 150, 180, 210])"
      ]
     },
     "execution_count": 25,
     "metadata": {},
     "output_type": "execute_result"
    }
   ],
   "source": [
    "a1 = 10\n",
    "a2 = 20\n",
    "x1 = np.array([1,2,3,4,5])\n",
    "x2 = np.array([4,5,6,7,8])\n",
    "\n",
    "y= a1*x1 + a2*x2\n",
    "\n",
    "y"
   ]
  },
  {
   "cell_type": "code",
   "execution_count": 26,
   "id": "047f574d-5319-4270-a7bc-3b848b700502",
   "metadata": {},
   "outputs": [
    {
     "data": {
      "text/plain": [
       "array([[1, 4],\n",
       "       [2, 5],\n",
       "       [3, 6],\n",
       "       [4, 7],\n",
       "       [5, 8]])"
      ]
     },
     "execution_count": 26,
     "metadata": {},
     "output_type": "execute_result"
    }
   ],
   "source": [
    "X = np.c_[x1,x2]\n",
    "\n",
    "X\n",
    "\n",
    "# np.c_는 NumPy에서 배열을 나란히 붙이는 기능을 제공하는 함수입니다. np.concatenate와 비슷한 역할"
   ]
  },
  {
   "cell_type": "code",
   "execution_count": 27,
   "id": "1ceb6a45-a728-4411-a9be-694162fa6d8a",
   "metadata": {},
   "outputs": [
    {
     "data": {
      "text/plain": [
       "array([[10],\n",
       "       [20]])"
      ]
     },
     "execution_count": 27,
     "metadata": {},
     "output_type": "execute_result"
    }
   ],
   "source": [
    "a = np.array([10,20]).reshape(2,1)\n",
    "\n",
    "a"
   ]
  },
  {
   "cell_type": "code",
   "execution_count": 28,
   "id": "74b55460-b6f1-4571-b816-a91b75938c34",
   "metadata": {},
   "outputs": [
    {
     "data": {
      "text/plain": [
       "array([[ 90],\n",
       "       [120],\n",
       "       [150],\n",
       "       [180],\n",
       "       [210]])"
      ]
     },
     "execution_count": 28,
     "metadata": {},
     "output_type": "execute_result"
    }
   ],
   "source": [
    "y = np.dot(X,a)\n",
    "\n",
    "y"
   ]
  },
  {
   "cell_type": "code",
   "execution_count": 29,
   "id": "669b650c-13c6-4f3d-a527-a84582da2e96",
   "metadata": {},
   "outputs": [],
   "source": [
    "## 지금까지 배운 것 종합"
   ]
  },
  {
   "cell_type": "code",
   "execution_count": 30,
   "id": "7db4f3a9-9824-4f3c-a3f9-ff6c70461b5a",
   "metadata": {},
   "outputs": [],
   "source": [
    "x1 = np.random.randn(100)\n",
    "x2 = np.random.randn(100)\n",
    "X = np.c_[x1,x2]"
   ]
  },
  {
   "cell_type": "code",
   "execution_count": 31,
   "id": "5a1f3e89-958c-4fa4-9216-6f941af2eb2d",
   "metadata": {},
   "outputs": [],
   "source": [
    "real_a = np.random.randn(2,1)\n",
    "\n",
    "# randn을 (2,1) shpae로 만드는 것"
   ]
  },
  {
   "cell_type": "code",
   "execution_count": 32,
   "id": "9a58a4c4-376f-432f-bc4b-53dfbb6859a5",
   "metadata": {},
   "outputs": [],
   "source": [
    "y = np.dot(X,real_a)"
   ]
  },
  {
   "cell_type": "code",
   "execution_count": 33,
   "id": "68243ffa-19af-4ffc-8bc3-c4023bf1422f",
   "metadata": {},
   "outputs": [],
   "source": [
    "a_hat = np.random.randn(2,1)\n",
    "b_hat = 0\n",
    "epochs = 100000\n",
    "lr = 1e-6\n",
    "\n",
    "for epoch in range(epochs):\n",
    "    y_hat = np.dot(X,a_hat)\n",
    "    a_hat -= lr*(2*np.dot(X.T,(y_hat-y)))\n",
    "    b_hat -= lr*(2*(y_hat-y)).mean()"
   ]
  },
  {
   "cell_type": "code",
   "execution_count": 34,
   "id": "087e74c3-c9b3-4c5b-b393-4b8b80587964",
   "metadata": {},
   "outputs": [
    {
     "data": {
      "text/plain": [
       "array([[0.52528914],\n",
       "       [0.99941359]])"
      ]
     },
     "execution_count": 34,
     "metadata": {},
     "output_type": "execute_result"
    }
   ],
   "source": [
    "a_hat"
   ]
  },
  {
   "cell_type": "code",
   "execution_count": 35,
   "id": "d8bd35cd-09c7-439e-9a56-18f952a6e3e1",
   "metadata": {},
   "outputs": [
    {
     "data": {
      "text/plain": [
       "array([[0.52528916],\n",
       "       [0.9994136 ]])"
      ]
     },
     "execution_count": 35,
     "metadata": {},
     "output_type": "execute_result"
    }
   ],
   "source": [
    "real_a"
   ]
  },
  {
   "cell_type": "code",
   "execution_count": 36,
   "id": "d758c20a-e78c-4726-a08f-68d49b2ba974",
   "metadata": {},
   "outputs": [
    {
     "data": {
      "text/plain": [
       "-0.0006254264580185047"
      ]
     },
     "execution_count": 36,
     "metadata": {},
     "output_type": "execute_result"
    }
   ],
   "source": [
    "b_hat"
   ]
  },
  {
   "cell_type": "code",
   "execution_count": 37,
   "id": "aac8b0af-d144-4fb1-9db8-2125678e985f",
   "metadata": {},
   "outputs": [],
   "source": [
    "#1일차 끝"
   ]
  },
  {
   "cell_type": "code",
   "execution_count": 38,
   "id": "79d7413f-d163-445a-81cf-639a57db50fa",
   "metadata": {},
   "outputs": [],
   "source": [
    "# 2일차"
   ]
  },
  {
   "cell_type": "code",
   "execution_count": 99,
   "id": "89775cb8-1e87-4420-a043-041ea5bcf8b2",
   "metadata": {},
   "outputs": [],
   "source": [
    "import numpy as np\n",
    "import pandas as pd\n",
    "import matplotlib.pyplot as plt"
   ]
  },
  {
   "cell_type": "code",
   "execution_count": 39,
   "id": "a39b8f7a-4d5f-4f6d-b58e-e8bb9b207efe",
   "metadata": {},
   "outputs": [],
   "source": [
    "import seaborn as sns\n",
    "\n",
    "# seaborn은 데이터 시각화 라이브러리, matplotlib보다 간편하게 그래프를 그릴 수 있다"
   ]
  },
  {
   "cell_type": "code",
   "execution_count": 41,
   "id": "fbfa4d99-e3d1-496d-bd3e-b73810917019",
   "metadata": {},
   "outputs": [],
   "source": [
    "from sklearn.model_selection import train_test_split"
   ]
  },
  {
   "cell_type": "markdown",
   "id": "be5cc685-d20b-418a-b7c4-5ceb8201132f",
   "metadata": {},
   "source": [
    "데이터를 훈련 데이터와 테스트 데이터로 나누는 함수. 일반적으로 머신러닝에서는 데이터를 훈련 데이터와 테스트 데이터로 나눠서 모델을 훈련하고 검증하는 과정을 거친다. \n",
    "\n",
    "이 함수를 사용하면 주어진 데이터를 무작위로 나누어준다"
   ]
  },
  {
   "cell_type": "code",
   "execution_count": 43,
   "id": "28a55fc0-bc1e-4643-9066-e1d0396b0b13",
   "metadata": {},
   "outputs": [],
   "source": [
    "from sklearn.linear_model import LinearRegression"
   ]
  },
  {
   "cell_type": "markdown",
   "id": "08e09c86-c626-43a1-9f6b-2d6e1e8c2945",
   "metadata": {},
   "source": [
    "LinearRegression은 Scikit-learn 라이브러리에서 제공하는 회귀 분석 모델,선형 회귀 분석을 수행하는 모델로, 입력 변수(X)와 출력 변수(y) 간의 선형 관계를 모델링한다.\n",
    "\n",
    "fit 메서드를 사용하여 모델을 훈련,predict 메서드를 사용하여 테스트 데이터에 대한 종속 변수 예측값을 구한다."
   ]
  },
  {
   "cell_type": "code",
   "execution_count": 12,
   "id": "2f54ddad-adb8-4d0a-a466-366805e4b4b0",
   "metadata": {},
   "outputs": [],
   "source": [
    "from sklearn.tree import DecisionTreeClassifier"
   ]
  },
  {
   "cell_type": "markdown",
   "id": "302ec957-0dfb-483b-9613-52ea5ff658d8",
   "metadata": {},
   "source": [
    "## 의사 결정 트리(Decision Tree)\n",
    "\n",
    "트리 구조를 사용하여 데이터를 분류하는 지도 학습 알고리즘 중 하나. 분류(classification)와 회귀(regression) 문제 모두에 적용 가능\n",
    "\n",
    "의사 결정 트리는 각 분기점마다 특정 조건(질문)을 사용하여 데이터를 분할, 이러한 분기점에서는 해당 조건의 결과에 따라 데이터를 두 개 이상의 하위 그룹으로 나눈다.\n",
    "\n",
    "각 하위 그룹은 자체적으로 다시 분할되어 더 작은 하위 그룹으로 나뉘어질 수도 있다.계속해서 데이터를 분할하면서, 최종적으로 분류된 하위 그룹은 각각 하나의 클래스에 속하게 된다.\n",
    "\n",
    "의사 결정 트리는 직관적이고 해석하기 쉬워서 데이터 분류 및 예측에 널리 사용되며, 다른 알고리즘과 함께 앙상블(ensemble) 기법으로 사용되는 경우도 많다. \n",
    "\n",
    "그러나 과적합(overfitting) 문제가 발생하기 쉽기 때문에, 일반화 성능을 높이기 위해 가지치기(pruning) 등의 방법을 사용하여 최적화하는 것이 중요."
   ]
  },
  {
   "cell_type": "code",
   "execution_count": 13,
   "id": "dd321dfb-4df4-405d-a23b-953719f58827",
   "metadata": {},
   "outputs": [],
   "source": [
    "from sklearn.metrics import accuracy_score\n",
    "\n",
    "# 분류 모델에서 사용되는 평가 지표 ,분류 모델이 예측한 클래스와 실제 클래스가 얼마나 일치하는지를 계산하여 정확도를 산출. "
   ]
  },
  {
   "cell_type": "code",
   "execution_count": 14,
   "id": "f2ff3968-b24b-41a1-bda2-de946f8e4886",
   "metadata": {},
   "outputs": [],
   "source": [
    "from sklearn.preprocessing import MinMaxScaler"
   ]
  },
  {
   "cell_type": "markdown",
   "id": "5c182bd4-52c3-4904-be21-51c1e84d5cbd",
   "metadata": {},
   "source": [
    "MinMaxScaler는 데이터를 최솟값과 최댓값을 이용하여 0과 1 사이의 값으로 정규화(normalization)해주는 변환기.\n",
    "\n",
    "기본적으로 feature_range 인자의 값이 (0, 1)로 설정되어 있으며, fit 메서드로 데이터의 최솟값과 최댓값을 계산한 뒤, transform 메서드로 데이터를 정규화한다."
   ]
  },
  {
   "cell_type": "code",
   "execution_count": 15,
   "id": "23b7c893-af73-4d89-9815-29c37d9a12f3",
   "metadata": {},
   "outputs": [],
   "source": [
    "# 데이터 셋 불러 오기\n",
    "\n",
    "from sklearn.datasets import load_iris\n",
    "X = load_iris().data\n",
    "y=  load_iris().target\n",
    "\n",
    "# 이 데이터셋은 지도학습(supervised learning)의 분류(classification) 문제에 적합"
   ]
  },
  {
   "cell_type": "code",
   "execution_count": 16,
   "id": "c1d17252-7395-4527-831f-5ca59da6ad90",
   "metadata": {},
   "outputs": [
    {
     "data": {
      "text/plain": [
       "DecisionTreeClassifier()"
      ]
     },
     "execution_count": 16,
     "metadata": {},
     "output_type": "execute_result"
    }
   ],
   "source": [
    "tree_clf = DecisionTreeClassifier()\n",
    "tree_clf.fit(X,y)"
   ]
  },
  {
   "cell_type": "code",
   "execution_count": 17,
   "id": "b2e35389-458c-488f-b025-a3d050fb8fe1",
   "metadata": {},
   "outputs": [
    {
     "data": {
      "text/plain": [
       "array([0])"
      ]
     },
     "execution_count": 17,
     "metadata": {},
     "output_type": "execute_result"
    }
   ],
   "source": [
    "tree_clf.predict(np.array([4.9,3.1,1.1,0.2]).reshape(1,4))"
   ]
  },
  {
   "cell_type": "code",
   "execution_count": 18,
   "id": "86eee86a-eb81-42cb-b1e9-1beaf364eea5",
   "metadata": {},
   "outputs": [
    {
     "data": {
      "text/plain": [
       "array([0])"
      ]
     },
     "execution_count": 18,
     "metadata": {},
     "output_type": "execute_result"
    }
   ],
   "source": [
    "import pickle\n",
    "\n",
    "with open('model.pickle','wb') as f:\n",
    "    pickle.dump(tree_clf,f)\n",
    "\n",
    "with open('model.pickle','rb') as f:\n",
    "    xxx = pickle.load(f)\n",
    "\n",
    "xxx.predict(np.array([4.9,3.1,1.1,0.2]).reshape(1,4))"
   ]
  },
  {
   "cell_type": "markdown",
   "id": "d47053c3-b9a5-4124-8154-c4fce9857b91",
   "metadata": {},
   "source": [
    "# 지도학습(supervised learning)\n",
    "\n",
    "데이터셋에 입력과 출력(정답)을 함께 제공하여 모델이 입력을 출력에 매핑하는 함수를 학습하는 방법\n",
    "\n",
    "입력 데이터와 그에 상응하는 출력 데이터(정답)을 함께 학습하고, 이를 이용하여 새로운 입력 데이터의 출력 값을 예측할 수 있다.\n",
    "\n",
    "회귀는 연속적인 값 예측 문제에 사용되며, 예를 들어 주택 가격 예측이 있고, \n",
    "\n",
    "분류(classification) 문제는 지도학습에서 출력 데이터가 이산(discrete) 값인 경우를 말한다. "
   ]
  },
  {
   "cell_type": "markdown",
   "id": "ad7e5545-44e5-479d-8fe5-da63f1e44c84",
   "metadata": {},
   "source": [
    "## SVM\n",
    "\n",
    "분류 및 회귀 분석에 사용되는 지도 학습 알고리즘\n",
    "\n",
    "SVM은 데이터를 고차원 공간으로 매핑하여 서로 다른 클래스를 가지는 데이터들을 최대한 멀리 떨어지도록 구분하는 초평면(hyperplane)을 찾는 것\n",
    "\n",
    "분류 문제에서는 결정 경계(SVC), 회귀 문제에서는 초평면으로부터 최대한 멀어지도록 하는 데이터 포인트(벡터)(SVR)를 찾는다."
   ]
  },
  {
   "cell_type": "code",
   "execution_count": 25,
   "id": "931f739f-f28f-4de5-a05f-ea918e440ae0",
   "metadata": {},
   "outputs": [
    {
     "data": {
      "text/plain": [
       "0.6111111111111112"
      ]
     },
     "execution_count": 25,
     "metadata": {},
     "output_type": "execute_result"
    }
   ],
   "source": [
    "from sklearn.svm import SVC, SVR\n",
    "from sklearn.datasets import load_wine\n",
    "from sklearn.model_selection import train_test_split\n",
    "\n",
    "X = load_wine().data\n",
    "y = load_wine().target\n",
    "X_train, X_test, y_train, y_test = train_test_split(X,y,test_size=.2)\n",
    "\n",
    "svm_model = SVC()\n",
    "svm_model.get_params()\n",
    "\n",
    "svm_model.fit(X_train,y_train)\n",
    "\n",
    "svm_model.score(X_test,y_test)"
   ]
  },
  {
   "cell_type": "markdown",
   "id": "1d43b858-54b7-44b0-8af6-e6584627f3eb",
   "metadata": {},
   "source": [
    "##### 코드 설명\n",
    "\n",
    "load_wine() 함수를 사용하여 와인 데이터셋을 불러온다.\n",
    "\n",
    "train_test_split() 함수를 사용하여 데이터를 훈련셋과 테스트셋으로 나눕니다.\n",
    "\n",
    "SVC() 함수를 사용하여 SVM 모델 객체를 생성합니다.\n",
    "\n",
    "svm_model.get_params()를 통해 SVM 모델 객체의 하이퍼파라미터를 확인.\n",
    "\n",
    "svm_model.fit(X_train, y_train)을 통해 SVM 모델을 학습.\n",
    "\n",
    "svm_model.score(X_test, y_test)을 통해 학습된 SVM 모델의 성능을 측정.\n",
    "\n"
   ]
  },
  {
   "cell_type": "markdown",
   "id": "8426a151-3369-47ca-bf56-22c385ad83ee",
   "metadata": {},
   "source": [
    "### 성능의 측정은 어떻게 하나?\n",
    "\n",
    "모델의 성능 측정은 모델의 목적과 상황에 따라 다르지만,분류 모델의 경우 accuracy(정확도), precision(정밀도), recall(재현율), F1-score 등 사용\n",
    "\n",
    "accuracy는 전체 샘플 중 모델이 정확하게 예측한 샘플의 비율, precision은 모델이 Positive로 예측한 샘플 중 실제로 Positive인 샘플의 비율, \n",
    "\n",
    "recall은 실제 Positive인 샘플 중 모델이 Positive로 예측한 샘플의 비율. F1-score는 precision과 recall의 조화평균.\n",
    "\n",
    "회귀 모델의 경우에는 대표적으로 MSE(Mean Squared Error), MAE(Mean Absolute Error), R-squared 등이 사용."
   ]
  },
  {
   "cell_type": "markdown",
   "id": "4fc21fbc-6e12-4ce9-b193-c34931885c3f",
   "metadata": {},
   "source": [
    "### 커널이 달라지면?"
   ]
  },
  {
   "cell_type": "code",
   "execution_count": 29,
   "id": "5208b21d-c1c7-4781-a312-56c14d8e2f5c",
   "metadata": {},
   "outputs": [
    {
     "name": "stdout",
     "output_type": "stream",
     "text": [
      "kernel=linear 정확도 : 0.97\n",
      "kernel=rbf 정확도 : 0.67\n",
      "kernel=sigmoid 정확도 : 0.33\n"
     ]
    }
   ],
   "source": [
    "for i in ['linear','rbf','sigmoid']:\n",
    "    svm_model = SVC(kernel=i,C=0.5)\n",
    "    svm_model.fit(X_train,y_train)\n",
    "    score = svm_model.score(X_test,y_test)\n",
    "    print(f'kernel={i} 정확도 : {np.around(score,2)}')"
   ]
  },
  {
   "cell_type": "markdown",
   "id": "a6e15a3d-d16d-47dc-a2a9-68a45219195b",
   "metadata": {},
   "source": [
    "#### 상세 설명\n",
    "\n",
    "SVM에서 사용되는 kernel 파라미터는 데이터를 비선형으로 분류하기 위해 사용되는 함수. SVM은 기본적으로 선형 분리가 가능한 경우에 사용한다.\n",
    "그러나 비선형 분리의 경우, 적절한 kernel 함수를 선택하여 데이터를 고차원 공간으로 매핑한다. 이 고차원 공간에서는 선형 분리가 가능하게 된다.\n",
    "\n",
    "SVM에서 자주 사용되는 kernel 함수로는 linear, polynomial, rbf, sigmoid가 있다. 각 kernel 함수는 다른 형태의 결정 경계를 만든다.\n",
    "\n",
    "linear kernel은 선형 결정 경계를 만들기 위해 사용된다. polynomial kernel은 다항식으로 매핑하여 결정 경계를 만듭니다. \n",
    "\n",
    "rbf kernel은 가우시안 방사 기저 함수를 사용하여 결정 경계를 만든다. sigmoid kernel은 로지스틱 함수를 사용하여 결정 경계를 만든다\n",
    "\n",
    "다른 kernel 함수를 사용하면 결정 경계가 달라지기 때문에, 결과적으로 모델의 정확도가 달라질 수 있다. 위 결과에서도 kernel 함수를 바꾸면서\n",
    "\n",
    "모델의 정확도가 다르게 나타난 것을 볼 수 있다. 선택한 kernel 함수는 데이터의 특성과 문제에 따라 다르게 결정되어야 한다."
   ]
  },
  {
   "cell_type": "markdown",
   "id": "8c49b786-39cf-45fe-9778-45be544386c4",
   "metadata": {},
   "source": [
    "## 퍼셉트론\n",
    "\n",
    "이진 분류(Binary Classification) 문제를 풀기 위한 지도 학습 알고리즘 , 하나의 입력층과 하나의 출력층으로 이루어진 간단한 인공신경망\n",
    "\n",
    "데이터를 입력받아서 출력층에서 가중치와 곱해진 값들을 합산한 후, 임계값과 비교하여 1 또는 -1의 이진 분류 결과를 출력한다.\n",
    "\n"
   ]
  },
  {
   "cell_type": "code",
   "execution_count": 27,
   "id": "b5aeedcc-7718-4850-a725-fa945c61b43f",
   "metadata": {},
   "outputs": [],
   "source": [
    "class Perceptron:\n",
    " \n",
    "    def __init__(self, eta=0.01, n_iter=50):\n",
    "        self.eta = eta\n",
    "        self.n_iter = n_iter\n",
    "\n",
    "    def fit(self, X, y):\n",
    "\n",
    "        self.w_ = np.random.randn(1 + X.shape[1])\n",
    "        self.errors_ = []\n",
    "\n",
    "        for _ in range(self.n_iter):\n",
    "            errors = 0\n",
    "            for xi, target in zip(X, y):\n",
    "                update = self.eta * (target - self.predict(xi))\n",
    "                self.w_[1:] += update * xi\n",
    "                self.w_[0] += update\n",
    "                errors += int(update != 0.0)\n",
    "            self.errors_.append(errors)\n",
    "        return self\n",
    "\n",
    "    def net_input(self, X):\n",
    "        return np.dot(X, self.w_[1:]) + self.w_[0]\n",
    "\n",
    "    def predict(self, X):\n",
    "        return np.where(self.net_input(X) >= 0.0, 1, -1)"
   ]
  },
  {
   "cell_type": "markdown",
   "id": "3d24009b-4efc-4be2-b134-8b3d5ca04999",
   "metadata": {},
   "source": [
    "### 코드 설명 \n",
    "\n",
    "1.Perceptron 클래스의 생성자 메소드  def __init__(self, eta=0.01, n_iter=50) =>   eta= 학습률(얼마나 빨리) , n_iter=학습횟수\n",
    "\n",
    "2.Perceptron 클래스의 핵심 메소드   def fit(self, X, y)~ => \n",
    "\n",
    "입력 데이터 X와 타깃값 y를 받아 모델을 학습, p.random.randn() 함수를 사용하여 가중치 w_를 초기화, errors_ 리스트를 초기화하고, 학습을 n_iter번 반복.\n",
    "\n",
    "각 반복에서는 X와 y를 순회하면서, 각 데이터 xi와 그에 해당하는 타깃값 target을 이용하여 예측값 self.predict(xi)과 타깃값 target의 차이를 계산하여 update에 저장. \n",
    "\n",
    "update를  이용하여 가중치 w_를 업데이트하고, 잘못 분류된 데이터의 개수 errors를 계산합니다. 각 반복에서 errors_ 리스트에 errors 값을 추가합니다. 완료되면 학습된 모델 self를 반환\n",
    "\n",
    "3.입력 데이터 X와 가중치 w_의 내적을 계산하여 반환\n",
    "\n",
    "4.X를 net_input() 메소드를 사용하여 가중치와 곱해진 값들의 합을 계산하고, 이 값이 0보다 크거나 같으면 1을 반환하고 그렇지 않으면 -1을 반환"
   ]
  },
  {
   "cell_type": "code",
   "execution_count": 10,
   "id": "7bc8297d-1902-4298-9375-b37aca4e7809",
   "metadata": {},
   "outputs": [],
   "source": [
    "from sklearn.linear_model import Perceptron"
   ]
  },
  {
   "cell_type": "markdown",
   "id": "4d06ac7f-a454-4287-a660-58e7eeb9ffbe",
   "metadata": {},
   "source": [
    "##### 직접 정의한 class Perceptron과 차이점\n",
    "\n",
    "sklearn에서 제공하는 Perceptron는 경사 하강법을 사용하여 가중치를 업데이트. sklearn에서는 fit() 메소드에 X 데이터와 y 레이블만 넣어주면 자동으로 절편 항을 추가하여 가중치를 학습\n",
    "\n",
    "직접 정의한 Perceptron 클래스는 매 에포크마다 모든 데이터를 하나씩 사용하여 가중치를 업데이트합니다. 또한 절편 항을 나타내는 가중치가 w_[0]에 저장.\n",
    "\n",
    "두 클래스는 목적은 같지만, 내부적인 구현 방식에서 차이가 있다."
   ]
  },
  {
   "cell_type": "markdown",
   "id": "f1d51d59-566b-4328-98dc-59cb58cadb51",
   "metadata": {},
   "source": [
    "# EDA\n",
    "\n",
    "EDA(Exploratory Data Analysis)는 데이터 분석의 첫 단계로, 데이터를 탐색하고 시각화하여 데이터의 특징과 구조를 파악하는 과정. \n",
    "\n",
    "EDA를 통해 데이터의 결측치, 이상치, 분포, 상관관계 등을 확인하고 데이터의 특징을 파악할 수 있다. \n",
    "\n",
    "1.데이터 로딩: 분석할 데이터를 불러온다..\n",
    "\n",
    "2.데이터 탐색: 데이터의 크기, 변수의 개수, 변수의 데이터 타입 등 기본적인 정보를 파악한다.\n",
    "\n",
    "3.데이터 시각화: 변수 간의 관계, 변수 분포 등을 시각화하여 데이터의 패턴과 특징을 파악한다.\n",
    "\n",
    "4.데이터 전처리: 결측치, 이상치, 중복 데이터 등을 처리한다.\n",
    "\n",
    "5.변수 선택: 모델링에 사용할 변수를 선택한다.\n",
    "\n",
    "6.변수 변환: 변수를 변환하여 모델링에 적합한 형태로 만든다.\n",
    "\n",
    "7.데이터 분석: EDA 결과를 바탕으로 데이터 분석을 수행한다..\n",
    "\n",
    "8.결과 시각화: 분석 결과를 시각화하여 보고서나 프레젠테이션 등으로 제시한다 "
   ]
  },
  {
   "cell_type": "code",
   "execution_count": 48,
   "id": "e01b414a-a674-4258-917c-3481c13cf5b6",
   "metadata": {},
   "outputs": [],
   "source": [
    "# train test set 분리\n",
    "\n",
    "X_train, X_test, y_train , y_test = train_test_split(X,y,test_size =.2)\n",
    "\n",
    "# 학습용 / 검증용 나누기 , 전체 데이터셋의 20%를 검증용으로 사용"
   ]
  },
  {
   "cell_type": "markdown",
   "id": "ed3a4c13-b615-4c6e-9097-625dbef793e6",
   "metadata": {},
   "source": [
    "모델 설정: 사용할 모델과 모델의 하이퍼파라미터를 선택. -> 모델 학습: 데이터를 모델에 입력하여 학습시키기\n",
    "\n",
    "->모델 평가: 학습된 모델을 테스트 데이터에 적용하여 성능을 평가. -> 모델 활용: 학습된 모델을 활용하여 새로운 데이터에 대해 예측\n",
    "\n",
    "이러한 과정을 반복하면서 모델의 성능을 개선하고 최적의 모델을 찾아내는 것이 목표"
   ]
  },
  {
   "cell_type": "code",
   "execution_count": 49,
   "id": "84b0471c-b98b-4887-9568-28193010ae3d",
   "metadata": {},
   "outputs": [],
   "source": [
    "# 모델 설정\n",
    "data_split = train_test_split\n",
    "tree_clf = DecisionTreeClassifier()"
   ]
  },
  {
   "cell_type": "code",
   "execution_count": 50,
   "id": "aca4997e-a98f-41b2-8577-2177e9124058",
   "metadata": {},
   "outputs": [
    {
     "data": {
      "text/plain": [
       "DecisionTreeClassifier()"
      ]
     },
     "execution_count": 50,
     "metadata": {},
     "output_type": "execute_result"
    }
   ],
   "source": [
    "# 모델 학습\n",
    "tree_clf.fit(X_train,y_train)"
   ]
  },
  {
   "cell_type": "code",
   "execution_count": 51,
   "id": "3f0fe507-39b9-4435-8f1a-d858ba48cc5d",
   "metadata": {},
   "outputs": [
    {
     "data": {
      "text/plain": [
       "0.9666666666666667"
      ]
     },
     "execution_count": 51,
     "metadata": {},
     "output_type": "execute_result"
    }
   ],
   "source": [
    "# 모델평가\n",
    "# test 데이터 사용 , score 내는 절차\n",
    "# 메소드 predict를 활용하여 score 계산 \n",
    "\n",
    "pred_result = tree_clf.predict(X_test)\n",
    "np.sum(pred_result == y_test) / y_test.size"
   ]
  },
  {
   "cell_type": "code",
   "execution_count": 52,
   "id": "cc914534-f32a-4386-ad56-37e329f5cfa3",
   "metadata": {},
   "outputs": [
    {
     "data": {
      "text/plain": [
       "0.9666666666666667"
      ]
     },
     "execution_count": 52,
     "metadata": {},
     "output_type": "execute_result"
    }
   ],
   "source": [
    "# score 함수를 사용해도 똑같다.\n",
    "tree_clf.score(X_test,y_test)"
   ]
  },
  {
   "cell_type": "code",
   "execution_count": 53,
   "id": "552c55c6-f667-445b-b30f-bd76676f2820",
   "metadata": {},
   "outputs": [
    {
     "data": {
      "text/plain": [
       "0.9666666666666667"
      ]
     },
     "execution_count": 53,
     "metadata": {},
     "output_type": "execute_result"
    }
   ],
   "source": [
    "accuracy_score(tree_clf.predict(X_test),y_test)\n",
    "\n",
    "# 여기서는 위의 값과 같지만 위의 식은 accuracy가 아닌 경우도 있다 예를 들어, 다중 분류 문제에서는 정확도 대신 f1-score, precision, recall "
   ]
  },
  {
   "cell_type": "markdown",
   "id": "b54e37fa-24bc-4f45-86ce-d75fe3a3d053",
   "metadata": {},
   "source": [
    "만약 np.sum(pred_result == y_test)와 y_test.size가 같아서 1.0이 나오는 경우는 모든 데이터를 정확하게 예측한 경우.\n",
    "\n",
    "이는 과적합이 발생한 가능성이 있다. 과적합 여부는 모델이 학습한 데이터에서는 높은 정확도를 보이지만, 새로운 데이터에서는 성능이 낮아지는 경우.\n",
    "\n",
    "따라서 모델이 과적합인지 아닌지를 판단하기 위해서는 모델이 학습한 데이터와 다른 새로운 데이터를 가지고 모델을 평가해야 한다."
   ]
  },
  {
   "cell_type": "code",
   "execution_count": 54,
   "id": "51216419-b996-442b-a6a1-bd845b2e056c",
   "metadata": {},
   "outputs": [
    {
     "data": {
      "text/plain": [
       "array([1])"
      ]
     },
     "execution_count": 54,
     "metadata": {},
     "output_type": "execute_result"
    }
   ],
   "source": [
    "# 모델활용\n",
    "new_data = np.array([6.2,2.7,3.2,0.7]).reshape(1,-1)\n",
    "tree_clf.predict(new_data)"
   ]
  },
  {
   "cell_type": "code",
   "execution_count": 56,
   "id": "0f92eaf4-f690-4a53-9618-afa4cb74a280",
   "metadata": {},
   "outputs": [],
   "source": [
    "from sklearn.tree import plot_tree\n",
    "\n",
    "# Scikit-learn의 DecisionTreeClassifier모델에서 만들어진 결정 트리의 시각화를 제공하는 함수"
   ]
  },
  {
   "cell_type": "code",
   "execution_count": 57,
   "id": "1d210588-eba1-48c6-b04a-d626e2b73843",
   "metadata": {},
   "outputs": [
    {
     "data": {
      "text/plain": [
       "{'ccp_alpha': 0.0,\n",
       " 'class_weight': None,\n",
       " 'criterion': 'gini',\n",
       " 'max_depth': None,\n",
       " 'max_features': None,\n",
       " 'max_leaf_nodes': None,\n",
       " 'min_impurity_decrease': 0.0,\n",
       " 'min_samples_leaf': 1,\n",
       " 'min_samples_split': 2,\n",
       " 'min_weight_fraction_leaf': 0.0,\n",
       " 'random_state': None,\n",
       " 'splitter': 'best'}"
      ]
     },
     "execution_count": 57,
     "metadata": {},
     "output_type": "execute_result"
    }
   ],
   "source": [
    "tree_clf.get_params()\n",
    "\n",
    "# DecisionTreeClassifier의 hyperparameter들을 딕셔너리 형태로 반환."
   ]
  },
  {
   "cell_type": "code",
   "execution_count": 58,
   "id": "2829adb5-9c4e-49d8-8c23-cce087b57aff",
   "metadata": {},
   "outputs": [],
   "source": [
    "tree_model = DecisionTreeClassifier(criterion='entrophy')\n",
    "\n",
    "# DecisionTreeClassifier() 함수 안에 criterion 매개변수를 사용하여 정보 이득 또는 지니 불순도를 지정할 수 있다. "
   ]
  },
  {
   "cell_type": "markdown",
   "id": "88ca58a2-b051-4103-a50d-bce3620bc772",
   "metadata": {},
   "source": [
    "## 지니 불순도(Gini impurity)\n",
    "\n",
    "정 트리 알고리즘에서 노드의 순도를 측정하는 방법 중 하나. 이는 불순도가 낮을수록 노드가 순수하다는 것을 의미한다.\n",
    "\n",
    "노드의 지니 불순도를 계산하는 방법은 해당 노드에 속하는 데이터 샘플들이 각각 다른 클래스에 속할 확률을 제곱하여 더한 후, 그 값을 1에서 빼는 것이다.\n",
    "\n",
    "예를 들어, 노드에 속한 데이터 샘플이 60개이고, 그 중 클래스 A에 속하는 샘플이 20개, 클래스 B 30개, 클래스 C 10개라면, 해당 노드의 지니 불순도는 다음과 같이 계산된다.\n",
    "\n",
    "$1 - ((20/60)^2 + (30/60)^2 + (10/60)^2) = 0.55$\n",
    "\n",
    "노드의 지니 불순도는  0에 가까울수록 노드가 순수해지고, 1에 가까울수록 노드의 불순한 것을 의미. 결정 트리 알고리즘에서는 지니 불순도를 최소화하는 방향으로 트리를 분기한다."
   ]
  },
  {
   "cell_type": "code",
   "execution_count": 59,
   "id": "86cec286-5258-4bb0-8971-835874006848",
   "metadata": {},
   "outputs": [],
   "source": [
    "params = {\n",
    "    'criterion' : 'gini',\n",
    "    'max_depth':4,\n",
    "}\n",
    "tree_model = DecisionTreeClassifier(**params)"
   ]
  },
  {
   "cell_type": "code",
   "execution_count": 60,
   "id": "4ffc8847-66b2-41cb-9953-63b58b2607cb",
   "metadata": {},
   "outputs": [],
   "source": [
    "# tree_model.get_params()를 해보면 저 두개가 바뀐게 보인다"
   ]
  },
  {
   "cell_type": "markdown",
   "id": "ba0a8d9b-4f99-4070-bd96-db3776a7ac06",
   "metadata": {},
   "source": [
    "## 앙상블(Ensemble)\n",
    "\n",
    "여러 개의 다른 머신 러닝 알고리즘을 조합하여 하나의 모델을 만드는 방법. 앙상블은 단일 모델보다 더 나은 성능을 내는 경우가 많다. \n",
    "\n",
    "이는 여러 가지 알고리즘의 각각의 강점을 살려서 결합하기 때문,대표적인 앙상블 알고리즘으로는 랜덤 포레스트(Random Forest), 부스팅(Boosting), 배깅(Bagging) 등이 있다.\n",
    "\n",
    "\n",
    "#### 종류\n",
    "\n",
    "1.랜덤 포레스트 (Random Forest):\n",
    "랜덤 포레스트는 여러 개의 결정 트리를 만들고 그들의 다수결로 결과를 예측하는 방식. \n",
    "\n",
    "이 때 각 결정 트리는 서로 다른 데이터를 사용하여 만들어지며, 랜덤하게 선택된 일부 특성을 사용하여 학습합니다. 이렇게 하면 개별 결정 트리보다 더 높은 예측 성능을 얻을 수 있다.\n",
    "\n",
    "2.부스팅 (Boosting):\n",
    "부스팅은 이전 결정 트리의 오차를 보완하는 새로운 결정 트리를 만드는 과정을 반복하여 최종적으로 모든 결정 트리의 결과를 다수결로 결정. \n",
    "\n",
    "이 때 이전 결정 트리에서 잘못 예측한 샘플에 가중치를 높여 다음 결정 트리에서 더 많은 비중을 두게 합니다. 이를 통해 예측 성능을 높일 수 있다.\n",
    "\n",
    "3.베깅 (Bagging):\n",
    "베깅은 여러 개의 데이터 샘플을 랜덤하게 선택하여 각각의 데이터 샘플에 대해 결정 트리를 만든다. 이렇게 만들어진 결정 트리들의 결과를 다수결로 예측합니다.\n",
    "\n",
    "이 방법은 랜덤 포레스트와 유사하지만, 같은 데이터 샘플을 중복해서 사용할 수 있다는 점에서 차이가 있다."
   ]
  },
  {
   "cell_type": "code",
   "execution_count": 61,
   "id": "7a33fbae-4975-4163-a264-4b4ea5bcefaa",
   "metadata": {},
   "outputs": [],
   "source": [
    "import sklearn.ensemble"
   ]
  },
  {
   "cell_type": "code",
   "execution_count": 62,
   "id": "59500e0c-06b5-4f84-a665-7777d6bbd905",
   "metadata": {},
   "outputs": [],
   "source": [
    "X = np.random.randn(1000,3)\n",
    "y = np.array([1]*999 + [0])"
   ]
  },
  {
   "cell_type": "code",
   "execution_count": 63,
   "id": "e738976c-00ef-4f9d-b7d3-9b11a5e9593e",
   "metadata": {},
   "outputs": [
    {
     "data": {
      "text/plain": [
       "DecisionTreeClassifier()"
      ]
     },
     "execution_count": 63,
     "metadata": {},
     "output_type": "execute_result"
    }
   ],
   "source": [
    "tree_clf = DecisionTreeClassifier()\n",
    "tree_clf.fit(X,y)"
   ]
  },
  {
   "cell_type": "code",
   "execution_count": 64,
   "id": "d206407b-3318-41e5-b7e9-f8eaf2c2545b",
   "metadata": {},
   "outputs": [],
   "source": [
    "linear_model = LinearRegression()"
   ]
  },
  {
   "cell_type": "code",
   "execution_count": 65,
   "id": "b40910fd-6ad1-42fc-8941-71baf9dc42ee",
   "metadata": {},
   "outputs": [
    {
     "data": {
      "text/plain": [
       "LinearRegression()"
      ]
     },
     "execution_count": 65,
     "metadata": {},
     "output_type": "execute_result"
    }
   ],
   "source": [
    "linear_model.fit(X,y)"
   ]
  },
  {
   "cell_type": "code",
   "execution_count": 66,
   "id": "130bef8a-69f3-4641-96e6-1ec2d20c9ab7",
   "metadata": {},
   "outputs": [
    {
     "data": {
      "text/plain": [
       "0.999"
      ]
     },
     "execution_count": 66,
     "metadata": {},
     "output_type": "execute_result"
    }
   ],
   "source": [
    "accuracy_score(np.where(linear_model.predict(X) > 0.5,1,0),y)"
   ]
  },
  {
   "cell_type": "markdown",
   "id": "1274ad34-46ed-4a8a-8086-62c847453551",
   "metadata": {},
   "source": [
    "#### 0.999?\n",
    "\n",
    "모델 학습 과정에서 훈련 데이터를 전체적으로 활용해서 모델을 학습시키기 때문에, 모델이 훈련 데이터에 매우 잘 맞을 수 있다. \n",
    "\n",
    "그러나 이는 모델이 훈련 데이터에 대해서만 잘 동작한다는 것을 의미하며, 모델의 일반화 성능이 좋다는 것을 보장하지 않는다.\n",
    "\n",
    "따라서, 모델의 성능을 평가할 때는 보통 훈련 데이터와 다른 데이터를 사용하여 평가한다 위 코드에서는 훈련 데이터를 사용하여 모델의 성능을 평가하였에, 결과가 매우 높게 나온 것.\n",
    "\n",
    "훈련 데이터와 다른 데이터를 사용하여 모델의 성능을 평가하는 것이 중요합니다. 훈련 데이터와 검증 데이터, 혹은 훈련 데이터와 테스트 데이터를 분리하여 사용하는 것이 일반적이다."
   ]
  },
  {
   "cell_type": "code",
   "execution_count": 67,
   "id": "1854f53d-ddb8-4597-ab73-b0efea638498",
   "metadata": {},
   "outputs": [
    {
     "data": {
      "text/plain": [
       "array([[ 1.8413187 ,  0.48930949, -0.24241443],\n",
       "       [ 0.54587469,  0.87751394, -0.33810705],\n",
       "       [-0.08165662,  0.09947835,  0.9333951 ],\n",
       "       ...,\n",
       "       [ 1.01738679,  0.31884292, -0.24997085],\n",
       "       [-0.50685028,  0.64231506, -0.82856781],\n",
       "       [ 0.34798952,  1.84825958,  1.23356182]])"
      ]
     },
     "execution_count": 67,
     "metadata": {},
     "output_type": "execute_result"
    }
   ],
   "source": [
    "X"
   ]
  },
  {
   "cell_type": "markdown",
   "id": "96c3f522-8e00-41f3-ac33-e0f470c1ac7f",
   "metadata": {},
   "source": [
    "## entropy"
   ]
  },
  {
   "cell_type": "markdown",
   "id": "d539ea16-f194-406e-b7e3-0a40866c0da4",
   "metadata": {},
   "source": [
    "엔트로피가 최대값에 가까울 수록 균등하다. 엔트로피의 최대값은 log2(n)으로 생각해놓자."
   ]
  },
  {
   "cell_type": "code",
   "execution_count": 201,
   "id": "63b6b9cc-a0ac-4d27-9aa1-5807d63184c3",
   "metadata": {},
   "outputs": [],
   "source": [
    "from scipy.stats import entropy"
   ]
  },
  {
   "cell_type": "markdown",
   "id": "4ee55dac-d592-4c91-9d12-d7d150764976",
   "metadata": {},
   "source": [
    "#### 활용\n",
    "\n",
    "entropy(data.x1.value_counts(),base=2)) \n",
    "\n",
    "base를 안붙여주면 밑이 e인 log함수로 구한다. "
   ]
  },
  {
   "cell_type": "code",
   "execution_count": 202,
   "id": "05d79d96-e70a-4175-9643-eb5da05945af",
   "metadata": {},
   "outputs": [],
   "source": [
    "x1 = np.random.choice([0,1,2,3,4],20)\n",
    "x2 = np.random.choice([0,1,2,3,4],20)\n",
    "y = np.random.choice([0,1,2,3,4],20)"
   ]
  },
  {
   "cell_type": "code",
   "execution_count": 203,
   "id": "98118221-4633-4152-934a-5f7739faeb62",
   "metadata": {},
   "outputs": [],
   "source": [
    "data = pd.DataFrame(np.c_[x1,x2,y])"
   ]
  },
  {
   "cell_type": "code",
   "execution_count": 204,
   "id": "46e5efcb-6bec-49b9-bc4f-5c44f5db3fcd",
   "metadata": {},
   "outputs": [],
   "source": [
    "data.columns = ['x1','x2','y']"
   ]
  },
  {
   "cell_type": "code",
   "execution_count": 205,
   "id": "a1cf15b8-29eb-4094-8658-58131326c97f",
   "metadata": {},
   "outputs": [
    {
     "data": {
      "text/html": [
       "<div>\n",
       "<style scoped>\n",
       "    .dataframe tbody tr th:only-of-type {\n",
       "        vertical-align: middle;\n",
       "    }\n",
       "\n",
       "    .dataframe tbody tr th {\n",
       "        vertical-align: top;\n",
       "    }\n",
       "\n",
       "    .dataframe thead th {\n",
       "        text-align: right;\n",
       "    }\n",
       "</style>\n",
       "<table border=\"1\" class=\"dataframe\">\n",
       "  <thead>\n",
       "    <tr style=\"text-align: right;\">\n",
       "      <th></th>\n",
       "      <th>x1</th>\n",
       "      <th>x2</th>\n",
       "      <th>y</th>\n",
       "    </tr>\n",
       "  </thead>\n",
       "  <tbody>\n",
       "    <tr>\n",
       "      <th>0</th>\n",
       "      <td>2</td>\n",
       "      <td>1</td>\n",
       "      <td>4</td>\n",
       "    </tr>\n",
       "    <tr>\n",
       "      <th>1</th>\n",
       "      <td>2</td>\n",
       "      <td>2</td>\n",
       "      <td>3</td>\n",
       "    </tr>\n",
       "    <tr>\n",
       "      <th>2</th>\n",
       "      <td>0</td>\n",
       "      <td>1</td>\n",
       "      <td>4</td>\n",
       "    </tr>\n",
       "    <tr>\n",
       "      <th>3</th>\n",
       "      <td>4</td>\n",
       "      <td>0</td>\n",
       "      <td>1</td>\n",
       "    </tr>\n",
       "    <tr>\n",
       "      <th>4</th>\n",
       "      <td>3</td>\n",
       "      <td>0</td>\n",
       "      <td>0</td>\n",
       "    </tr>\n",
       "    <tr>\n",
       "      <th>5</th>\n",
       "      <td>3</td>\n",
       "      <td>0</td>\n",
       "      <td>3</td>\n",
       "    </tr>\n",
       "    <tr>\n",
       "      <th>6</th>\n",
       "      <td>2</td>\n",
       "      <td>2</td>\n",
       "      <td>0</td>\n",
       "    </tr>\n",
       "    <tr>\n",
       "      <th>7</th>\n",
       "      <td>4</td>\n",
       "      <td>2</td>\n",
       "      <td>0</td>\n",
       "    </tr>\n",
       "    <tr>\n",
       "      <th>8</th>\n",
       "      <td>4</td>\n",
       "      <td>2</td>\n",
       "      <td>0</td>\n",
       "    </tr>\n",
       "    <tr>\n",
       "      <th>9</th>\n",
       "      <td>1</td>\n",
       "      <td>3</td>\n",
       "      <td>3</td>\n",
       "    </tr>\n",
       "    <tr>\n",
       "      <th>10</th>\n",
       "      <td>2</td>\n",
       "      <td>4</td>\n",
       "      <td>4</td>\n",
       "    </tr>\n",
       "    <tr>\n",
       "      <th>11</th>\n",
       "      <td>2</td>\n",
       "      <td>1</td>\n",
       "      <td>1</td>\n",
       "    </tr>\n",
       "    <tr>\n",
       "      <th>12</th>\n",
       "      <td>0</td>\n",
       "      <td>2</td>\n",
       "      <td>1</td>\n",
       "    </tr>\n",
       "    <tr>\n",
       "      <th>13</th>\n",
       "      <td>0</td>\n",
       "      <td>0</td>\n",
       "      <td>4</td>\n",
       "    </tr>\n",
       "    <tr>\n",
       "      <th>14</th>\n",
       "      <td>1</td>\n",
       "      <td>2</td>\n",
       "      <td>0</td>\n",
       "    </tr>\n",
       "    <tr>\n",
       "      <th>15</th>\n",
       "      <td>0</td>\n",
       "      <td>2</td>\n",
       "      <td>0</td>\n",
       "    </tr>\n",
       "    <tr>\n",
       "      <th>16</th>\n",
       "      <td>0</td>\n",
       "      <td>4</td>\n",
       "      <td>0</td>\n",
       "    </tr>\n",
       "    <tr>\n",
       "      <th>17</th>\n",
       "      <td>1</td>\n",
       "      <td>0</td>\n",
       "      <td>0</td>\n",
       "    </tr>\n",
       "    <tr>\n",
       "      <th>18</th>\n",
       "      <td>1</td>\n",
       "      <td>0</td>\n",
       "      <td>4</td>\n",
       "    </tr>\n",
       "    <tr>\n",
       "      <th>19</th>\n",
       "      <td>2</td>\n",
       "      <td>2</td>\n",
       "      <td>2</td>\n",
       "    </tr>\n",
       "  </tbody>\n",
       "</table>\n",
       "</div>"
      ],
      "text/plain": [
       "    x1  x2  y\n",
       "0    2   1  4\n",
       "1    2   2  3\n",
       "2    0   1  4\n",
       "3    4   0  1\n",
       "4    3   0  0\n",
       "5    3   0  3\n",
       "6    2   2  0\n",
       "7    4   2  0\n",
       "8    4   2  0\n",
       "9    1   3  3\n",
       "10   2   4  4\n",
       "11   2   1  1\n",
       "12   0   2  1\n",
       "13   0   0  4\n",
       "14   1   2  0\n",
       "15   0   2  0\n",
       "16   0   4  0\n",
       "17   1   0  0\n",
       "18   1   0  4\n",
       "19   2   2  2"
      ]
     },
     "execution_count": 205,
     "metadata": {},
     "output_type": "execute_result"
    }
   ],
   "source": [
    "data"
   ]
  },
  {
   "cell_type": "code",
   "execution_count": 206,
   "id": "490c5208-f3b9-47e7-b798-2dc394a88417",
   "metadata": {},
   "outputs": [
    {
     "data": {
      "text/plain": [
       "2    6\n",
       "0    5\n",
       "1    4\n",
       "4    3\n",
       "3    2\n",
       "Name: x1, dtype: int64"
      ]
     },
     "execution_count": 206,
     "metadata": {},
     "output_type": "execute_result"
    }
   ],
   "source": [
    "data.x1.value_counts()"
   ]
  },
  {
   "cell_type": "code",
   "execution_count": 207,
   "id": "074bdab5-3735-48fe-b947-7418c0bb8dc1",
   "metadata": {},
   "outputs": [
    {
     "name": "stdout",
     "output_type": "stream",
     "text": [
      "2.2282129458410016\n",
      "2.008694969562842\n",
      "2.0659573209491744\n"
     ]
    }
   ],
   "source": [
    "print(entropy(data.x1.value_counts(),base=2))\n",
    "print(entropy(data.x2.value_counts(),base=2))\n",
    "print(entropy(data.y.value_counts(),base=2))"
   ]
  },
  {
   "cell_type": "markdown",
   "id": "ddfea449-458f-4222-a904-05a4e2672543",
   "metadata": {},
   "source": [
    "엔트로피의 범위는 [0,logw(5)] ,log2(5)는 약 2.3219니 비교적 균등한 분포라고 볼 수 있다."
   ]
  },
  {
   "cell_type": "markdown",
   "id": "3d166f7d-20a3-4e5b-b95d-b640744184f0",
   "metadata": {},
   "source": [
    "## 확률 이해에 도움이 되는 몬티"
   ]
  },
  {
   "cell_type": "code",
   "execution_count": 22,
   "id": "46848991-371f-448c-8d47-f4ad29a049b7",
   "metadata": {},
   "outputs": [],
   "source": [
    "def monti(epoch, method):\n",
    "    prize = 0\n",
    "    for i in range(epoch):\n",
    "        sample = np.random.choice([1,2,3],1)\n",
    "        select = np.random.choice([1,2,3],1)\n",
    "        data = np.array([1,2,3])\n",
    "        show = data[(data != sample) & (data != select )][0]\n",
    "        if method == 'switch':\n",
    "            choice = data[(data != select[0]) & (data != show)]\n",
    "            prize += (choice == sample)\n",
    "        elif method == 'fix':\n",
    "            choice = select\n",
    "            prize += (choice == sample)\n",
    "        elif method == 'random':\n",
    "            choice = np.random.choice(data[data != show],1)\n",
    "            prize += (choice == sample)\n",
    "        win = np.around(prize/epoch,2)[0]*100\n",
    "    return f'{method}가 일경우 승리 확률은 {win}% 입니다'"
   ]
  },
  {
   "cell_type": "markdown",
   "id": "b680ef5a-924e-4f3b-82db-f1ecd5f75085",
   "metadata": {},
   "source": [
    "참가자가 세 개의 문 중 하나를 선택하고, 진행자가 선택한 문 중에 참가자가 선택하지 않은 다른 문을 열어서 보여준다.참가자는 선택을 바꿀지 결정"
   ]
  },
  {
   "cell_type": "code",
   "execution_count": 24,
   "id": "2b881e3d-9039-4260-baf0-37caed6a33dd",
   "metadata": {},
   "outputs": [
    {
     "data": {
      "text/plain": [
       "'switch가 일경우 승리 확률은 65.0% 입니다'"
      ]
     },
     "execution_count": 24,
     "metadata": {},
     "output_type": "execute_result"
    }
   ],
   "source": [
    "monti(1000,'switch')"
   ]
  }
 ],
 "metadata": {
  "kernelspec": {
   "display_name": "donga",
   "language": "python",
   "name": "donga"
  },
  "language_info": {
   "codemirror_mode": {
    "name": "ipython",
    "version": 3
   },
   "file_extension": ".py",
   "mimetype": "text/x-python",
   "name": "python",
   "nbconvert_exporter": "python",
   "pygments_lexer": "ipython3",
   "version": "3.9.13"
  }
 },
 "nbformat": 4,
 "nbformat_minor": 5
}
