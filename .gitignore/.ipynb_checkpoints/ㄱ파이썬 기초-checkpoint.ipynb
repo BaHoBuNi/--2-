{
 "cells": [
  {
   "cell_type": "code",
   "execution_count": 1,
   "id": "73fb0fee-8d31-4be6-ba97-8665bbd3e01c",
   "metadata": {},
   "outputs": [],
   "source": [
    "# 3월 3일 ~ 3월 10일 파이썬 기초 강의 내용 총 정리 (6일치)"
   ]
  },
  {
   "cell_type": "code",
   "execution_count": 5,
   "id": "a188796b-f2fa-4617-b75d-9802c68f82e8",
   "metadata": {},
   "outputs": [],
   "source": [
    "## 1일차"
   ]
  },
  {
   "cell_type": "code",
   "execution_count": 6,
   "id": "133262c0-049b-400d-888d-18517a09fed6",
   "metadata": {},
   "outputs": [],
   "source": [
    "import keyword"
   ]
  },
  {
   "cell_type": "code",
   "execution_count": 7,
   "id": "0cd3897d-e981-4657-aa3f-df2ac1b01c5d",
   "metadata": {},
   "outputs": [
    {
     "data": {
      "text/plain": [
       "['False',\n",
       " 'None',\n",
       " 'True',\n",
       " '__peg_parser__',\n",
       " 'and',\n",
       " 'as',\n",
       " 'assert',\n",
       " 'async',\n",
       " 'await',\n",
       " 'break',\n",
       " 'class',\n",
       " 'continue',\n",
       " 'def',\n",
       " 'del',\n",
       " 'elif',\n",
       " 'else',\n",
       " 'except',\n",
       " 'finally',\n",
       " 'for',\n",
       " 'from',\n",
       " 'global',\n",
       " 'if',\n",
       " 'import',\n",
       " 'in',\n",
       " 'is',\n",
       " 'lambda',\n",
       " 'nonlocal',\n",
       " 'not',\n",
       " 'or',\n",
       " 'pass',\n",
       " 'raise',\n",
       " 'return',\n",
       " 'try',\n",
       " 'while',\n",
       " 'with',\n",
       " 'yield']"
      ]
     },
     "execution_count": 7,
     "metadata": {},
     "output_type": "execute_result"
    }
   ],
   "source": [
    "keyword.kwlist"
   ]
  },
  {
   "cell_type": "code",
   "execution_count": null,
   "id": "8ce22e85-8214-445b-b3bb-e4495f31c41a",
   "metadata": {},
   "outputs": [],
   "source": [
    "키워드 : 특별 의미를 가지는 예약어 , 함수,변수명으로 사용 못한다.\n",
    "\n",
    "while: 반복문에서 사용되며, 조건이 참일 때 코드 블록을 반복적으로 실행하는 키워드\n",
    "break: 반복문에서 사용되며, 반복문을 중단시키는 키워드\n",
    "continue: 반복문에서 사용되며, 현재 반복을 중단하고 다음 반복을 실행하는 키워드\n",
    "\n",
    "del: 객체를 삭제할 때 사용되는 키워드\n",
    "\n",
    "try: 예외 처리에서 사용되며, 코드 블록을 실행하고 예외가 발생하면 예외 처리 코드를 실행하는 키워드\n",
    "\n",
    "except: 예외 처리에서 사용되며, try 블록에서 예외가 발생하면 실행되는 코드 블록을 나타내는 키워드\n",
    "\n",
    "finally: 예외 처리에서 사용되며, 예외 발생 여부와 상관없이 반드시 실행되는 코드 블록을 나타내는 키워드\n",
    "\n",
    "\n",
    "try:\n",
    "    예외 발생 가능성 있는 코드\n",
    "except:\n",
    "    pass\n",
    "\n",
    "프로그램 강제 종료부터 막는 목적으로 except 구문에 아무 것도 넣지 않고 try 구문 사용\n",
    "\n",
    "try는 단독 사용 불가 반드시 except나 finally랑 함께\n",
    "\n",
    "return을 통해 중간에 탈출해도 반드시 finally는 실행됨"
   ]
  },
  {
   "cell_type": "code",
   "execution_count": null,
   "id": "2a6a767d-3d0c-4453-87f7-e176133fee95",
   "metadata": {},
   "outputs": [],
   "source": [
    "식별자 : 프로그래밍 언어에서 이름 붙일 떄 사용하는 단어\n",
    "\n",
    "숫자,공백 시작 x \n",
    "파이썬에서는 주로 스네이크 케이스 ex) iten_list\n",
    "변수 또는 함수 이름으로 사용 -> 키워드 사용 불가\n",
    "의미있는 단어로 사용할 것"
   ]
  },
  {
   "cell_type": "code",
   "execution_count": null,
   "id": "d141ba47-487f-47b3-b7ae-61301f5e5933",
   "metadata": {},
   "outputs": [],
   "source": [
    "자료형\n",
    "\n",
    "문자열(String) 자료형: 문자열(str)\n",
    "숫자(Number) 자료형: 정수형(int), 실수형(float), 복소수형(complex) - 스칼라\n",
    "불리언(Boolean) 자료형: 참(True), 거짓(False)\n",
    "리스트(List) 자료형: 리스트(list)\n",
    "튜플(Tuple) 자료형: 튜플(tuple)\n",
    "딕셔너리(Dictionary) 자료형: 딕셔너리(dict)\n",
    "\n",
    "시퀀스 자료형 : 이터의 순서를 가지고 나열된 자료형 ex) 문자열,튜플,리스트  "
   ]
  },
  {
   "cell_type": "code",
   "execution_count": null,
   "id": "a9094345-9916-4c5a-946f-29c7686c1a79",
   "metadata": {},
   "outputs": [],
   "source": [
    "# 문자열 자료형\n",
    "\n",
    "\\n  : 여러줄 문자열 \n",
    "\\   : 줄바꿈 없이 문자열 만들기\n",
    "+   : 문자열 연결\n",
    "*   : 문자열 반복\n",
    "[]  : 인덱싱 , 문자열 내부의 문자 하나를 선택 , 파이썬은 제로인덱스 [ 0 ~ n=1] , 거꾸로 할경우 [=n~-1]\n",
    "[:] : 슬라이싱, 파이썬은 마지막 숫자 포함하지 않음 , 전체를 가져오려면 [: n+1],  [n:] n번쨰부터 끝까지 \n",
    "\n",
    "input함수는 안에 무엇을 넣어도 문자열, 바꾸려면 cast =>int(),float()\n",
    "\n",
    "foramt함수는 {}.format(숫자)로 숫자를 문자열로 바꾸는 것\n",
    "\"{:g}\".format(매개변수) => 의미없는 소수점 제거\n",
    "\n",
    ".strip():문자열 양옆 공백 제거 , (l,r 앞에 붙여서 왼쪽,오른쪽만 가능)\n",
    ".find : 왼쪽부터 찾아 처음 등장하는 위치 찾아줌\n",
    ".split : 특정한 문자로 자름 , 결과는 리스트로 출력\n"
   ]
  },
  {
   "cell_type": "code",
   "execution_count": null,
   "id": "8dc818af-7be1-4b62-b9a6-7039c6b3e4d8",
   "metadata": {},
   "outputs": [],
   "source": [
    "# 숫자 자료형\n",
    "\n",
    "정수형(int) , 실수형(float)\n",
    "\n",
    "나눗셈할경우 소수점이 없어보여도 자동으로 실수형으로 바뀐다\n",
    "\n",
    "// : 몫\n",
    "%  : 나머지\n",
    "** : 제곱"
   ]
  },
  {
   "cell_type": "code",
   "execution_count": null,
   "id": "269e9a30-e935-43a6-a8ea-3f0bd95602f2",
   "metadata": {},
   "outputs": [],
   "source": [
    "# 불린, 불리언 , 불 자료형\n",
    "\n",
    "Boolean => True,False 나타내는 값\n",
    "\n",
    "비교연산자 : >,<,!,=  대소 비교하여 불 만듦\n",
    "\n",
    "논리연산자 : not and or 불 불만들 때 사용\n"
   ]
  },
  {
   "cell_type": "code",
   "execution_count": null,
   "id": "30d04e44-8745-45d8-a367-cfb350c3beda",
   "metadata": {},
   "outputs": [],
   "source": [
    "# 리스트 자료형\n",
    "\n",
    "list = [ ] , 대괄호 내부에 자료(elemet,요소) 넣어 선언\n",
    "\n",
    "인덱싱으로 내부 요소 변경 가능, 이중 선택가능\n",
    "\n",
    "+                    = 리스트 연결\n",
    "*                    = 요소 반복\n",
    "len()                = 요소의 개수\n",
    ".append(요소)        = 리스트 뒤에 요소 추가\n",
    ".insert(위치,요소)   = 정한 위치에 요소 추가\n",
    ".extend()            = 리스트 뒤에 새 리스트 모두 추가\n",
    "\n",
    "단순 연결의 경우 원본에 변화 없는데 요소 추가할 경우 원본이 변한다\n",
    "=> 참조를 막기위해서는 li = li.copy()를 활용할 것\n",
    "\n",
    "요소제거 \n",
    "\n",
    "del 리스트명[인덱스] : 범위 지정 제거 가능\n",
    "리스트명.pop(인덱스) : 끄집어내는데 원본을 지운다\n",
    "리스트명.remove(값)  : 특정 값 지정하여 제거\n",
    "리스트명.clear()     : 내부 요소 모두 제거\n",
    "\n",
    "enumerate(리스트명) = 시퀀스 자료형(리스트, 튜플, 문자열 등)의 \n",
    "각 항목에 대해 인덱스(index)와 값을 반환하는 내장 함수\n",
    "\n",
    "revesred() = 해당 시퀀스 자료형을 복사하여 역순으로 반환하는 것이 아니라,\n",
    "원래 시퀀스 자료형을 변경하지 않고역순으로 반환하는 이터레이터 객체를 반환"
   ]
  },
  {
   "cell_type": "code",
   "execution_count": null,
   "id": "34b59034-0a69-4283-bd9e-c6bf3623b50a",
   "metadata": {},
   "outputs": [],
   "source": [
    "# 딕셔너리 자료형\n",
    "\n",
    "dict_a = {\n",
    "    'a':'a',\n",
    "    'b':'b'\n",
    "}\n",
    "\n",
    "dict_a['a'] 이런 식으로 사용하지 dict_a{a} 이렇게 쓰는 것은 틀리다\n",
    "\n",
    "dict_a[새로운 키] = 새로운 값 => 딕셔너리에 새 자료 추가\n",
    "dict_a['a'] = c   = 기존의 a가 c로 대치됨\n",
    "del dict_a['a']   = 요소 제거\n",
    "\n",
    "dict_a.get()      = 딕셔너리 키로 값 추출 , 없으면 None\n",
    "\n",
    "dict_a(zip(dk,dt) = zip을 통해 리스트 dk,dt를 딕셔너리로 만들기 가능\n",
    "\n",
    "dict_a.item()     = 딕셔너리의 모든 키-값 쌍을 (key, value) 형태의 튜플로 반환"
   ]
  },
  {
   "cell_type": "code",
   "execution_count": null,
   "id": "9071780e-288c-4e58-98ff-ab2d7f4f85ef",
   "metadata": {},
   "outputs": [],
   "source": [
    "# Error의 종류\n",
    "\n",
    "syntax error : 구문 오류(프로그램 실행전)\n",
    "\n",
    "Index error  : 시퀀스 자료형에서 존재하지 않는 인덱스를 참조할 때,\n",
    "                중괄호 개수가 매개변수 개수보다 많을 때\n",
    "\n",
    "Type error   : 서로 다른 자료 연산시,매개변수를 알맞게게 넣지 않은 경우\n",
    "\n",
    "Value error  : 변환 안되는 것 변환 , 숫자 아닌 것 숫자로 변환\n",
    "\n",
    "Name error   : 'name'이 정의되지 않음\n",
    "\n",
    "Key error    : 딕셔너리에 존재하지 않는 키에 접근할 때\n"
   ]
  },
  {
   "cell_type": "code",
   "execution_count": null,
   "id": "fccdd5bb-a56a-46f2-a87f-85f4e6369ea5",
   "metadata": {},
   "outputs": [],
   "source": [
    "# 반복문 for , while\n",
    "\n",
    "for 반복문  => for 반복문은 주어진 컬렉션을 끝까지 순회하면 반복이 종료되기 때문에\n",
    "                     컬렉션의 요소를 전부 처리해야 하는 경우에 적합\n",
    "\n",
    "for 숫자변수 in 범위:\n",
    "     코드\n",
    "\n",
    "While 반복문 => while 반복문은 조건식에 따라 반복을 계속할지 결정하기 때문에, \n",
    "                반복 횟수를 명확히 알 수 없는 경우에 유용\n",
    "    \n"
   ]
  },
  {
   "cell_type": "code",
   "execution_count": null,
   "id": "9d4be8cd-ec82-4d6c-b934-1ff5abc76ea2",
   "metadata": {},
   "outputs": [],
   "source": [
    "# 함수\n",
    "\n",
    "def 함수 이름(매개변수):\n",
    "    문장\n",
    "    \n",
    "가변 매개변수 : ex) def A(n,*values)의 *values , n번 반복!\n",
    "    매개변수의 개수가 정해지지 않은 함수를 구현하는 데 사용\n",
    "    변수내용 하나만 사용가능 \n",
    "\n",
    "기본 매개변수 : def A(value,n=2)\n",
    "    매개변수 값 입력하지 않았을 경우 매개변수에 들어가는 기본값\n",
    "    \n",
    "키워드 매개변수 : def A(a,b=10,c=20) \n",
    "\n",
    "기본형 => def 함수(매개변수):\n",
    "          return 변수\n",
    "          \n",
    "return을 만나서 성립하면 거기서 함수가 끝난다 뒤에\n",
    "뭘 붙여도 결과는 안바뀐다\n",
    "\n",
    "# 재귀 함수로 팩토리얼 만들기\n",
    "\n",
    "def f(n):\n",
    "    if n == 0:\n",
    "        return 1\n",
    "    return n*f(n-1)\n",
    "\n",
    "# 피보나치\n",
    "\n",
    "def fibo(n):\n",
    "    if n==1 or n==2:\n",
    "        return 1\n",
    "    else:\n",
    "        return fibo(n-1) + fibo(n-2)\n",
    "\n",
    "# 재귀 함수를 이용하여 한번에 괄호 벗기기(=리스트 평탄화)\n",
    "\n",
    "def flatten(data):\n",
    "    result = []\n",
    "    for i in data:\n",
    "        if type(i) == list:\n",
    "            result = result + flatten(i)\n",
    "        else:\n",
    "            result = result + [i]\n",
    "    return result\n",
    "\n"
   ]
  },
  {
   "cell_type": "code",
   "execution_count": null,
   "id": "f841ff20-b687-4b92-8bae-10bd4295bb3b",
   "metadata": {},
   "outputs": [],
   "source": [
    "# 튜플,람다 => 파이썬 only 문법\n",
    "\n",
    "튜플 : (데이터,데이터,데이터,,,,,,) \n",
    "    함수와 함께 많이 사용되는 리스트와 비슷한 자료형으로, \n",
    "    한번 결정된 요소를 바꿀 수 없다는 점이 리스트와 다름\n",
    "    \n",
    "lambda 함수 : lambda 매개변수 : 리턴값\n",
    "    매개변수로 함수를 전달하기 위해 함수 구문을 작성하는 것이 \n",
    "    번거롭고 코드 낭비라 생각될 때 함수를 간단하고 쉽게 선언하는 방법\n",
    "    \n",
    "map 함수 : map( 함수,이터러블 ) \n",
    "\n",
    "\n",
    "filter 함수 : filter(함수 , 이터러블) \n",
    "    \n",
    "map 함수는 함수가 적용된 결과를 모두 반환하고\n",
    "filter 함수는 함수가 적용된 결과가 True인 요소만을 반환    \n",
    "    "
   ]
  },
  {
   "cell_type": "code",
   "execution_count": 2,
   "id": "5cf7e050-de42-4bec-b4d6-b12e2f065efb",
   "metadata": {},
   "outputs": [],
   "source": [
    "# 클래스와 객체\n",
    "    객체 지향 프로그래밍\n",
    "    \n",
    "    객체 : 파이썬의 모든 것,객체는 데이터와 메소드를 포함하는 캡슐화된 단위\n",
    "    \n",
    "    클래스 : 객체를 조금 더 효율적으로 생성하기 위해 만들어진 구문\n",
    "    \n",
    "    인스턴스 :  클래스에 의해 정의된 객체 , 재사용성  높이기 가능\n",
    "        독립적인 상태를 가지므로, 같은 클래스에서 여러 개의 인스턴스를 생성\n",
    "    \n",
    "    생성자 : 클래스의 이름과 동일한 메서드이며, 반환 값 없음 \n",
    "    보통 클래스의 인스턴스 변수를 초기화하고 필요한 초기화 작업을 수행하는 코드를 포함\n",
    "    \n",
    "    메소드 : 메소드(method)는 객체가 가지고 있는 함수 (=클래스 내부에 정의된 함수)\n",
    "        \n",
    "class Calc:\n",
    "    def __init__(self):\n",
    "        pass"
   ]
  },
  {
   "cell_type": "code",
   "execution_count": 6,
   "id": "09f8b93f-c34a-489f-bede-c3a72a9e9376",
   "metadata": {},
   "outputs": [],
   "source": [
    "class List:\n",
    "    def __init__(self,*x):\n",
    "        self.values = []\n",
    "        for value in x:\n",
    "            self.values.append(value)\n",
    "    \n",
    "    def append_(self,x):\n",
    "        self.values += [x]\n",
    "    \n",
    "    def clear_(self):\n",
    "        self.values = []\n",
    "    \n",
    "    def copy_(self):\n",
    "        values = [] \n",
    "        for value in self.values:\n",
    "            values.append(value)\n",
    "        return values\n",
    "    \n",
    "    def count_(self,x):\n",
    "        cnt = 0\n",
    "        for value in self.values:\n",
    "            if value == x:\n",
    "                cnt += 1\n",
    "        return cnt\n",
    "    \n",
    "    def extend_(self,x):\n",
    "        self.values += x\n",
    "    \n",
    "    def index_(self,x):\n",
    "        for idx,value in enumerate(self.values):\n",
    "            if x == value:\n",
    "                break\n",
    "        if idx+1 == len(self.values):\n",
    "            print('값이 없습니다')\n",
    "        return idx\n",
    "    \n",
    "    def insert_(self,idx,value):\n",
    "        self.values = self.values[:idx] + [value] + self.values[idx:]\n",
    "    \n",
    "    def pop_(self,idx):\n",
    "        result = self.values[idx]\n",
    "        self.values = self.values[:idx]+self.values[idx+1:]\n",
    "        return result\n",
    "    \n",
    "    def remove_(self,value):\n",
    "        idx = self.index_(value)\n",
    "        self.values = self.values[:idx]+self.values[idx+1:]\n",
    "    \n",
    "    def reverse_(self):\n",
    "        self.values = self.values[::-1]\n",
    "    \n",
    "    def sort_(self):\n",
    "        for j in range(len(self.values)):\n",
    "            for i in range(len(self.values) - 1):\n",
    "                 if self.values[i] > self.values[i+1]:\n",
    "                    self.values[i+1],self.values[i] = self.values[i],self.values[i+1]"
   ]
  },
  {
   "cell_type": "code",
   "execution_count": 5,
   "id": "df7c7d8c-05f4-4100-a836-135450ec87be",
   "metadata": {},
   "outputs": [],
   "source": [
    "# 모듈\n",
    "\n",
    "# from 모듈 import 함수\n",
    "\n",
    "라이브러리 (library)  ex) NumPy, Pandas, Matplotlib\n",
    "        개발자가 작성한 코드에서 호출하여 사용하는 도구\n",
    "\n",
    "프레임워크 (framework) ex)Django, Flask, Ruby on Rails\n",
    "        개발자가 작성한 코드를 프레임워크에서 정의한 흐름에 맞게 실행하는 도구\n",
    "\n"
   ]
  },
  {
   "cell_type": "code",
   "execution_count": null,
   "id": "6bfc4815-58d3-41af-9210-6208e837391e",
   "metadata": {},
   "outputs": [],
   "source": [
    "# os 모듈\n",
    "    # 운영체제와 관련된 기능 가진 모듈\n",
    "     # 새로운 폴더 만들거나 폴더 내부 파일 목록 확인 \n",
    "import os\n",
    "\n",
    "폴더 만들기, 제거 (비었을 때)\n",
    "os.mkdir \n",
    "os.rmdir \n",
    "\n",
    "os.remove\n",
    "\n",
    "시스템 명령어 실행\n",
    "os.system"
   ]
  },
  {
   "cell_type": "code",
   "execution_count": 43,
   "id": "f56860dd-f5ea-41d1-9549-c87eab4c1631",
   "metadata": {},
   "outputs": [
    {
     "data": {
      "text/plain": [
       "14"
      ]
     },
     "execution_count": 43,
     "metadata": {},
     "output_type": "execute_result"
    }
   ],
   "source": [
    "# 현재 시각 datetime\n",
    "\n",
    "from datetime import datetime\n",
    "datetime.now().hour\n",
    "\n",
    "# 원래 datetime을 쓰면 datetime.datetime을 써야하지만 from ~ import를 쓰면 한번만 써도 된다"
   ]
  },
  {
   "cell_type": "code",
   "execution_count": 45,
   "id": "af0027fc-a7b7-427b-bc0f-39c372088eac",
   "metadata": {},
   "outputs": [
    {
     "data": {
      "text/plain": [
       "1679289679.0770314"
      ]
     },
     "execution_count": 45,
     "metadata": {},
     "output_type": "execute_result"
    }
   ],
   "source": [
    "from time import time\n",
    "time()\n",
    "\n",
    "# 유닉스 타임 \n",
    "# 유닉스 타임(Unix Time)은 1970년 1월 1일 00:00:00 UTC부터 현재까지 \n",
    "# 경과한 시간을 초 단위로 나타낸 값"
   ]
  },
  {
   "cell_type": "code",
   "execution_count": 28,
   "id": "1d858e24-77b4-4a74-8918-1bb610115deb",
   "metadata": {},
   "outputs": [],
   "source": [
    "# 예제 모음"
   ]
  },
  {
   "cell_type": "code",
   "execution_count": 29,
   "id": "ce26e17d-b626-49dd-bfad-a7c69dee89e8",
   "metadata": {},
   "outputs": [
    {
     "name": "stdout",
     "output_type": "stream",
     "text": [
      "1\n",
      "2\n",
      "3\n",
      "4\n",
      "5\n",
      "6\n",
      "7\n",
      "8\n",
      "9\n"
     ]
    }
   ],
   "source": [
    "li = [[1,2,3],\n",
    "      [4,5,6,7],\n",
    "      [8,9]]\n",
    "\n",
    "for i in li:\n",
    "    for j in i:\n",
    "        print(j)\n",
    "\n",
    "        # 괄호 벗겨서 짜르르르르 나열해봐라"
   ]
  },
  {
   "cell_type": "code",
   "execution_count": 51,
   "id": "57d25789-898e-4873-9a67-b1831b1c8358",
   "metadata": {},
   "outputs": [
    {
     "name": "stdout",
     "output_type": "stream",
     "text": [
      "1 1 10\n",
      "2 2 100\n",
      "3 6 1000\n",
      "4 24 10000\n",
      "5 120 100000\n",
      "6 720 1000000\n",
      "7 5040 10000000\n",
      "8 40320 100000000\n",
      "9 362880 1000000000\n",
      "10 3628800 10000000000\n",
      "11 39916800 100000000000\n",
      "12 479001600 1000000000000\n",
      "13 6227020800 10000000000000\n",
      "14 87178291200 100000000000000\n",
      "15 1307674368000 1000000000000000\n",
      "16 20922789888000 10000000000000000\n",
      "17 355687428096000 100000000000000000\n",
      "18 6402373705728000 1000000000000000000\n",
      "19 121645100408832000 10000000000000000000\n",
      "20 2432902008176640000 100000000000000000000\n",
      "21 51090942171709440000 1000000000000000000000\n",
      "22 1124000727777607680000 10000000000000000000000\n",
      "23 25852016738884976640000 100000000000000000000000\n",
      "24 620448401733239439360000 1000000000000000000000000\n",
      "25 15511210043330985984000000 10000000000000000000000000\n"
     ]
    }
   ],
   "source": [
    "factorial = 1\n",
    "_10n = 10\n",
    "number = 1\n",
    "while factorial < _10n:\n",
    "    \n",
    "    factorial = 1\n",
    "    for i in range(1,number+1):\n",
    "        factorial = factorial*i\n",
    "    \n",
    "    _10n = 10**number\n",
    "    number += 1\n",
    "    print(number-1, factorial, _10n)\n",
    "\n",
    "# 팩토리얼이 10의 n승 역전하려면 몇 팩토리얼까지 가야하나"
   ]
  },
  {
   "cell_type": "code",
   "execution_count": 52,
   "id": "12c3aae1-6d9b-4872-a8c7-9f1e6a68bbdf",
   "metadata": {},
   "outputs": [
    {
     "name": "stdout",
     "output_type": "stream",
     "text": [
      "1 1 10\n",
      "2 2 100\n",
      "3 6 1000\n",
      "4 24 10000\n",
      "5 120 100000\n",
      "6 720 1000000\n",
      "7 5040 10000000\n",
      "8 40320 100000000\n",
      "9 362880 1000000000\n",
      "10 3628800 10000000000\n",
      "11 39916800 100000000000\n",
      "12 479001600 1000000000000\n",
      "13 6227020800 10000000000000\n",
      "14 87178291200 100000000000000\n",
      "15 1307674368000 1000000000000000\n",
      "16 20922789888000 10000000000000000\n",
      "17 355687428096000 100000000000000000\n",
      "18 6402373705728000 1000000000000000000\n",
      "19 121645100408832000 10000000000000000000\n",
      "20 2432902008176640000 100000000000000000000\n",
      "21 51090942171709440000 1000000000000000000000\n",
      "22 1124000727777607680000 10000000000000000000000\n",
      "23 25852016738884976640000 100000000000000000000000\n",
      "24 620448401733239439360000 1000000000000000000000000\n",
      "25 15511210043330985984000000 10000000000000000000000000\n"
     ]
    }
   ],
   "source": [
    "for number in range(1,10000):\n",
    "    fac = 1\n",
    "    _10 = 10\n",
    "    for i in range(1,number+1):\n",
    "        fac *= i\n",
    "    _10 = _10 ** number\n",
    "    print(number,fac,_10)\n",
    "    if fac > _10:\n",
    "        break\n",
    "\n",
    "# for로 만드는 문제 , 무한루프에 주의하세요"
   ]
  },
  {
   "cell_type": "code",
   "execution_count": null,
   "id": "a3185272-bb4c-4503-bf43-14f52ebc3e5f",
   "metadata": {},
   "outputs": [],
   "source": []
  }
 ],
 "metadata": {
  "kernelspec": {
   "display_name": "donga",
   "language": "python",
   "name": "donga"
  },
  "language_info": {
   "codemirror_mode": {
    "name": "ipython",
    "version": 3
   },
   "file_extension": ".py",
   "mimetype": "text/x-python",
   "name": "python",
   "nbconvert_exporter": "python",
   "pygments_lexer": "ipython3",
   "version": "3.9.13"
  }
 },
 "nbformat": 4,
 "nbformat_minor": 5
}
