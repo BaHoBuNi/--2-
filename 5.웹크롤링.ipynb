{
 "cells": [
  {
   "cell_type": "markdown",
   "id": "1d4241b1-3041-43e9-adbf-2783742c2457",
   "metadata": {},
   "source": [
    "## 구글 이미지 다운로드용 웹크롤링"
   ]
  },
  {
   "cell_type": "code",
   "execution_count": 15,
   "id": "81a1ae5b-ff88-40fc-b1ee-c44af7fae268",
   "metadata": {},
   "outputs": [],
   "source": [
    "# 내 크롬 버전 111.0.5563.147\n",
    "# chromedriver에서 버전 맞춰 깔기\n",
    "# Ctrl + Shift + I => 스크립트 보기 가능"
   ]
  },
  {
   "cell_type": "code",
   "execution_count": 3,
   "id": "21dcc30c-2698-43f6-98a9-b5217938c120",
   "metadata": {},
   "outputs": [],
   "source": [
    "import numpy as np\n",
    "import pandas as pd\n",
    "from selenium import webdriver\n",
    "from selenium.webdriver.common.by import By\n",
    "from selenium.webdriver.common.keys import Keys\n",
    "from urllib.request import urlretrieve\n",
    "import time"
   ]
  },
  {
   "cell_type": "code",
   "execution_count": 4,
   "id": "434a4e43-1253-4cc0-8f0c-cddec1519b1d",
   "metadata": {},
   "outputs": [],
   "source": [
    "# dir(driver)"
   ]
  },
  {
   "cell_type": "code",
   "execution_count": 15,
   "id": "6ec4ec69-4958-47f6-90b5-08c6c95aae2e",
   "metadata": {},
   "outputs": [
    {
     "name": "stderr",
     "output_type": "stream",
     "text": [
      "C:\\Users\\USER\\AppData\\Local\\Temp\\ipykernel_10148\\530843676.py:1: DeprecationWarning: executable_path has been deprecated, please pass in a Service object\n",
      "  driver = webdriver.Chrome('chromedriver.exe')\n"
     ]
    }
   ],
   "source": [
    "driver = webdriver.Chrome('chromedriver.exe')"
   ]
  },
  {
   "cell_type": "code",
   "execution_count": 16,
   "id": "42db2ddc-5038-454d-937a-6d85238c3a53",
   "metadata": {},
   "outputs": [],
   "source": [
    "url = 'https://www.google.co.kr/imghp?hl=ko&ogbl'\n",
    "driver.get(url)"
   ]
  },
  {
   "cell_type": "code",
   "execution_count": 8,
   "id": "c57c3868-bacc-4f1f-90b2-a0c82c5ddc6e",
   "metadata": {},
   "outputs": [],
   "source": [
    "elem = driver.find_element(By.NAME,'q')"
   ]
  },
  {
   "cell_type": "code",
   "execution_count": 9,
   "id": "551816bd-114f-4c9d-b7da-8aede3f09445",
   "metadata": {},
   "outputs": [],
   "source": [
    "search_img = '고양이'\n",
    "elem.send_keys(search_img)"
   ]
  },
  {
   "cell_type": "code",
   "execution_count": 12,
   "id": "33ece12a-d07b-4d4a-9aca-faf350c2a86f",
   "metadata": {},
   "outputs": [],
   "source": [
    "elem.send_keys(Keys.RETURN)"
   ]
  },
  {
   "cell_type": "code",
   "execution_count": 13,
   "id": "c40c03d0-963b-4fd5-b2fd-90ed4cf84e58",
   "metadata": {},
   "outputs": [],
   "source": [
    "driver.find_elements(By.CSS_SELECTOR,'.rg_i.Q4LuWd')[0].click()"
   ]
  },
  {
   "cell_type": "code",
   "execution_count": 83,
   "id": "9886d348-25ca-4be9-969f-5c1bd1a2b8ac",
   "metadata": {},
   "outputs": [],
   "source": [
    "img_url = driver.find_element(By.CSS_SELECTOR, '.n3VNCb.pT0Scc.KAlRDb').get_attribute('src')"
   ]
  },
  {
   "cell_type": "code",
   "execution_count": 85,
   "id": "4fd4b887-b359-4812-a6e5-b711fc2a1bf1",
   "metadata": {},
   "outputs": [
    {
     "data": {
      "text/plain": [
       "('mycat.jpg', <http.client.HTTPMessage at 0x18182dd11c0>)"
      ]
     },
     "execution_count": 85,
     "metadata": {},
     "output_type": "execute_result"
    }
   ],
   "source": [
    "urlretrieve(img_url,'mycat.jpg')"
   ]
  },
  {
   "cell_type": "code",
   "execution_count": 101,
   "id": "b4abc6af-6da3-4dc1-be9c-a8fd68edabee",
   "metadata": {},
   "outputs": [
    {
     "name": "stderr",
     "output_type": "stream",
     "text": [
      "C:\\Users\\USER\\AppData\\Local\\Temp\\ipykernel_12136\\574793689.py:1: DeprecationWarning: executable_path has been deprecated, please pass in a Service object\n",
      "  driver = webdriver.Chrome('chromedriver.exe')\n"
     ]
    }
   ],
   "source": [
    "driver = webdriver.Chrome('chromedriver.exe')\n",
    "\n",
    "url = 'https://www.google.co.kr/imghp?hl=ko&ogbl'\n",
    "driver.get(url)\n",
    "elem = driver.find_element(By.NAME,'q')\n",
    "search_img = '고양이'\n",
    "elem.send_keys(search_img)\n",
    "elem.send_keys(Keys.RETURN)\n",
    "time.sleep(1)\n",
    "driver.implicitly_wait(1)\n",
    "images = driver.find_elements(By.CSS_SELECTOR,'.rg_i.Q4LuWd')\n",
    "\n",
    "\n",
    "cnt =1\n",
    "for image in images:\n",
    "    image.click()\n",
    "    driver.implicitly_wait(1)\n",
    "    try:\n",
    "        img_url = driver.find_element(By.CSS_SELECTOR, '.n3VNCb').get_attribute('src')\n",
    "        urlretrieve(img_url,'mycat'+str(cnt)+'.jpg')\n",
    "        cnt +=1\n",
    "    except:\n",
    "        pass\n",
    "    \n",
    "driver.close()"
   ]
  },
  {
   "cell_type": "markdown",
   "id": "61651b73-0481-454c-a4c6-7b3854df051c",
   "metadata": {},
   "source": [
    "### 순서\n",
    "\n",
    "1. 웹드라이버를 불러오고, 구글 이미지 검색 페이지를 띄운다.\n",
    "\n",
    "2. 검색창에 검색어를 입력한다.\n",
    "\n",
    "3. 검색 결과에서 이미지들을 찾아 클릭한다.\n",
    "\n",
    "4. 이미지 링크를 추출하여 이미지를 다운로드한다.\n",
    "    \n",
    "5. 검색 결과 페이지 내 모든 이미지에 대해 반복 수행 \n",
    "\n",
    "5. 웹드라이버를 닫는다"
   ]
  },
  {
   "cell_type": "code",
   "execution_count": 1,
   "id": "5f433d26-c2dc-4469-8ff7-91fde6a17ffb",
   "metadata": {},
   "outputs": [],
   "source": [
    "# 스크롤을 끝까지 내려서 이미지를 전부 다운로드 하려면?"
   ]
  },
  {
   "cell_type": "code",
   "execution_count": 14,
   "id": "f74760e1-e5fc-429e-a402-2195e10097a9",
   "metadata": {},
   "outputs": [
    {
     "data": {
      "text/plain": [
       "7142"
      ]
     },
     "execution_count": 14,
     "metadata": {},
     "output_type": "execute_result"
    }
   ],
   "source": [
    "last_height = driver.execute_script(\"return document.body.scrollHeight;\")\n",
    "last_height"
   ]
  },
  {
   "cell_type": "markdown",
   "id": "fa72e3cd-d79b-4e11-99ab-1829a1f2df13",
   "metadata": {},
   "source": [
    "return document.body.scrollHeight는 이 코드는 현재 페이지의 전체 높이를 구하는 자바스크립트 코드"
   ]
  },
  {
   "cell_type": "code",
   "execution_count": 123,
   "id": "d3b7d151-b91d-4063-bdba-c13af4fcefad",
   "metadata": {},
   "outputs": [
    {
     "data": {
      "text/plain": [
       "31868"
      ]
     },
     "execution_count": 123,
     "metadata": {},
     "output_type": "execute_result"
    }
   ],
   "source": [
    "last_height"
   ]
  },
  {
   "cell_type": "code",
   "execution_count": 131,
   "id": "a42bb9fd-cdd0-4b42-9653-507664ab3ed5",
   "metadata": {},
   "outputs": [
    {
     "name": "stderr",
     "output_type": "stream",
     "text": [
      "C:\\Users\\USER\\AppData\\Local\\Temp\\ipykernel_12136\\163506525.py:1: DeprecationWarning: executable_path has been deprecated, please pass in a Service object\n",
      "  driver = webdriver.Chrome('chromedriver.exe')\n"
     ]
    },
    {
     "ename": "NoSuchWindowException",
     "evalue": "Message: no such window: target window already closed\nfrom unknown error: web view not found\n  (Session info: chrome=111.0.5563.147)\nStacktrace:\nBacktrace:\n\t(No symbol) [0x0038DCE3]\n\t(No symbol) [0x003239D1]\n\t(No symbol) [0x00234DA8]\n\t(No symbol) [0x0021D0D3]\n\t(No symbol) [0x0027EA8B]\n\t(No symbol) [0x0028D093]\n\t(No symbol) [0x0027ACC6]\n\t(No symbol) [0x00256F68]\n\t(No symbol) [0x002580CD]\n\tGetHandleVerifier [0x00603832+2506274]\n\tGetHandleVerifier [0x00639794+2727300]\n\tGetHandleVerifier [0x0063E36C+2746716]\n\tGetHandleVerifier [0x00436690+617600]\n\t(No symbol) [0x0032C712]\n\t(No symbol) [0x00331FF8]\n\t(No symbol) [0x003320DB]\n\t(No symbol) [0x0033C63B]\n\tBaseThreadInitThunk [0x76207D69+25]\n\tRtlInitializeExceptionChain [0x77B1B74B+107]\n\tRtlClearBits [0x77B1B6CF+191]\n",
     "output_type": "error",
     "traceback": [
      "\u001b[1;31m---------------------------------------------------------------------------\u001b[0m",
      "\u001b[1;31mNoSuchWindowException\u001b[0m                     Traceback (most recent call last)",
      "\u001b[1;32m~\\AppData\\Local\\Temp\\ipykernel_12136\\163506525.py\u001b[0m in \u001b[0;36m<module>\u001b[1;34m\u001b[0m\n\u001b[0;32m     11\u001b[0m \u001b[1;33m\u001b[0m\u001b[0m\n\u001b[0;32m     12\u001b[0m     \u001b[0mtime\u001b[0m\u001b[1;33m.\u001b[0m\u001b[0msleep\u001b[0m\u001b[1;33m(\u001b[0m\u001b[1;36m2\u001b[0m\u001b[1;33m)\u001b[0m\u001b[1;33m\u001b[0m\u001b[1;33m\u001b[0m\u001b[0m\n\u001b[1;32m---> 13\u001b[1;33m     \u001b[0mnew_height\u001b[0m \u001b[1;33m=\u001b[0m \u001b[0mdriver\u001b[0m\u001b[1;33m.\u001b[0m\u001b[0mexecute_script\u001b[0m\u001b[1;33m(\u001b[0m\u001b[1;34m\"return document.body.scrollHeight;\"\u001b[0m\u001b[1;33m)\u001b[0m\u001b[1;33m\u001b[0m\u001b[1;33m\u001b[0m\u001b[0m\n\u001b[0m\u001b[0;32m     14\u001b[0m     \u001b[1;32mif\u001b[0m \u001b[0mnew_height\u001b[0m \u001b[1;33m==\u001b[0m \u001b[0mlast_height\u001b[0m\u001b[1;33m:\u001b[0m\u001b[1;33m\u001b[0m\u001b[1;33m\u001b[0m\u001b[0m\n\u001b[0;32m     15\u001b[0m         \u001b[1;32mtry\u001b[0m\u001b[1;33m:\u001b[0m\u001b[1;33m\u001b[0m\u001b[1;33m\u001b[0m\u001b[0m\n",
      "\u001b[1;32m~\\anaconda3\\lib\\site-packages\\selenium\\webdriver\\remote\\webdriver.py\u001b[0m in \u001b[0;36mexecute_script\u001b[1;34m(self, script, *args)\u001b[0m\n\u001b[0;32m    498\u001b[0m         \u001b[0mcommand\u001b[0m \u001b[1;33m=\u001b[0m \u001b[0mCommand\u001b[0m\u001b[1;33m.\u001b[0m\u001b[0mW3C_EXECUTE_SCRIPT\u001b[0m\u001b[1;33m\u001b[0m\u001b[1;33m\u001b[0m\u001b[0m\n\u001b[0;32m    499\u001b[0m \u001b[1;33m\u001b[0m\u001b[0m\n\u001b[1;32m--> 500\u001b[1;33m         \u001b[1;32mreturn\u001b[0m \u001b[0mself\u001b[0m\u001b[1;33m.\u001b[0m\u001b[0mexecute\u001b[0m\u001b[1;33m(\u001b[0m\u001b[0mcommand\u001b[0m\u001b[1;33m,\u001b[0m \u001b[1;33m{\u001b[0m\u001b[1;34m\"script\"\u001b[0m\u001b[1;33m:\u001b[0m \u001b[0mscript\u001b[0m\u001b[1;33m,\u001b[0m \u001b[1;34m\"args\"\u001b[0m\u001b[1;33m:\u001b[0m \u001b[0mconverted_args\u001b[0m\u001b[1;33m}\u001b[0m\u001b[1;33m)\u001b[0m\u001b[1;33m[\u001b[0m\u001b[1;34m\"value\"\u001b[0m\u001b[1;33m]\u001b[0m\u001b[1;33m\u001b[0m\u001b[1;33m\u001b[0m\u001b[0m\n\u001b[0m\u001b[0;32m    501\u001b[0m \u001b[1;33m\u001b[0m\u001b[0m\n\u001b[0;32m    502\u001b[0m     \u001b[1;32mdef\u001b[0m \u001b[0mexecute_async_script\u001b[0m\u001b[1;33m(\u001b[0m\u001b[0mself\u001b[0m\u001b[1;33m,\u001b[0m \u001b[0mscript\u001b[0m\u001b[1;33m:\u001b[0m \u001b[0mstr\u001b[0m\u001b[1;33m,\u001b[0m \u001b[1;33m*\u001b[0m\u001b[0margs\u001b[0m\u001b[1;33m)\u001b[0m\u001b[1;33m:\u001b[0m\u001b[1;33m\u001b[0m\u001b[1;33m\u001b[0m\u001b[0m\n",
      "\u001b[1;32m~\\anaconda3\\lib\\site-packages\\selenium\\webdriver\\remote\\webdriver.py\u001b[0m in \u001b[0;36mexecute\u001b[1;34m(self, driver_command, params)\u001b[0m\n\u001b[0;32m    438\u001b[0m         \u001b[0mresponse\u001b[0m \u001b[1;33m=\u001b[0m \u001b[0mself\u001b[0m\u001b[1;33m.\u001b[0m\u001b[0mcommand_executor\u001b[0m\u001b[1;33m.\u001b[0m\u001b[0mexecute\u001b[0m\u001b[1;33m(\u001b[0m\u001b[0mdriver_command\u001b[0m\u001b[1;33m,\u001b[0m \u001b[0mparams\u001b[0m\u001b[1;33m)\u001b[0m\u001b[1;33m\u001b[0m\u001b[1;33m\u001b[0m\u001b[0m\n\u001b[0;32m    439\u001b[0m         \u001b[1;32mif\u001b[0m \u001b[0mresponse\u001b[0m\u001b[1;33m:\u001b[0m\u001b[1;33m\u001b[0m\u001b[1;33m\u001b[0m\u001b[0m\n\u001b[1;32m--> 440\u001b[1;33m             \u001b[0mself\u001b[0m\u001b[1;33m.\u001b[0m\u001b[0merror_handler\u001b[0m\u001b[1;33m.\u001b[0m\u001b[0mcheck_response\u001b[0m\u001b[1;33m(\u001b[0m\u001b[0mresponse\u001b[0m\u001b[1;33m)\u001b[0m\u001b[1;33m\u001b[0m\u001b[1;33m\u001b[0m\u001b[0m\n\u001b[0m\u001b[0;32m    441\u001b[0m             \u001b[0mresponse\u001b[0m\u001b[1;33m[\u001b[0m\u001b[1;34m\"value\"\u001b[0m\u001b[1;33m]\u001b[0m \u001b[1;33m=\u001b[0m \u001b[0mself\u001b[0m\u001b[1;33m.\u001b[0m\u001b[0m_unwrap_value\u001b[0m\u001b[1;33m(\u001b[0m\u001b[0mresponse\u001b[0m\u001b[1;33m.\u001b[0m\u001b[0mget\u001b[0m\u001b[1;33m(\u001b[0m\u001b[1;34m\"value\"\u001b[0m\u001b[1;33m,\u001b[0m \u001b[1;32mNone\u001b[0m\u001b[1;33m)\u001b[0m\u001b[1;33m)\u001b[0m\u001b[1;33m\u001b[0m\u001b[1;33m\u001b[0m\u001b[0m\n\u001b[0;32m    442\u001b[0m             \u001b[1;32mreturn\u001b[0m \u001b[0mresponse\u001b[0m\u001b[1;33m\u001b[0m\u001b[1;33m\u001b[0m\u001b[0m\n",
      "\u001b[1;32m~\\anaconda3\\lib\\site-packages\\selenium\\webdriver\\remote\\errorhandler.py\u001b[0m in \u001b[0;36mcheck_response\u001b[1;34m(self, response)\u001b[0m\n\u001b[0;32m    243\u001b[0m                 \u001b[0malert_text\u001b[0m \u001b[1;33m=\u001b[0m \u001b[0mvalue\u001b[0m\u001b[1;33m[\u001b[0m\u001b[1;34m\"alert\"\u001b[0m\u001b[1;33m]\u001b[0m\u001b[1;33m.\u001b[0m\u001b[0mget\u001b[0m\u001b[1;33m(\u001b[0m\u001b[1;34m\"text\"\u001b[0m\u001b[1;33m)\u001b[0m\u001b[1;33m\u001b[0m\u001b[1;33m\u001b[0m\u001b[0m\n\u001b[0;32m    244\u001b[0m             \u001b[1;32mraise\u001b[0m \u001b[0mexception_class\u001b[0m\u001b[1;33m(\u001b[0m\u001b[0mmessage\u001b[0m\u001b[1;33m,\u001b[0m \u001b[0mscreen\u001b[0m\u001b[1;33m,\u001b[0m \u001b[0mstacktrace\u001b[0m\u001b[1;33m,\u001b[0m \u001b[0malert_text\u001b[0m\u001b[1;33m)\u001b[0m  \u001b[1;31m# type: ignore[call-arg]  # mypy is not smart enough here\u001b[0m\u001b[1;33m\u001b[0m\u001b[1;33m\u001b[0m\u001b[0m\n\u001b[1;32m--> 245\u001b[1;33m         \u001b[1;32mraise\u001b[0m \u001b[0mexception_class\u001b[0m\u001b[1;33m(\u001b[0m\u001b[0mmessage\u001b[0m\u001b[1;33m,\u001b[0m \u001b[0mscreen\u001b[0m\u001b[1;33m,\u001b[0m \u001b[0mstacktrace\u001b[0m\u001b[1;33m)\u001b[0m\u001b[1;33m\u001b[0m\u001b[1;33m\u001b[0m\u001b[0m\n\u001b[0m",
      "\u001b[1;31mNoSuchWindowException\u001b[0m: Message: no such window: target window already closed\nfrom unknown error: web view not found\n  (Session info: chrome=111.0.5563.147)\nStacktrace:\nBacktrace:\n\t(No symbol) [0x0038DCE3]\n\t(No symbol) [0x003239D1]\n\t(No symbol) [0x00234DA8]\n\t(No symbol) [0x0021D0D3]\n\t(No symbol) [0x0027EA8B]\n\t(No symbol) [0x0028D093]\n\t(No symbol) [0x0027ACC6]\n\t(No symbol) [0x00256F68]\n\t(No symbol) [0x002580CD]\n\tGetHandleVerifier [0x00603832+2506274]\n\tGetHandleVerifier [0x00639794+2727300]\n\tGetHandleVerifier [0x0063E36C+2746716]\n\tGetHandleVerifier [0x00436690+617600]\n\t(No symbol) [0x0032C712]\n\t(No symbol) [0x00331FF8]\n\t(No symbol) [0x003320DB]\n\t(No symbol) [0x0033C63B]\n\tBaseThreadInitThunk [0x76207D69+25]\n\tRtlInitializeExceptionChain [0x77B1B74B+107]\n\tRtlClearBits [0x77B1B6CF+191]\n"
     ]
    }
   ],
   "source": [
    "driver = webdriver.Chrome('chromedriver.exe')\n",
    "url = \"https://www.google.co.kr/imghp?hl=ko&ogbl\"\n",
    "driver.get(url)\n",
    "elem = driver.find_element(By.NAME, 'q')\n",
    "search_img = '고양이'\n",
    "elem.send_keys(search_img)\n",
    "elem.send_keys(Keys.RETURN)\n",
    "last_height = driver.execute_script(\"return document.body.scrollHeight;\")\n",
    "while True:\n",
    "    driver.execute_script(\"window.scrollTo(0,document.body.scrollHeight);\")\n",
    "    \n",
    "    time.sleep(2)\n",
    "    new_height = driver.execute_script(\"return document.body.scrollHeight;\")\n",
    "    if new_height == last_height:\n",
    "        try:\n",
    "            driver.find_element(By.CSS_SELECTOR,'.mye4qd').click()\n",
    "        except:\n",
    "            break\n",
    "    last_height = new_height\n",
    "\n",
    "driver.implicitly_wait(1)\n",
    "images = driver.find_elements(By.CSS_SELECTOR,'.rg_i.Q4LuWd')\n",
    "cnt = 1\n",
    "for image in images:\n",
    "    try:\n",
    "        image.click()\n",
    "        driver.implicitly_wait(5)\n",
    "        img_url = driver.find_element(By.CSS_SELECTOR, '.n3VNCb').get_attribute('src')\n",
    "        urlretrieve(img_url,'mycat'+str(cnt)+'.jpg')\n",
    "        cnt += 1\n",
    "    except:\n",
    "        pass\n",
    "driver.close()"
   ]
  },
  {
   "cell_type": "markdown",
   "id": "d3982914-bbc7-4717-b500-53059d2f99f5",
   "metadata": {},
   "source": [
    "위에 있는 코드는 일정 높이에서 다운로드가 종료되어서 48개정도의 이미지만 나오지만\n",
    "\n",
    "이렇게 추가를 하면 종료되지 않고 수 천개 다운로드 된다."
   ]
  },
  {
   "cell_type": "markdown",
   "id": "5404fe3d-fe82-497d-948b-d9aec9e53fe3",
   "metadata": {},
   "source": [
    "### 구글 이미지 크롤링처럼 네이버 이미지 크롤링도 만들어보기"
   ]
  },
  {
   "cell_type": "code",
   "execution_count": 4,
   "id": "a12a48bf-122b-48fa-ac17-fc0b59068712",
   "metadata": {},
   "outputs": [
    {
     "name": "stderr",
     "output_type": "stream",
     "text": [
      "C:\\Users\\USER\\AppData\\Local\\Temp\\ipykernel_9904\\58427819.py:9: DeprecationWarning: executable_path has been deprecated, please pass in a Service object\n",
      "  driver = webdriver.Chrome('chromedriver.exe')\n"
     ]
    },
    {
     "ename": "NoSuchWindowException",
     "evalue": "Message: no such window: target window already closed\nfrom unknown error: web view not found\n  (Session info: chrome=112.0.5615.138)\nStacktrace:\nBacktrace:\n\tGetHandleVerifier [0x00B5DCE3+50899]\n\t(No symbol) [0x00AEE111]\n\t(No symbol) [0x009F5588]\n\t(No symbol) [0x009DD333]\n\t(No symbol) [0x00A3F4DB]\n\t(No symbol) [0x00A4DB33]\n\t(No symbol) [0x00A3B6F6]\n\t(No symbol) [0x00A17708]\n\t(No symbol) [0x00A1886D]\n\tGetHandleVerifier [0x00DC3EAE+2566302]\n\tGetHandleVerifier [0x00DF92B1+2784417]\n\tGetHandleVerifier [0x00DF327C+2759788]\n\tGetHandleVerifier [0x00BF5740+672048]\n\t(No symbol) [0x00AF8872]\n\t(No symbol) [0x00AF41C8]\n\t(No symbol) [0x00AF42AB]\n\t(No symbol) [0x00AE71B7]\n\tBaseThreadInitThunk [0x775F7D49+25]\n\tRtlInitializeExceptionChain [0x77DAB74B+107]\n\tRtlClearBits [0x77DAB6CF+191]\n",
     "output_type": "error",
     "traceback": [
      "\u001b[1;31m---------------------------------------------------------------------------\u001b[0m",
      "\u001b[1;31mNoSuchWindowException\u001b[0m                     Traceback (most recent call last)",
      "\u001b[1;32m~\\AppData\\Local\\Temp\\ipykernel_9904\\58427819.py\u001b[0m in \u001b[0;36m<module>\u001b[1;34m\u001b[0m\n\u001b[0;32m      9\u001b[0m \u001b[0mdriver\u001b[0m \u001b[1;33m=\u001b[0m \u001b[0mwebdriver\u001b[0m\u001b[1;33m.\u001b[0m\u001b[0mChrome\u001b[0m\u001b[1;33m(\u001b[0m\u001b[1;34m'chromedriver.exe'\u001b[0m\u001b[1;33m)\u001b[0m\u001b[1;33m\u001b[0m\u001b[1;33m\u001b[0m\u001b[0m\n\u001b[0;32m     10\u001b[0m \u001b[0murl\u001b[0m \u001b[1;33m=\u001b[0m \u001b[1;34m'https://search.naver.com/search.naver?where=image&sm=tab_jum&query='\u001b[0m\u001b[1;33m\u001b[0m\u001b[1;33m\u001b[0m\u001b[0m\n\u001b[1;32m---> 11\u001b[1;33m \u001b[0mdriver\u001b[0m\u001b[1;33m.\u001b[0m\u001b[0mget\u001b[0m\u001b[1;33m(\u001b[0m\u001b[0murl\u001b[0m\u001b[1;33m)\u001b[0m\u001b[1;33m\u001b[0m\u001b[1;33m\u001b[0m\u001b[0m\n\u001b[0m\u001b[0;32m     12\u001b[0m \u001b[0melem\u001b[0m \u001b[1;33m=\u001b[0m \u001b[0mdriver\u001b[0m\u001b[1;33m.\u001b[0m\u001b[0mfind_element\u001b[0m\u001b[1;33m(\u001b[0m\u001b[0mBy\u001b[0m\u001b[1;33m.\u001b[0m\u001b[0mNAME\u001b[0m\u001b[1;33m,\u001b[0m\u001b[1;34m'query'\u001b[0m\u001b[1;33m)\u001b[0m\u001b[1;33m\u001b[0m\u001b[1;33m\u001b[0m\u001b[0m\n\u001b[0;32m     13\u001b[0m \u001b[0msearch_img\u001b[0m \u001b[1;33m=\u001b[0m \u001b[1;34m'고양이'\u001b[0m\u001b[1;33m\u001b[0m\u001b[1;33m\u001b[0m\u001b[0m\n",
      "\u001b[1;32m~\\anaconda3\\lib\\site-packages\\selenium\\webdriver\\remote\\webdriver.py\u001b[0m in \u001b[0;36mget\u001b[1;34m(self, url)\u001b[0m\n\u001b[0;32m    447\u001b[0m     \u001b[1;32mdef\u001b[0m \u001b[0mget\u001b[0m\u001b[1;33m(\u001b[0m\u001b[0mself\u001b[0m\u001b[1;33m,\u001b[0m \u001b[0murl\u001b[0m\u001b[1;33m:\u001b[0m \u001b[0mstr\u001b[0m\u001b[1;33m)\u001b[0m \u001b[1;33m->\u001b[0m \u001b[1;32mNone\u001b[0m\u001b[1;33m:\u001b[0m\u001b[1;33m\u001b[0m\u001b[1;33m\u001b[0m\u001b[0m\n\u001b[0;32m    448\u001b[0m         \u001b[1;34m\"\"\"Loads a web page in the current browser session.\"\"\"\u001b[0m\u001b[1;33m\u001b[0m\u001b[1;33m\u001b[0m\u001b[0m\n\u001b[1;32m--> 449\u001b[1;33m         \u001b[0mself\u001b[0m\u001b[1;33m.\u001b[0m\u001b[0mexecute\u001b[0m\u001b[1;33m(\u001b[0m\u001b[0mCommand\u001b[0m\u001b[1;33m.\u001b[0m\u001b[0mGET\u001b[0m\u001b[1;33m,\u001b[0m \u001b[1;33m{\u001b[0m\u001b[1;34m\"url\"\u001b[0m\u001b[1;33m:\u001b[0m \u001b[0murl\u001b[0m\u001b[1;33m}\u001b[0m\u001b[1;33m)\u001b[0m\u001b[1;33m\u001b[0m\u001b[1;33m\u001b[0m\u001b[0m\n\u001b[0m\u001b[0;32m    450\u001b[0m \u001b[1;33m\u001b[0m\u001b[0m\n\u001b[0;32m    451\u001b[0m     \u001b[1;33m@\u001b[0m\u001b[0mproperty\u001b[0m\u001b[1;33m\u001b[0m\u001b[1;33m\u001b[0m\u001b[0m\n",
      "\u001b[1;32m~\\anaconda3\\lib\\site-packages\\selenium\\webdriver\\remote\\webdriver.py\u001b[0m in \u001b[0;36mexecute\u001b[1;34m(self, driver_command, params)\u001b[0m\n\u001b[0;32m    438\u001b[0m         \u001b[0mresponse\u001b[0m \u001b[1;33m=\u001b[0m \u001b[0mself\u001b[0m\u001b[1;33m.\u001b[0m\u001b[0mcommand_executor\u001b[0m\u001b[1;33m.\u001b[0m\u001b[0mexecute\u001b[0m\u001b[1;33m(\u001b[0m\u001b[0mdriver_command\u001b[0m\u001b[1;33m,\u001b[0m \u001b[0mparams\u001b[0m\u001b[1;33m)\u001b[0m\u001b[1;33m\u001b[0m\u001b[1;33m\u001b[0m\u001b[0m\n\u001b[0;32m    439\u001b[0m         \u001b[1;32mif\u001b[0m \u001b[0mresponse\u001b[0m\u001b[1;33m:\u001b[0m\u001b[1;33m\u001b[0m\u001b[1;33m\u001b[0m\u001b[0m\n\u001b[1;32m--> 440\u001b[1;33m             \u001b[0mself\u001b[0m\u001b[1;33m.\u001b[0m\u001b[0merror_handler\u001b[0m\u001b[1;33m.\u001b[0m\u001b[0mcheck_response\u001b[0m\u001b[1;33m(\u001b[0m\u001b[0mresponse\u001b[0m\u001b[1;33m)\u001b[0m\u001b[1;33m\u001b[0m\u001b[1;33m\u001b[0m\u001b[0m\n\u001b[0m\u001b[0;32m    441\u001b[0m             \u001b[0mresponse\u001b[0m\u001b[1;33m[\u001b[0m\u001b[1;34m\"value\"\u001b[0m\u001b[1;33m]\u001b[0m \u001b[1;33m=\u001b[0m \u001b[0mself\u001b[0m\u001b[1;33m.\u001b[0m\u001b[0m_unwrap_value\u001b[0m\u001b[1;33m(\u001b[0m\u001b[0mresponse\u001b[0m\u001b[1;33m.\u001b[0m\u001b[0mget\u001b[0m\u001b[1;33m(\u001b[0m\u001b[1;34m\"value\"\u001b[0m\u001b[1;33m,\u001b[0m \u001b[1;32mNone\u001b[0m\u001b[1;33m)\u001b[0m\u001b[1;33m)\u001b[0m\u001b[1;33m\u001b[0m\u001b[1;33m\u001b[0m\u001b[0m\n\u001b[0;32m    442\u001b[0m             \u001b[1;32mreturn\u001b[0m \u001b[0mresponse\u001b[0m\u001b[1;33m\u001b[0m\u001b[1;33m\u001b[0m\u001b[0m\n",
      "\u001b[1;32m~\\anaconda3\\lib\\site-packages\\selenium\\webdriver\\remote\\errorhandler.py\u001b[0m in \u001b[0;36mcheck_response\u001b[1;34m(self, response)\u001b[0m\n\u001b[0;32m    243\u001b[0m                 \u001b[0malert_text\u001b[0m \u001b[1;33m=\u001b[0m \u001b[0mvalue\u001b[0m\u001b[1;33m[\u001b[0m\u001b[1;34m\"alert\"\u001b[0m\u001b[1;33m]\u001b[0m\u001b[1;33m.\u001b[0m\u001b[0mget\u001b[0m\u001b[1;33m(\u001b[0m\u001b[1;34m\"text\"\u001b[0m\u001b[1;33m)\u001b[0m\u001b[1;33m\u001b[0m\u001b[1;33m\u001b[0m\u001b[0m\n\u001b[0;32m    244\u001b[0m             \u001b[1;32mraise\u001b[0m \u001b[0mexception_class\u001b[0m\u001b[1;33m(\u001b[0m\u001b[0mmessage\u001b[0m\u001b[1;33m,\u001b[0m \u001b[0mscreen\u001b[0m\u001b[1;33m,\u001b[0m \u001b[0mstacktrace\u001b[0m\u001b[1;33m,\u001b[0m \u001b[0malert_text\u001b[0m\u001b[1;33m)\u001b[0m  \u001b[1;31m# type: ignore[call-arg]  # mypy is not smart enough here\u001b[0m\u001b[1;33m\u001b[0m\u001b[1;33m\u001b[0m\u001b[0m\n\u001b[1;32m--> 245\u001b[1;33m         \u001b[1;32mraise\u001b[0m \u001b[0mexception_class\u001b[0m\u001b[1;33m(\u001b[0m\u001b[0mmessage\u001b[0m\u001b[1;33m,\u001b[0m \u001b[0mscreen\u001b[0m\u001b[1;33m,\u001b[0m \u001b[0mstacktrace\u001b[0m\u001b[1;33m)\u001b[0m\u001b[1;33m\u001b[0m\u001b[1;33m\u001b[0m\u001b[0m\n\u001b[0m",
      "\u001b[1;31mNoSuchWindowException\u001b[0m: Message: no such window: target window already closed\nfrom unknown error: web view not found\n  (Session info: chrome=112.0.5615.138)\nStacktrace:\nBacktrace:\n\tGetHandleVerifier [0x00B5DCE3+50899]\n\t(No symbol) [0x00AEE111]\n\t(No symbol) [0x009F5588]\n\t(No symbol) [0x009DD333]\n\t(No symbol) [0x00A3F4DB]\n\t(No symbol) [0x00A4DB33]\n\t(No symbol) [0x00A3B6F6]\n\t(No symbol) [0x00A17708]\n\t(No symbol) [0x00A1886D]\n\tGetHandleVerifier [0x00DC3EAE+2566302]\n\tGetHandleVerifier [0x00DF92B1+2784417]\n\tGetHandleVerifier [0x00DF327C+2759788]\n\tGetHandleVerifier [0x00BF5740+672048]\n\t(No symbol) [0x00AF8872]\n\t(No symbol) [0x00AF41C8]\n\t(No symbol) [0x00AF42AB]\n\t(No symbol) [0x00AE71B7]\n\tBaseThreadInitThunk [0x775F7D49+25]\n\tRtlInitializeExceptionChain [0x77DAB74B+107]\n\tRtlClearBits [0x77DAB6CF+191]\n"
     ]
    }
   ],
   "source": [
    "import numpy as np\n",
    "import pandas as pd\n",
    "from selenium import webdriver\n",
    "from selenium.webdriver.common.by import By\n",
    "from selenium.webdriver.common.keys import Keys\n",
    "from urllib.request import urlretrieve\n",
    "import time\n",
    "\n",
    "driver = webdriver.Chrome('chromedriver.exe')\n",
    "url = 'https://search.naver.com/search.naver?where=image&sm=tab_jum&query='\n",
    "driver.get(url)\n",
    "elem = driver.find_element(By.NAME,'query')\n",
    "search_img = '고양이'\n",
    "\n",
    "elem.send_keys(search_img)\n",
    "elem.send_keys(Keys.RETURN)\n",
    "time.sleep(1)\n",
    "driver.implicitly_wait(1)\n",
    "images = driver.find_elements(By.CSS_SELECTOR,'._image')\n",
    "\n",
    "cnt =1\n",
    "for image in images:\n",
    "    image.click()\n",
    "    driver.implicitly_wait(1)\n",
    "    try:\n",
    "        img_url = driver.find_element(By.CSS_SELECTOR, '._image').get_attribute('src')\n",
    "        urlretrieve(img_url,'mycat'+str(cnt)+'.jpg')\n",
    "        cnt +=1\n",
    "    except:\n",
    "        pass\n",
    "    \n",
    "driver.close()"
   ]
  },
  {
   "cell_type": "code",
   "execution_count": null,
   "id": "0eeccd3e-f28f-4554-9feb-810a3cbfce3c",
   "metadata": {},
   "outputs": [],
   "source": []
  }
 ],
 "metadata": {
  "kernelspec": {
   "display_name": "donga",
   "language": "python",
   "name": "donga"
  },
  "language_info": {
   "codemirror_mode": {
    "name": "ipython",
    "version": 3
   },
   "file_extension": ".py",
   "mimetype": "text/x-python",
   "name": "python",
   "nbconvert_exporter": "python",
   "pygments_lexer": "ipython3",
   "version": "3.9.13"
  }
 },
 "nbformat": 4,
 "nbformat_minor": 5
}
