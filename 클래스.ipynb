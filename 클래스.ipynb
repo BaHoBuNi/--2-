{
 "cells": [
  {
   "cell_type": "code",
   "execution_count": null,
   "id": "c0e81873-3e7d-4a11-b997-6aa8818d5b46",
   "metadata": {},
   "outputs": [],
   "source": []
  }
 ],
 "metadata": {
  "kernelspec": {
   "display_name": "donga",
   "language": "python",
   "name": "donga"
  },
  "language_info": {
   "codemirror_mode": {
    "name": "ipython",
    "version": 3
   },
   "file_extension": ".py",
   "mimetype": "text/x-python",
   "name": "python",
   "nbconvert_exporter": "python",
   "pygments_lexer": "ipython3",
   "version": "3.9.13"
  }
 },
 "nbformat": 4,
 "nbformat_minor": 5
}
