{
 "cells": [
  {
   "cell_type": "code",
   "execution_count": 1,
   "id": "8955800d-a339-48a7-be48-d42dfecc3301",
   "metadata": {},
   "outputs": [],
   "source": [
    "# Numpy (3.13~3.14)"
   ]
  },
  {
   "cell_type": "code",
   "execution_count": 2,
   "id": "e71ed4ba-3e29-4c61-a6ff-66147f8748c2",
   "metadata": {},
   "outputs": [],
   "source": [
    "import numpy as np"
   ]
  },
  {
   "cell_type": "code",
   "execution_count": 3,
   "id": "e5f80452-d47e-4465-80a6-aa7bfca2ba2b",
   "metadata": {},
   "outputs": [],
   "source": [
    "arr = np.array([1,2,3,4])\n",
    "\n",
    "# 넘파이의 배열 객체 , 다차원 배열 , 배열간 연산 가능\n",
    "# 특정한 상황 제외하고 분석시 리스트보다 배열 사용하는게 더 효율적"
   ]
  },
  {
   "cell_type": "code",
   "execution_count": 4,
   "id": "3f504f7e-1c4b-4188-a0d7-8a601c514889",
   "metadata": {},
   "outputs": [
    {
     "data": {
      "text/plain": [
       "array([1, 2, 3, 4])"
      ]
     },
     "execution_count": 4,
     "metadata": {},
     "output_type": "execute_result"
    }
   ],
   "source": [
    "arr"
   ]
  },
  {
   "cell_type": "code",
   "execution_count": 5,
   "id": "43d5d931-2e68-4d85-8b5c-df15a627967f",
   "metadata": {},
   "outputs": [
    {
     "data": {
      "text/plain": [
       "array([4, 5, 6, 7])"
      ]
     },
     "execution_count": 5,
     "metadata": {},
     "output_type": "execute_result"
    }
   ],
   "source": [
    "arr + 3\n",
    "\n",
    "# list에서는 append 해줘야하는데 넘파이는 가능"
   ]
  },
  {
   "cell_type": "code",
   "execution_count": 6,
   "id": "6854e766-798d-4e5b-a3c1-2a4227d7b16d",
   "metadata": {},
   "outputs": [],
   "source": [
    "arr = np.array([1,2,3,4],dtype='bool')\n",
    "\n",
    "# 배열 데이터형식 바꾸고 싶으면 ,dtype="
   ]
  },
  {
   "cell_type": "code",
   "execution_count": 7,
   "id": "619d9ed8-3c5a-4320-b30f-b8845a7bab73",
   "metadata": {},
   "outputs": [
    {
     "data": {
      "text/plain": [
       "array([ True,  True,  True,  True])"
      ]
     },
     "execution_count": 7,
     "metadata": {},
     "output_type": "execute_result"
    }
   ],
   "source": [
    "arr"
   ]
  },
  {
   "cell_type": "code",
   "execution_count": 8,
   "id": "75d87b09-63da-48dd-8d73-f77e6482f737",
   "metadata": {},
   "outputs": [
    {
     "data": {
      "text/plain": [
       "dtype('bool')"
      ]
     },
     "execution_count": 8,
     "metadata": {},
     "output_type": "execute_result"
    }
   ],
   "source": [
    "arr.dtype"
   ]
  },
  {
   "cell_type": "code",
   "execution_count": 9,
   "id": "0a86a631-b116-43de-adc1-155e4946d76e",
   "metadata": {},
   "outputs": [
    {
     "data": {
      "text/plain": [
       "array([1, 2, 3])"
      ]
     },
     "execution_count": 9,
     "metadata": {},
     "output_type": "execute_result"
    }
   ],
   "source": [
    "np.array([1,2,'3'],dtype='int')\n",
    "\n",
    "# 이렇게는 가능하지만 'a'의 경우"
   ]
  },
  {
   "cell_type": "code",
   "execution_count": 10,
   "id": "0780fe93-9db4-4630-9b01-f0c963f22b98",
   "metadata": {},
   "outputs": [
    {
     "data": {
      "text/plain": [
       "(1, 2, 3)"
      ]
     },
     "execution_count": 10,
     "metadata": {},
     "output_type": "execute_result"
    }
   ],
   "source": [
    "np.array([[\n",
    "        [1,2,3],\n",
    "         [4,5,6]\n",
    "]]).shape\n",
    "\n",
    "# 1개의 2차원 배열이 있으며, 각 배열은 3개의 요소를 가지고 있다"
   ]
  },
  {
   "cell_type": "code",
   "execution_count": 11,
   "id": "60f15260-32a0-47ca-b348-660562da768d",
   "metadata": {},
   "outputs": [
    {
     "data": {
      "text/plain": [
       "6"
      ]
     },
     "execution_count": 11,
     "metadata": {},
     "output_type": "execute_result"
    }
   ],
   "source": [
    "np.array([\n",
    "    [1,2,3],\n",
    "    [4,5,6]\n",
    "]).size\n",
    "\n",
    "# 요소의 개수"
   ]
  },
  {
   "cell_type": "code",
   "execution_count": 12,
   "id": "98cd9435-81c9-4b40-871a-dc047b3d7b10",
   "metadata": {},
   "outputs": [
    {
     "data": {
      "text/plain": [
       "array([[[ 2,  3],\n",
       "        [ 5,  6]],\n",
       "\n",
       "       [[12, 13],\n",
       "        [15, 16]]])"
      ]
     },
     "execution_count": 12,
     "metadata": {},
     "output_type": "execute_result"
    }
   ],
   "source": [
    "np.array([\n",
    "    [\n",
    "        [1,2,3,4],\n",
    "        [4,5,6,7],\n",
    "        [8,9,10,11]\n",
    "    ],\n",
    "    [  \n",
    "        [11,12,13,14],\n",
    "        [14,15,16,17],\n",
    "        [18,19,110,111]\n",
    "    ]\n",
    "])[:,0:2,1:3]\n",
    "\n",
    "# 첫번쨰 축은 전체를 선택하고,두번쨰 축은 0번쨰부터 1번째행까지 선택하고\n",
    "# 세번쨰 축은 1번째에서 2번쨰행 고르는 것"
   ]
  },
  {
   "cell_type": "code",
   "execution_count": 13,
   "id": "ff487d19-ce1f-4cbd-bf8d-61cd7a126675",
   "metadata": {},
   "outputs": [
    {
     "data": {
      "text/plain": [
       "array([3, 4])"
      ]
     },
     "execution_count": 13,
     "metadata": {},
     "output_type": "execute_result"
    }
   ],
   "source": [
    "# Bollean Indexing (mask)\n",
    "\n",
    "arr = np.array([1,2,3,4])\n",
    "arr[arr >=3]"
   ]
  },
  {
   "cell_type": "code",
   "execution_count": 14,
   "id": "690a7704-a876-465e-88a9-e6e0bf0bdb7f",
   "metadata": {},
   "outputs": [
    {
     "data": {
      "text/plain": [
       "array([2, 4])"
      ]
     },
     "execution_count": 14,
     "metadata": {},
     "output_type": "execute_result"
    }
   ],
   "source": [
    "arr[[1,3]]\n",
    "\n",
    "# list[[1,3]] 리스트라 전체 인덱싱만 가능해 에러가 난다"
   ]
  },
  {
   "cell_type": "code",
   "execution_count": 15,
   "id": "1218933e-26f0-4e96-bb2b-f1684485a762",
   "metadata": {},
   "outputs": [
    {
     "data": {
      "text/plain": [
       "array([1, 4])"
      ]
     },
     "execution_count": 15,
     "metadata": {},
     "output_type": "execute_result"
    }
   ],
   "source": [
    "arr[[0,arr.size-1]]"
   ]
  },
  {
   "cell_type": "code",
   "execution_count": 16,
   "id": "b3b37d91-b855-47e6-87fb-8b62bc63f532",
   "metadata": {},
   "outputs": [
    {
     "data": {
      "text/plain": [
       "array([1, 4])"
      ]
     },
     "execution_count": 16,
     "metadata": {},
     "output_type": "execute_result"
    }
   ],
   "source": [
    "arr[[0,-1]]"
   ]
  },
  {
   "cell_type": "code",
   "execution_count": 17,
   "id": "1b31fd8e-5830-40d9-84dc-f2581f87a3c9",
   "metadata": {},
   "outputs": [
    {
     "data": {
      "text/plain": [
       "array([1, 3])"
      ]
     },
     "execution_count": 17,
     "metadata": {},
     "output_type": "execute_result"
    }
   ],
   "source": [
    "cond = ((arr == 3) | (arr < 2) )\n",
    "\n",
    "arr[cond]\n",
    "\n",
    "# 3이거나 2미만"
   ]
  },
  {
   "cell_type": "code",
   "execution_count": 18,
   "id": "25bd65fa-891b-4edb-8cc5-54264246a9de",
   "metadata": {},
   "outputs": [
    {
     "data": {
      "text/plain": [
       "array([[ 1,  2,  3,  4,  5],\n",
       "       [ 6,  7,  8,  9, 10],\n",
       "       [11, 12, 13, 14, 15],\n",
       "       [16, 17, 18, 19, 20]])"
      ]
     },
     "execution_count": 18,
     "metadata": {},
     "output_type": "execute_result"
    }
   ],
   "source": [
    "arr = np.arange(1,21)\n",
    "arr = arr.reshape(4,5)\n",
    "\n",
    "arr\n",
    "# 1~20 배열 만들어서 4행 5열로 만들기"
   ]
  },
  {
   "cell_type": "code",
   "execution_count": 19,
   "id": "45744822-e380-4b29-b11b-e78f351cb565",
   "metadata": {},
   "outputs": [],
   "source": [
    "import matplotlib.pyplot as plt\n",
    "\n",
    "# 그래프를 그리기 위한 라이브러리인 Matplotlib의 서브 모듈 중 하나인 pyplot 모듈"
   ]
  },
  {
   "cell_type": "code",
   "execution_count": 20,
   "id": "6a12b1f5-c1c4-442f-97da-87190897f693",
   "metadata": {},
   "outputs": [
    {
     "data": {
      "text/plain": [
       "(array([ 24.,  68., 134., 185., 174., 159., 124.,  78.,  37.,  17.]),\n",
       " array([0.02772364, 0.11663042, 0.20553719, 0.29444397, 0.38335075,\n",
       "        0.47225753, 0.56116431, 0.65007108, 0.73897786, 0.82788464,\n",
       "        0.91679142]),\n",
       " <BarContainer object of 10 artists>)"
      ]
     },
     "execution_count": 20,
     "metadata": {},
     "output_type": "execute_result"
    },
    {
     "data": {
      "image/png": "[encoded data removed]",
      "text/plain": [
       "<Figure size 640x480 with 1 Axes>"
      ]
     },
     "metadata": {},
     "output_type": "display_data"
    }
   ],
   "source": [
    "plt.hist(np.random.beta(3,4,1000))\n",
    "\n",
    "# beta(3,4)분포에서 1000개 추출하여 히스토그램 그리기"
   ]
  },
  {
   "cell_type": "code",
   "execution_count": 21,
   "id": "dc928e34-fc9e-4847-a3ff-e50faa486fb4",
   "metadata": {},
   "outputs": [],
   "source": [
    "# choice의 활용"
   ]
  },
  {
   "cell_type": "code",
   "execution_count": 22,
   "id": "2245ee08-80c4-4f4d-ba8d-e6da68d24472",
   "metadata": {},
   "outputs": [
    {
     "data": {
      "text/plain": [
       "array([ 6, 11, 15,  7,  5,  2,  1, 10,  4, 17])"
      ]
     },
     "execution_count": 22,
     "metadata": {},
     "output_type": "execute_result"
    }
   ],
   "source": [
    "np.random.choice(np.arange(1,21),10,replace=False)\n",
    "\n",
    "# 1~20까지 임의로 10개 추출 , 중복 금지"
   ]
  },
  {
   "cell_type": "code",
   "execution_count": 23,
   "id": "a44d2039-0465-456f-8d3f-43583684c545",
   "metadata": {},
   "outputs": [],
   "source": [
    "np.random.seed(3)\n",
    "arr = np.arange(1,21).reshape(4,5)\n",
    "# 3번 시드에서 np.random에서 나오는 난수는 같다."
   ]
  },
  {
   "cell_type": "code",
   "execution_count": 24,
   "id": "6e2a661d-22cd-48f7-b60b-9d81c1e2120a",
   "metadata": {},
   "outputs": [
    {
     "data": {
      "text/plain": [
       "array([[ 1,  2,  3,  4,  5],\n",
       "       [ 6,  7,  8,  9, 10],\n",
       "       [11, 12, 13, 14, 15],\n",
       "       [16, 17, 18, 19, 20]])"
      ]
     },
     "execution_count": 24,
     "metadata": {},
     "output_type": "execute_result"
    }
   ],
   "source": [
    "arr"
   ]
  },
  {
   "cell_type": "code",
   "execution_count": 25,
   "id": "c73c67e1-99f7-4e2c-91ee-9b5a4eb006bd",
   "metadata": {},
   "outputs": [
    {
     "data": {
      "text/plain": [
       "array([[11, 12, 13, 14, 15],\n",
       "       [ 6,  7,  8,  9, 10],\n",
       "       [16, 17, 18, 19, 20],\n",
       "       [16, 17, 18, 19, 20]])"
      ]
     },
     "execution_count": 25,
     "metadata": {},
     "output_type": "execute_result"
    }
   ],
   "source": [
    "arr[np.random.randint(np.arange(4),4)]"
   ]
  },
  {
   "cell_type": "code",
   "execution_count": 26,
   "id": "5ade2756-7959-4c1e-a74c-ba46fafd6e02",
   "metadata": {},
   "outputs": [
    {
     "data": {
      "text/plain": [
       "array([[ 6,  7,  8,  9, 10],\n",
       "       [11, 12, 13, 14, 15],\n",
       "       [ 1,  2,  3,  4,  5],\n",
       "       [16, 17, 18, 19, 20]])"
      ]
     },
     "execution_count": 26,
     "metadata": {},
     "output_type": "execute_result"
    }
   ],
   "source": [
    "arr[np.random.choice(np.arange(4),4,replace=False)]"
   ]
  },
  {
   "cell_type": "code",
   "execution_count": 27,
   "id": "7346dd41-ec3a-46ee-a52d-f3e3a66e122e",
   "metadata": {},
   "outputs": [],
   "source": [
    "arr = np.random.randn(3,4)\n",
    "\n",
    "# 평균이 0이고 표준편차가 1인 표준 정규 분포로부터 총 12개의 랜덤한 숫자를 생성하고, \n",
    "# 이를 3행 4열의 형태로 arr 변수에 저장"
   ]
  },
  {
   "cell_type": "code",
   "execution_count": 28,
   "id": "a9ed190c-46fe-4ffc-b130-bf4e2aeb5eed",
   "metadata": {},
   "outputs": [
    {
     "data": {
      "text/plain": [
       "array([[ 0.98055387,  0.02701904, -0.46004212, -0.05792084],\n",
       "       [ 2.07757414, -0.60131248,  0.93923639, -1.18040862],\n",
       "       [-0.34733018,  0.06629873, -1.62758528,  0.39788586]])"
      ]
     },
     "execution_count": 28,
     "metadata": {},
     "output_type": "execute_result"
    }
   ],
   "source": [
    "arr"
   ]
  },
  {
   "cell_type": "code",
   "execution_count": 29,
   "id": "c0d0cc67-94ba-464c-9e7a-6c4d893657c8",
   "metadata": {},
   "outputs": [
    {
     "data": {
      "text/plain": [
       "array([98, 31, 27, 66, 12, 49, 40, 87, 57, 47])"
      ]
     },
     "execution_count": 29,
     "metadata": {},
     "output_type": "execute_result"
    }
   ],
   "source": [
    "inter_arr = np.arange(1,11)\n",
    "size = 100\n",
    "np.random.randint(inter_arr,size)\n",
    "\n",
    "# 1~10에 100까지의 숫자 랜덤 박아넣기"
   ]
  },
  {
   "cell_type": "code",
   "execution_count": 30,
   "id": "6f2a59d6-b5b4-4221-9ad2-ef42ff1db575",
   "metadata": {},
   "outputs": [
    {
     "data": {
      "text/plain": [
       "0.0004343859953703507"
      ]
     },
     "execution_count": 30,
     "metadata": {},
     "output_type": "execute_result"
    }
   ],
   "source": [
    "np.mean(np.random.randn(100,1000))\n",
    "\n",
    "# 많이 뽑을수록 정규분포 0에 가깝다"
   ]
  },
  {
   "cell_type": "code",
   "execution_count": 31,
   "id": "4e7dcf17-07ed-4aeb-becf-e4f1d52f90e6",
   "metadata": {},
   "outputs": [
    {
     "data": {
      "text/plain": [
       "(3, 4)"
      ]
     },
     "execution_count": 31,
     "metadata": {},
     "output_type": "execute_result"
    }
   ],
   "source": [
    "arr.shape"
   ]
  },
  {
   "cell_type": "code",
   "execution_count": 32,
   "id": "f61b9ca4-6304-4dac-be47-9824bbc601a6",
   "metadata": {},
   "outputs": [
    {
     "name": "stdout",
     "output_type": "stream",
     "text": [
      "(1, 12)\n",
      "(2, 6)\n",
      "(3, 4)\n",
      "(4, 3)\n",
      "(6, 2)\n",
      "(12, 1)\n"
     ]
    },
    {
     "data": {
      "text/plain": [
       "6"
      ]
     },
     "execution_count": 32,
     "metadata": {},
     "output_type": "execute_result"
    }
   ],
   "source": [
    "arr.shape\n",
    "cnt = 0\n",
    "for i in range (1,arr.shape[0]*arr.shape[1]+1):\n",
    "    if arr.shape[0]*arr.shape[1] % i == 0:\n",
    "            cnt += 1\n",
    "            i2 = arr.shape[0]*arr.shape[1] // i\n",
    "            print((i,i2))\n",
    "cnt\n",
    "\n",
    "# arr.shape의 조합은 뭐가 있으며 몇개가 나올까"
   ]
  },
  {
   "cell_type": "code",
   "execution_count": 33,
   "id": "07af4fa0-ea90-46d2-8e44-75ba5352a5dd",
   "metadata": {},
   "outputs": [],
   "source": [
    "def shape_possible(arr):\n",
    "    arr.shape\n",
    "    cnt = 0\n",
    "    for i in range (1,arr.shape[0]*arr.shape[1]+1):\n",
    "        if arr.shape[0]*arr.shape[1] % i == 0:\n",
    "            cnt += 1\n",
    "            i2 = arr.shape[0]*arr.shape[1] // i\n",
    "    return cnt\n",
    "\n",
    "# 저 위를 보편적인 식으로 만들어 낸것"
   ]
  },
  {
   "cell_type": "code",
   "execution_count": 34,
   "id": "e84ad68e-e80d-4841-b529-3d40546501ca",
   "metadata": {},
   "outputs": [
    {
     "data": {
      "text/plain": [
       "6"
      ]
     },
     "execution_count": 34,
     "metadata": {},
     "output_type": "execute_result"
    }
   ],
   "source": [
    "shape_possible(arr)"
   ]
  },
  {
   "cell_type": "code",
   "execution_count": 35,
   "id": "b0cf55b2-31c7-45c8-aebe-660c6575b3ac",
   "metadata": {},
   "outputs": [
    {
     "data": {
      "text/plain": [
       "array([[ 0.98055387,  0.02701904, -0.46004212, -0.05792084],\n",
       "       [ 2.07757414, -0.60131248,  0.93923639, -1.18040862],\n",
       "       [-0.34733018,  0.06629873, -1.62758528,  0.39788586]])"
      ]
     },
     "execution_count": 35,
     "metadata": {},
     "output_type": "execute_result"
    }
   ],
   "source": [
    "arr"
   ]
  },
  {
   "cell_type": "code",
   "execution_count": 38,
   "id": "aaeeac00-e546-40af-9b53-bdd36ce41e8f",
   "metadata": {},
   "outputs": [
    {
     "data": {
      "text/plain": [
       "array([ 0.98055387,  0.02701904, -0.46004212, -0.05792084,  2.07757414,\n",
       "       -0.60131248,  0.93923639, -1.18040862, -0.34733018,  0.06629873,\n",
       "       -1.62758528,  0.39788586])"
      ]
     },
     "execution_count": 38,
     "metadata": {},
     "output_type": "execute_result"
    }
   ],
   "source": [
    "arr.flatten()\n",
    "\n",
    "# reshpae를 통해 만들어준 녀석을 (i*x,0)꼴로 바꿔주는것"
   ]
  },
  {
   "cell_type": "code",
   "execution_count": 41,
   "id": "2807bbb4-040b-4e7d-bd5b-6b680153a5a9",
   "metadata": {},
   "outputs": [
    {
     "data": {
      "text/plain": [
       "array([[ 0.        ,  0.        , -0.46004212, -0.05792084],\n",
       "       [ 0.        , -0.60131248,  0.        , -1.18040862],\n",
       "       [-0.34733018,  0.        , -1.62758528,  0.        ]])"
      ]
     },
     "execution_count": 41,
     "metadata": {},
     "output_type": "execute_result"
    }
   ],
   "source": [
    "np.where(arr <= 0, arr, 0)\n",
    "\n",
    "# np.where(조건 , True시 나올 값 , False시 나올 값)"
   ]
  },
  {
   "cell_type": "code",
   "execution_count": 47,
   "id": "02679334-5b2f-44dd-9be4-6cd73b8984e7",
   "metadata": {},
   "outputs": [
    {
     "data": {
      "text/plain": [
       "array([[-1, -9, -8,  7, -3],\n",
       "       [ 1,  6,  7, -1,  2]])"
      ]
     },
     "execution_count": 47,
     "metadata": {},
     "output_type": "execute_result"
    }
   ],
   "source": [
    "x = np.random.randint(-10,10,10).reshape(2,5)\n",
    "x"
   ]
  },
  {
   "cell_type": "code",
   "execution_count": 61,
   "id": "45e6f48d-ae0f-40c9-a087-0924b014d183",
   "metadata": {},
   "outputs": [],
   "source": [
    "def one_hot(x):\n",
    "    x_1 = x.size\n",
    "    x_2 = np.unique(x).size\n",
    "    one_hot = np.zeros((x_1,x_2))\n",
    "    for idx,val in enumerate(x):\n",
    "        one_hot[idx,val-1] =1\n",
    "    return one_hot\n",
    "\n",
    "# np.zeros() 지정된 shpae에 모든 원소가 0인 ndarray 생성 ,튜플 형태 \n",
    "# val-1을 하는 이유는 인덱스가 0부터 시작하므로 1을 빼줘야 한다."
   ]
  },
  {
   "cell_type": "code",
   "execution_count": 62,
   "id": "479b2db4-c143-4ec5-b0f9-469890db70fa",
   "metadata": {},
   "outputs": [],
   "source": [
    "arr = np.array([1,2,3,4,4])"
   ]
  },
  {
   "cell_type": "code",
   "execution_count": 63,
   "id": "268f9e4e-6ed6-46d1-a083-22905b607d54",
   "metadata": {},
   "outputs": [
    {
     "data": {
      "text/plain": [
       "array([[1., 0., 0., 0.],\n",
       "       [0., 1., 0., 0.],\n",
       "       [0., 0., 1., 0.],\n",
       "       [0., 0., 0., 1.],\n",
       "       [0., 0., 0., 1.]])"
      ]
     },
     "execution_count": 63,
     "metadata": {},
     "output_type": "execute_result"
    }
   ],
   "source": [
    "one_hot(arr)"
   ]
  },
  {
   "cell_type": "code",
   "execution_count": 64,
   "id": "6f544c37-5865-4f6c-82d4-3b0f3b543150",
   "metadata": {},
   "outputs": [
    {
     "data": {
      "text/plain": [
       "array([-1.10982593, -1.09274929, -1.15208123,  0.07376152,  0.26804621,\n",
       "       -0.42393764,  0.04409183,  0.38350215,  0.33391753, -0.42051745])"
      ]
     },
     "execution_count": 64,
     "metadata": {},
     "output_type": "execute_result"
    }
   ],
   "source": [
    "np.random.normal(0,1,10)\n",
    "\n",
    "# 위 randn이랑 비슷하다 normal(평균,표준편차,개수)"
   ]
  },
  {
   "cell_type": "code",
   "execution_count": 76,
   "id": "58f7a4b8-4c65-4a0f-a452-60d7fee6ab7a",
   "metadata": {},
   "outputs": [
    {
     "data": {
      "text/plain": [
       "array([[[ 1,  4],\n",
       "        [ 3, 10]],\n",
       "\n",
       "       [[12,  5],\n",
       "        [ 2,  2]],\n",
       "\n",
       "       [[ 8, 12],\n",
       "        [10,  6]]])"
      ]
     },
     "execution_count": 76,
     "metadata": {},
     "output_type": "execute_result"
    }
   ],
   "source": [
    "arr = np.random.randint(1,13,12).reshape(3,2,2)\n",
    "arr"
   ]
  },
  {
   "cell_type": "code",
   "execution_count": 77,
   "id": "1b3ebf7e-9cdf-4a8e-bdad-d6f0db3daeff",
   "metadata": {},
   "outputs": [
    {
     "data": {
      "text/plain": [
       "75"
      ]
     },
     "execution_count": 77,
     "metadata": {},
     "output_type": "execute_result"
    }
   ],
   "source": [
    "np.sum(arr)\n",
    "\n",
    "# 요소 전체합"
   ]
  },
  {
   "cell_type": "code",
   "execution_count": 83,
   "id": "e18d5ac8-8967-443e-ae56-e00c4a25eeaa",
   "metadata": {},
   "outputs": [
    {
     "data": {
      "text/plain": [
       "array([[21, 21],\n",
       "       [15, 18]])"
      ]
     },
     "execution_count": 83,
     "metadata": {},
     "output_type": "execute_result"
    }
   ],
   "source": [
    "np.sum(arr,axis=0)\n",
    "\n"
   ]
  },
  {
   "cell_type": "code",
   "execution_count": null,
   "id": "f8ee8e61-b6b2-4ffa-b58f-d71654188f35",
   "metadata": {},
   "outputs": [
    {
     "data": {
      "text/plain": [
       "array([[ 4, 14],\n",
       "       [14,  7],\n",
       "       [18, 18]])"
      ]
     },
     "execution_count": 84,
     "metadata": {},
     "output_type": "execute_result"
    }
   ],
   "source": [
    "np.sum(arr,axis=1)\n",
    "\n"
   ]
  },
  {
   "cell_type": "code",
   "execution_count": 85,
   "id": "3aa0fb58-619c-45d1-b716-72cbdf31817c",
   "metadata": {},
   "outputs": [
    {
     "data": {
      "text/plain": [
       "array([[ 5, 13],\n",
       "       [17,  4],\n",
       "       [20, 16]])"
      ]
     },
     "execution_count": 85,
     "metadata": {},
     "output_type": "execute_result"
    }
   ],
   "source": [
    "np.sum(arr,axis=2)"
   ]
  },
  {
   "cell_type": "code",
   "execution_count": 86,
   "id": "aa51641d-57ee-4a2e-8a4e-77d9fe876dda",
   "metadata": {},
   "outputs": [
    {
     "data": {
      "text/plain": [
       "array([[7., 7.],\n",
       "       [5., 6.]])"
      ]
     },
     "execution_count": 86,
     "metadata": {},
     "output_type": "execute_result"
    }
   ],
   "source": [
    "arr.mean(axis=0)"
   ]
  },
  {
   "cell_type": "code",
   "execution_count": 88,
   "id": "3d48cd79-3854-401c-b11c-d5bebd875a4d",
   "metadata": {},
   "outputs": [
    {
     "data": {
      "text/plain": [
       "array([[4.54606057, 3.55902608],\n",
       "       [3.55902608, 3.26598632]])"
      ]
     },
     "execution_count": 88,
     "metadata": {},
     "output_type": "execute_result"
    }
   ],
   "source": [
    "arr.std(axis=0)"
   ]
  },
  {
   "cell_type": "code",
   "execution_count": 90,
   "id": "1a004c59-d610-413a-a085-680048107ee7",
   "metadata": {},
   "outputs": [
    {
     "data": {
      "text/plain": [
       "array([[4.55, 3.56],\n",
       "       [3.56, 3.27]])"
      ]
     },
     "execution_count": 90,
     "metadata": {},
     "output_type": "execute_result"
    }
   ],
   "source": [
    "np.around(arr.std(axis=0),2)"
   ]
  },
  {
   "cell_type": "code",
   "execution_count": 92,
   "id": "27e877a3-a54a-4e2d-a98a-4ad73bae5bca",
   "metadata": {},
   "outputs": [
    {
     "data": {
      "text/plain": [
       "array([[[2.71828183e+00, 5.45981500e+01],\n",
       "        [2.00855369e+01, 2.20264658e+04]],\n",
       "\n",
       "       [[1.62754791e+05, 1.48413159e+02],\n",
       "        [7.38905610e+00, 7.38905610e+00]],\n",
       "\n",
       "       [[2.98095799e+03, 1.62754791e+05],\n",
       "        [2.20264658e+04, 4.03428793e+02]]])"
      ]
     },
     "execution_count": 92,
     "metadata": {},
     "output_type": "execute_result"
    }
   ],
   "source": [
    "np.exp(arr)\n",
    "\n",
    "# 지수 : e는 자연상수(natural constant)이며, 대략 2.71828182846"
   ]
  },
  {
   "cell_type": "code",
   "execution_count": 93,
   "id": "d547bd74-bddb-4734-85c8-536bbd065ce1",
   "metadata": {},
   "outputs": [
    {
     "data": {
      "text/plain": [
       "array([[[0.        , 1.38629436],\n",
       "        [1.09861229, 2.30258509]],\n",
       "\n",
       "       [[2.48490665, 1.60943791],\n",
       "        [0.69314718, 0.69314718]],\n",
       "\n",
       "       [[2.07944154, 2.48490665],\n",
       "        [2.30258509, 1.79175947]]])"
      ]
     },
     "execution_count": 93,
     "metadata": {},
     "output_type": "execute_result"
    }
   ],
   "source": [
    "np.log(arr)"
   ]
  },
  {
   "cell_type": "code",
   "execution_count": 95,
   "id": "c92dd71f-a093-4b3d-be65-c984218992c6",
   "metadata": {},
   "outputs": [
    {
     "data": {
      "text/plain": [
       "array([22, 63, 97, 28, 37])"
      ]
     },
     "execution_count": 95,
     "metadata": {},
     "output_type": "execute_result"
    }
   ],
   "source": [
    "arr = np.random.randint(1,100,5)\n",
    "arr"
   ]
  },
  {
   "cell_type": "code",
   "execution_count": 99,
   "id": "b8c927a4-d670-4e86-a4f8-ded81fda9058",
   "metadata": {},
   "outputs": [
    {
     "data": {
      "text/plain": [
       "array([0, 3, 4, 1, 2], dtype=int64)"
      ]
     },
     "execution_count": 99,
     "metadata": {},
     "output_type": "execute_result"
    }
   ],
   "source": [
    "np.argsort(arr)\n"
   ]
  },
  {
   "cell_type": "code",
   "execution_count": 98,
   "id": "58a79776-74ea-4ca1-ab5e-e6f933b8f4c7",
   "metadata": {},
   "outputs": [
    {
     "data": {
      "text/plain": [
       "2"
      ]
     },
     "execution_count": 98,
     "metadata": {},
     "output_type": "execute_result"
    }
   ],
   "source": [
    "np.argmax(arr)\n",
    "\n",
    "# np.argmax(arr)은 배열 arr의 전체 원소 중 가장 큰 값의 인덱스를 반환\n"
   ]
  },
  {
   "cell_type": "code",
   "execution_count": 100,
   "id": "902f01da-f90d-4278-9477-746635b52a3d",
   "metadata": {},
   "outputs": [],
   "source": [
    "# vstack : 데이터 추가\n",
    "# hstack : 데이터 변형"
   ]
  },
  {
   "cell_type": "code",
   "execution_count": 101,
   "id": "8df3c446-5f01-47c6-a38a-ce0019da04a8",
   "metadata": {},
   "outputs": [
    {
     "data": {
      "text/plain": [
       "array([[1],\n",
       "       [2],\n",
       "       [3]])"
      ]
     },
     "execution_count": 101,
     "metadata": {},
     "output_type": "execute_result"
    }
   ],
   "source": [
    "arr1 = np.array([1,2,3]).reshape(3,1)\n",
    "arr1"
   ]
  },
  {
   "cell_type": "code",
   "execution_count": 102,
   "id": "798fe472-c6dd-4736-8d58-f21f72cbd53d",
   "metadata": {},
   "outputs": [
    {
     "data": {
      "text/plain": [
       "array([[4],\n",
       "       [5],\n",
       "       [6]])"
      ]
     },
     "execution_count": 102,
     "metadata": {},
     "output_type": "execute_result"
    }
   ],
   "source": [
    "arr2 = np.array([4,5,6]).reshape(3,1)\n",
    "arr2"
   ]
  },
  {
   "cell_type": "code",
   "execution_count": 103,
   "id": "a7ac2265-9fc0-4a03-8a49-6a374453ad12",
   "metadata": {},
   "outputs": [
    {
     "data": {
      "text/plain": [
       "array([[1, 4],\n",
       "       [2, 5],\n",
       "       [3, 6]])"
      ]
     },
     "execution_count": 103,
     "metadata": {},
     "output_type": "execute_result"
    }
   ],
   "source": [
    "arr3 = np.hstack((arr1,arr2))\n",
    "arr3\n",
    "\n",
    "# row 개수가 맞아야 성립"
   ]
  },
  {
   "cell_type": "code",
   "execution_count": 104,
   "id": "72a874fe-0426-4e7f-8c64-19f501b8db02",
   "metadata": {},
   "outputs": [
    {
     "data": {
      "text/plain": [
       "array([1, 2, 3, 4, 5, 6])"
      ]
     },
     "execution_count": 104,
     "metadata": {},
     "output_type": "execute_result"
    }
   ],
   "source": [
    "arr1 = np.array([1,2,3])\n",
    "arr2 = np.array([4,5,6])\n",
    "np.concatenate((arr1,arr2),axis=0)"
   ]
  },
  {
   "cell_type": "code",
   "execution_count": 107,
   "id": "2bb24e7f-c515-4157-af7e-42e54fdccace",
   "metadata": {},
   "outputs": [],
   "source": [
    "# 그냥 리스트만 쓰면 차원이 없어서 axis=1은 성립하지 않는다"
   ]
  },
  {
   "cell_type": "code",
   "execution_count": 109,
   "id": "e10e8de8-8687-4cee-9fbf-7a8f69e3b6e2",
   "metadata": {},
   "outputs": [],
   "source": [
    "arr1 = np.array([1,2,3]).reshape(1,3)\n",
    "arr2 = np.array([4,5,6]).reshape(1,3)"
   ]
  },
  {
   "cell_type": "code",
   "execution_count": 110,
   "id": "93cd4c6b-4348-42eb-bf52-8e0fc38b834a",
   "metadata": {},
   "outputs": [
    {
     "data": {
      "text/plain": [
       "(1, 3)"
      ]
     },
     "execution_count": 110,
     "metadata": {},
     "output_type": "execute_result"
    }
   ],
   "source": [
    "arr1.shape"
   ]
  },
  {
   "cell_type": "code",
   "execution_count": 120,
   "id": "d29834d2-e09f-4a50-9e4c-59c7280a47f3",
   "metadata": {},
   "outputs": [
    {
     "data": {
      "text/plain": [
       "array([[1, 2, 3],\n",
       "       [4, 5, 6]])"
      ]
     },
     "execution_count": 120,
     "metadata": {},
     "output_type": "execute_result"
    }
   ],
   "source": [
    "np.concatenate((arr1,arr2),axis=0)\n",
    "\n",
    "# np.concatenate() 함수는 하나의 축을 따라서 두 개 이상의 배열을 이어 붙이는 함수"
   ]
  },
  {
   "cell_type": "code",
   "execution_count": 121,
   "id": "920f9564-49b6-4dc0-919c-12cdc3ec3f22",
   "metadata": {},
   "outputs": [
    {
     "data": {
      "text/plain": [
       "array([[1, 2, 3, 4, 5, 6]])"
      ]
     },
     "execution_count": 121,
     "metadata": {},
     "output_type": "execute_result"
    }
   ],
   "source": [
    "np.concatenate((arr1,arr2),axis=1)"
   ]
  },
  {
   "cell_type": "code",
   "execution_count": 126,
   "id": "4ed2f01f-e5b6-4c37-bef1-af57140147ab",
   "metadata": {},
   "outputs": [
    {
     "data": {
      "text/plain": [
       "(1, 3)"
      ]
     },
     "execution_count": 126,
     "metadata": {},
     "output_type": "execute_result"
    }
   ],
   "source": [
    "arr1.shape"
   ]
  },
  {
   "cell_type": "code",
   "execution_count": 123,
   "id": "38ae2840-de88-4243-b6e5-15015dd97ed5",
   "metadata": {},
   "outputs": [
    {
     "data": {
      "text/plain": [
       "(3, 1)"
      ]
     },
     "execution_count": 123,
     "metadata": {},
     "output_type": "execute_result"
    }
   ],
   "source": [
    "arr1.transpose().shape"
   ]
  },
  {
   "cell_type": "code",
   "execution_count": 124,
   "id": "0dcfb719-fea4-4840-be59-b1b11e8c1c8e",
   "metadata": {},
   "outputs": [],
   "source": [
    "# shape가 맞지 않아 concatenate나 stack이 안될때\n",
    "# transpose()나 .T로 바꿔줄것"
   ]
  },
  {
   "cell_type": "code",
   "execution_count": 127,
   "id": "12d3f92a-d67a-4bef-b45e-b1120b094c6f",
   "metadata": {},
   "outputs": [],
   "source": [
    "# broadcast\n",
    "arr1 = np.arange(1,7).reshape(2,3)\n",
    "arr2 = np.arange(11,17).reshape(2,3)"
   ]
  },
  {
   "cell_type": "code",
   "execution_count": 130,
   "id": "5e269d48-fa02-40d1-ab0e-f75d603ede1a",
   "metadata": {},
   "outputs": [
    {
     "data": {
      "text/plain": [
       "'넘파이에서 배열 연산을 할 때, 두 개의 배열의 차원이 다른 경우에는 배열의 형태를 맞추기 위해 자동으로 브로드캐스팅(broadcasting)을 해줍니다. 브로드캐스팅은 차원이 작은 배열을 자동으로 복제해 크기가 큰 배열과 모양을 맞춰주는 것'"
      ]
     },
     "execution_count": 130,
     "metadata": {},
     "output_type": "execute_result"
    }
   ],
   "source": [
    "'''넘파이에서 배열 연산을 할 때, 두 개의 배열의 차원이 다른 경우에는 배열의 형태를 맞추기 위해 자동으로 브로드캐스팅(broadcasting)을 해줍니다. 브로드캐스팅은 차원이 작은 배열을 자동으로 복제해 크기가 큰 배열과 모양을 맞춰주는 것'''"
   ]
  },
  {
   "cell_type": "code",
   "execution_count": 131,
   "id": "aa7d8267-e0aa-4c21-8424-0a71873d0321",
   "metadata": {},
   "outputs": [
    {
     "data": {
      "text/plain": [
       "array([[1, 2, 3],\n",
       "       [4, 5, 6]])"
      ]
     },
     "execution_count": 131,
     "metadata": {},
     "output_type": "execute_result"
    }
   ],
   "source": [
    "arr1"
   ]
  },
  {
   "cell_type": "code",
   "execution_count": 132,
   "id": "9070c9ba-a3e6-4630-9835-94fc63d4b70d",
   "metadata": {},
   "outputs": [
    {
     "data": {
      "text/plain": [
       "array([[2, 3, 4],\n",
       "       [5, 6, 7]])"
      ]
     },
     "execution_count": 132,
     "metadata": {},
     "output_type": "execute_result"
    }
   ],
   "source": [
    "arr1 + 1"
   ]
  },
  {
   "cell_type": "code",
   "execution_count": 133,
   "id": "8f4490b6-a848-4be5-b0c9-8e1df45047ff",
   "metadata": {},
   "outputs": [
    {
     "data": {
      "text/plain": [
       "array([[ True,  True,  True],\n",
       "       [False, False, False]])"
      ]
     },
     "execution_count": 133,
     "metadata": {},
     "output_type": "execute_result"
    }
   ],
   "source": [
    "arr1 < 4"
   ]
  },
  {
   "cell_type": "code",
   "execution_count": 134,
   "id": "40d67856-1bf4-4581-aacb-72c7fcb890fc",
   "metadata": {},
   "outputs": [
    {
     "data": {
      "text/plain": [
       "array([[1, 2, 3],\n",
       "       [4, 5, 6]])"
      ]
     },
     "execution_count": 134,
     "metadata": {},
     "output_type": "execute_result"
    }
   ],
   "source": [
    "arr1"
   ]
  },
  {
   "cell_type": "code",
   "execution_count": 135,
   "id": "1b66d5ce-2af1-4404-9c8c-beff966f45a1",
   "metadata": {},
   "outputs": [
    {
     "data": {
      "text/plain": [
       "array([[1, 2],\n",
       "       [3, 4],\n",
       "       [5, 6]])"
      ]
     },
     "execution_count": 135,
     "metadata": {},
     "output_type": "execute_result"
    }
   ],
   "source": [
    "arr1.reshape(-1,2)"
   ]
  },
  {
   "cell_type": "code",
   "execution_count": 145,
   "id": "8b6b5800-8e4c-4856-a163-870502e830be",
   "metadata": {},
   "outputs": [
    {
     "data": {
      "text/plain": [
       "array([[1, 2, 3],\n",
       "       [4, 5, 6]])"
      ]
     },
     "execution_count": 145,
     "metadata": {},
     "output_type": "execute_result"
    }
   ],
   "source": [
    "arr1.reshape(2,-1)"
   ]
  },
  {
   "cell_type": "code",
   "execution_count": 148,
   "id": "c46d0ffe-72a4-49d2-b7e8-ce1fe53d3290",
   "metadata": {},
   "outputs": [
    {
     "ename": "ValueError",
     "evalue": "operands could not be broadcast together with shapes (3,2) (2,3) ",
     "output_type": "error",
     "traceback": [
      "\u001b[1;31m---------------------------------------------------------------------------\u001b[0m",
      "\u001b[1;31mValueError\u001b[0m                                Traceback (most recent call last)",
      "\u001b[1;32m~\\AppData\\Local\\Temp\\ipykernel_1700\\4112257541.py\u001b[0m in \u001b[0;36m<module>\u001b[1;34m\u001b[0m\n\u001b[1;32m----> 1\u001b[1;33m \u001b[0marr1\u001b[0m\u001b[1;33m.\u001b[0m\u001b[0mreshape\u001b[0m\u001b[1;33m(\u001b[0m\u001b[1;33m-\u001b[0m\u001b[1;36m1\u001b[0m\u001b[1;33m,\u001b[0m\u001b[1;36m2\u001b[0m\u001b[1;33m)\u001b[0m \u001b[1;33m+\u001b[0m \u001b[0marr1\u001b[0m\u001b[1;33m.\u001b[0m\u001b[0mreshape\u001b[0m\u001b[1;33m(\u001b[0m\u001b[1;36m2\u001b[0m\u001b[1;33m,\u001b[0m\u001b[1;33m-\u001b[0m\u001b[1;36m1\u001b[0m\u001b[1;33m)\u001b[0m\u001b[1;33m\u001b[0m\u001b[1;33m\u001b[0m\u001b[0m\n\u001b[0m",
      "\u001b[1;31mValueError\u001b[0m: operands could not be broadcast together with shapes (3,2) (2,3) "
     ]
    }
   ],
   "source": [
    "arr1.reshape(-1,2) + arr1.reshape(2,-1)"
   ]
  },
  {
   "cell_type": "markdown",
   "id": "90be9d8b-2e45-4207-9d63-a698a2e6726d",
   "metadata": {},
   "source": [
    "브로드캐스팅 규칙 중 하나는 두 배열의 차원이 같거나, 한 배열의 차원이 1인 경우에 브로드캐스팅이 가능. \n",
    "\n",
    "위 예시에서는 (3,2) 모양의 배열과 (2,3) 모양의 배열이므로, 두 배열의 차원이 다르기 때문에 브로드캐스팅이 불가능"
   ]
  },
  {
   "cell_type": "code",
   "execution_count": 150,
   "id": "f753e02f-08af-46a8-b92b-66c49e88b6bf",
   "metadata": {},
   "outputs": [
    {
     "data": {
      "text/plain": [
       "array([[ 2,  6],\n",
       "       [ 5,  9],\n",
       "       [ 8, 12]])"
      ]
     },
     "execution_count": 150,
     "metadata": {},
     "output_type": "execute_result"
    }
   ],
   "source": [
    "arr1.reshape(-1,2) + arr1.reshape(2,-1).T\n",
    "\n",
    "# 배열을 같게 만들어 준다"
   ]
  },
  {
   "cell_type": "code",
   "execution_count": 151,
   "id": "156dea6e-84fc-4e1c-9336-ca51b7162c4b",
   "metadata": {},
   "outputs": [
    {
     "ename": "ValueError",
     "evalue": "shapes (2,3) and (2,3) not aligned: 3 (dim 1) != 2 (dim 0)",
     "output_type": "error",
     "traceback": [
      "\u001b[1;31m---------------------------------------------------------------------------\u001b[0m",
      "\u001b[1;31mValueError\u001b[0m                                Traceback (most recent call last)",
      "\u001b[1;32m~\\AppData\\Local\\Temp\\ipykernel_1700\\3519136287.py\u001b[0m in \u001b[0;36m<module>\u001b[1;34m\u001b[0m\n\u001b[1;32m----> 1\u001b[1;33m \u001b[0mnp\u001b[0m\u001b[1;33m.\u001b[0m\u001b[0mdot\u001b[0m\u001b[1;33m(\u001b[0m\u001b[0marr1\u001b[0m\u001b[1;33m,\u001b[0m\u001b[0marr2\u001b[0m\u001b[1;33m)\u001b[0m\u001b[1;33m\u001b[0m\u001b[1;33m\u001b[0m\u001b[0m\n\u001b[0m",
      "\u001b[1;32m<__array_function__ internals>\u001b[0m in \u001b[0;36mdot\u001b[1;34m(*args, **kwargs)\u001b[0m\n",
      "\u001b[1;31mValueError\u001b[0m: shapes (2,3) and (2,3) not aligned: 3 (dim 1) != 2 (dim 0)"
     ]
    }
   ],
   "source": [
    "np.dot(arr1,arr2)"
   ]
  },
  {
   "cell_type": "code",
   "execution_count": 152,
   "id": "449d6003-8e5d-436e-8faa-7ac56d74fcc6",
   "metadata": {},
   "outputs": [
    {
     "data": {
      "text/plain": [
       "array([[ 74,  92],\n",
       "       [182, 227]])"
      ]
     },
     "execution_count": 152,
     "metadata": {},
     "output_type": "execute_result"
    }
   ],
   "source": [
    "np.dot(arr1,arr2.T)"
   ]
  },
  {
   "cell_type": "code",
   "execution_count": 154,
   "id": "97fd7e35-6ba9-4c25-b763-094c3ee9b730",
   "metadata": {},
   "outputs": [
    {
     "data": {
      "text/plain": [
       "array([[11, 24, 39],\n",
       "       [56, 75, 96]])"
      ]
     },
     "execution_count": 154,
     "metadata": {},
     "output_type": "execute_result"
    }
   ],
   "source": [
    "np.multiply(arr1,arr2)"
   ]
  },
  {
   "cell_type": "code",
   "execution_count": 155,
   "id": "f2b87ad6-c7ba-4e5e-9dda-9e49a2589ce1",
   "metadata": {},
   "outputs": [
    {
     "data": {
      "text/plain": [
       "' np.dot은 브로드캐스팅 해주지 않는다 , 배열의 요소별 곱셈을 할거면 맞춰주던가 multiply를 쓸것'"
      ]
     },
     "execution_count": 155,
     "metadata": {},
     "output_type": "execute_result"
    }
   ],
   "source": [
    "''' np.dot은 브로드캐스팅 해주지 않는다 , 배열의 요소별 곱셈을 할거면 맞춰주던가 multiply를 쓸것'''"
   ]
  },
  {
   "cell_type": "code",
   "execution_count": 158,
   "id": "bd66e838-7758-4a8a-b29d-27acc501e53a",
   "metadata": {},
   "outputs": [
    {
     "data": {
      "text/plain": [
       "array([ 1. ,  1.9,  2.8,  3.7,  4.6,  5.5,  6.4,  7.3,  8.2,  9.1, 10. ])"
      ]
     },
     "execution_count": 158,
     "metadata": {},
     "output_type": "execute_result"
    }
   ],
   "source": [
    "np.linspace(1,10,11)\n",
    "\n",
    "# 지정한 범위 내에서 균등한 간격으로 일정한 개수의 값을 생성"
   ]
  },
  {
   "cell_type": "code",
   "execution_count": 160,
   "id": "a26fcf0d-5238-4264-8f35-4142bd106bbb",
   "metadata": {},
   "outputs": [],
   "source": [
    "np.random.seed(3)\n",
    "korean = np.random.randint(60,100,100)"
   ]
  },
  {
   "cell_type": "code",
   "execution_count": 164,
   "id": "bd966b5f-0082-43e2-bedb-00a2e2455109",
   "metadata": {},
   "outputs": [],
   "source": [
    "# if구문 대신 np.where활용해서 한줄로 쓰기\n",
    "\n",
    "result = np.where(korean >=90,'A',np.where(korean >= 80, 'B',np.where(korean >=70,'C','D')))"
   ]
  },
  {
   "cell_type": "code",
   "execution_count": 165,
   "id": "b2745176-f30c-4436-b353-3bc5e90f019a",
   "metadata": {},
   "outputs": [
    {
     "data": {
      "text/plain": [
       "array(['B', 'D', 'D', 'D', 'B', 'C', 'C', 'C', 'B', 'A', 'A', 'B', 'B',\n",
       "       'A', 'C', 'B', 'C', 'B', 'B', 'D', 'D', 'D', 'B', 'D', 'A', 'B',\n",
       "       'B', 'D', 'A', 'C', 'A', 'B', 'A', 'B', 'C', 'B', 'D', 'D', 'C',\n",
       "       'A', 'D', 'A', 'A', 'D', 'B', 'C', 'A', 'A', 'B', 'C', 'C', 'A',\n",
       "       'C', 'C', 'C', 'A', 'A', 'C', 'A', 'A', 'A', 'D', 'B', 'A', 'B',\n",
       "       'C', 'A', 'B', 'B', 'A', 'B', 'A', 'D', 'A', 'B', 'C', 'B', 'C',\n",
       "       'C', 'C', 'D', 'C', 'C', 'A', 'A', 'D', 'A', 'D', 'C', 'D', 'B',\n",
       "       'A', 'B', 'C', 'B', 'B', 'D', 'A', 'A', 'B'], dtype='<U1')"
      ]
     },
     "execution_count": 165,
     "metadata": {},
     "output_type": "execute_result"
    }
   ],
   "source": [
    "result"
   ]
  },
  {
   "cell_type": "code",
   "execution_count": 166,
   "id": "65d7b9d6-ea79-4fdb-a5f3-4f232d7a058b",
   "metadata": {},
   "outputs": [],
   "source": [
    "# 국어는 몇명이 잘했고 수학은 몇명이 잘했고 영어는 몇명이 잘했는지"
   ]
  },
  {
   "cell_type": "code",
   "execution_count": 173,
   "id": "4c39f931-c906-4548-92d9-2c962e57c2fe",
   "metadata": {},
   "outputs": [
    {
     "data": {
      "text/plain": [
       "array([[99, 62, 79],\n",
       "       [86, 84, 94],\n",
       "       [88, 69, 60],\n",
       "       ...,\n",
       "       [67, 90, 63],\n",
       "       [73, 60, 69],\n",
       "       [79, 65, 62]])"
      ]
     },
     "execution_count": 173,
     "metadata": {},
     "output_type": "execute_result"
    }
   ],
   "source": [
    "arr = np.random.randint(60,100,3000).reshape(1000,-1)\n",
    "arr"
   ]
  },
  {
   "cell_type": "code",
   "execution_count": 174,
   "id": "ec504a28-b3c2-44ca-8999-ce4f119b2d76",
   "metadata": {},
   "outputs": [],
   "source": [
    "arr1 = np.hstack((arr,np.argmax(arr,axis =1).reshape(1000,1)))"
   ]
  },
  {
   "cell_type": "code",
   "execution_count": 175,
   "id": "52aa72b9-a5fe-4b1d-86b2-f00259facd15",
   "metadata": {},
   "outputs": [
    {
     "data": {
      "text/plain": [
       "array([[99, 62, 79,  0],\n",
       "       [86, 84, 94,  2],\n",
       "       [88, 69, 60,  0],\n",
       "       ...,\n",
       "       [67, 90, 63,  1],\n",
       "       [73, 60, 69,  0],\n",
       "       [79, 65, 62,  0]], dtype=int64)"
      ]
     },
     "execution_count": 175,
     "metadata": {},
     "output_type": "execute_result"
    }
   ],
   "source": [
    "arr1"
   ]
  },
  {
   "cell_type": "code",
   "execution_count": 182,
   "id": "d2ff074f-7335-4aa4-8734-36ed69141512",
   "metadata": {},
   "outputs": [
    {
     "data": {
      "text/plain": [
       "(array([0, 1, 2], dtype=int64), array([362, 327, 311], dtype=int64))"
      ]
     },
     "execution_count": 182,
     "metadata": {},
     "output_type": "execute_result"
    }
   ],
   "source": [
    "np.unique(arr1[:,3],return_counts = True)\n",
    "\n",
    "# 국,영,수 제일 잘한사람 과목별 인원수 합"
   ]
  },
  {
   "cell_type": "code",
   "execution_count": 184,
   "id": "8a9d71db-cd5a-40f4-b669-9ea972cb738e",
   "metadata": {},
   "outputs": [
    {
     "data": {
      "text/plain": [
       "'NumPy 배열을 이진 형식으로 저장하는 함수입니다. 이 함수는 두 개의 인수를 받습니다. 첫 번째 인수는 파일 이름이며, 두 번째 인수는 저장할 NumPy 배열'"
      ]
     },
     "execution_count": 184,
     "metadata": {},
     "output_type": "execute_result"
    }
   ],
   "source": [
    "# np.save()\n",
    "'''NumPy 배열을 이진 형식으로 저장하는 함수입니다. 이 함수는 두 개의 인수를 받습니다. 첫 번째 인수는 파일 이름이며, 두 번째 인수는 저장할 NumPy 배열'''"
   ]
  },
  {
   "cell_type": "code",
   "execution_count": 186,
   "id": "a6e8124a-1e94-4b27-8224-d80094ff2df3",
   "metadata": {},
   "outputs": [
    {
     "data": {
      "text/plain": [
       "'NumPy에서 무한대(infinity)를 나타내는 상수입니다. 이 값은 부동소수점 숫자의 최댓값보다 큰 값으로 정의되어 있습니다. NumPy에서는 양의 무한대를 np.inf로 표시하며, 음의 무한대는 -np.inf로 표시'"
      ]
     },
     "execution_count": 186,
     "metadata": {},
     "output_type": "execute_result"
    }
   ],
   "source": [
    "# np.inf  type은 float\n",
    "'''NumPy에서 무한대(infinity)를 나타내는 상수입니다. 이 값은 부동소수점 숫자의 최댓값보다 큰 값으로 정의되어 있습니다. NumPy에서는 양의 무한대를 np.inf로 표시하며, 음의 무한대는 -np.inf로 표시'''"
   ]
  },
  {
   "cell_type": "code",
   "execution_count": 195,
   "id": "8dddd579-d00e-4c25-8de2-b050e4357335",
   "metadata": {},
   "outputs": [],
   "source": [
    "a = np.array([[1,2],[3,4]])\n",
    "b = np.array([[5,6],[7,8]])"
   ]
  },
  {
   "cell_type": "code",
   "execution_count": 198,
   "id": "54e8cba9-6629-4fa5-8590-444ed7f07bba",
   "metadata": {},
   "outputs": [
    {
     "data": {
      "text/plain": [
       "array([[1, 2],\n",
       "       [3, 4]])"
      ]
     },
     "execution_count": 198,
     "metadata": {},
     "output_type": "execute_result"
    }
   ],
   "source": [
    "a"
   ]
  },
  {
   "cell_type": "code",
   "execution_count": 199,
   "id": "cba098f0-cb97-4d31-9a1b-fc7af676822e",
   "metadata": {},
   "outputs": [
    {
     "data": {
      "text/plain": [
       "array([[5, 6],\n",
       "       [7, 8]])"
      ]
     },
     "execution_count": 199,
     "metadata": {},
     "output_type": "execute_result"
    }
   ],
   "source": [
    "b"
   ]
  },
  {
   "cell_type": "code",
   "execution_count": 201,
   "id": "80beb64b-8e42-42a1-833b-7fb28cf5d5cb",
   "metadata": {},
   "outputs": [
    {
     "data": {
      "text/plain": [
       "array([[1, 2, 5, 6],\n",
       "       [3, 4, 7, 8]])"
      ]
     },
     "execution_count": 201,
     "metadata": {},
     "output_type": "execute_result"
    }
   ],
   "source": [
    "# np.c_ , 옆으로 이어주는 것 \n",
    "\n",
    "np.c_[a,b]"
   ]
  },
  {
   "cell_type": "code",
   "execution_count": 205,
   "id": "33a4b5d0-fa96-496d-ab78-4b572d753197",
   "metadata": {},
   "outputs": [
    {
     "data": {
      "text/plain": [
       "array([[ 0.88042182,  0.43939489,  0.04321465],\n",
       "       [ 0.93423132, -0.02580223,  0.17899688],\n",
       "       [ 1.2990618 ,  0.92291013,  2.0883119 ]])"
      ]
     },
     "execution_count": 205,
     "metadata": {},
     "output_type": "execute_result"
    }
   ],
   "source": [
    "arr1 = np.random.randn(3,3)\n",
    "arr1"
   ]
  },
  {
   "cell_type": "code",
   "execution_count": 206,
   "id": "3c1d891e-4414-41fe-bbe7-c8a6c6eec99e",
   "metadata": {},
   "outputs": [
    {
     "data": {
      "text/plain": [
       "array([[0.83720718, 0.39618025, 0.        ],\n",
       "       [0.96003355, 0.        , 0.2047991 ],\n",
       "       [0.37615167, 0.        , 1.16540177]])"
      ]
     },
     "execution_count": 206,
     "metadata": {},
     "output_type": "execute_result"
    }
   ],
   "source": [
    "# aplly_along.axis (기능,축,자료)\n",
    "\n",
    "np.apply_along_axis(lambda x:x-np.min(x),1,arr1)\n",
    "\n"
   ]
  },
  {
   "cell_type": "code",
   "execution_count": 207,
   "id": "a81f44a2-c11f-44dd-8715-6a9a316f5e20",
   "metadata": {},
   "outputs": [
    {
     "data": {
      "text/plain": [
       "array([[0.        , 0.46519712, 0.        ],\n",
       "       [0.0538095 , 0.        , 0.13578223],\n",
       "       [0.41863998, 0.94871236, 2.04509726]])"
      ]
     },
     "execution_count": 207,
     "metadata": {},
     "output_type": "execute_result"
    }
   ],
   "source": [
    "np.apply_along_axis(lambda x:x-np.min(x),0,arr1)"
   ]
  },
  {
   "cell_type": "code",
   "execution_count": 208,
   "id": "26700a03-f38c-46de-8ba8-02a55ca3c8b3",
   "metadata": {},
   "outputs": [],
   "source": [
    "# 0 = 각 열 / 1 = 각 행"
   ]
  },
  {
   "cell_type": "code",
   "execution_count": 222,
   "id": "d411f6d4-6a79-4a1c-bd94-36be16ff07e3",
   "metadata": {},
   "outputs": [
    {
     "data": {
      "text/plain": [
       "'새로운 축(axis)을 추가하는데 사용되는 인덱싱 키워드. np.newaxis를 배열의 인덱싱으로 사용하면 해당 차원의 크기를 1 늘린다.'"
      ]
     },
     "execution_count": 222,
     "metadata": {},
     "output_type": "execute_result"
    }
   ],
   "source": [
    "# newaxis\n",
    "'''새로운 축(axis)을 추가하는데 사용되는 인덱싱 키워드. np.newaxis를 배열의 인덱싱으로 사용하면 해당 차원의 크기를 1 늘린다.'''"
   ]
  },
  {
   "cell_type": "code",
   "execution_count": 212,
   "id": "55ce797f-2d99-4032-b308-b10f4ea5f758",
   "metadata": {},
   "outputs": [],
   "source": [
    "arr = np.array([1,2,3])\n",
    "arr = arr.reshape(-1,1)"
   ]
  },
  {
   "cell_type": "code",
   "execution_count": 213,
   "id": "8ae1cc8c-fef5-4488-a6a5-645d8aa1b0a4",
   "metadata": {},
   "outputs": [
    {
     "data": {
      "text/plain": [
       "(3, 1)"
      ]
     },
     "execution_count": 213,
     "metadata": {},
     "output_type": "execute_result"
    }
   ],
   "source": [
    "arr.shape"
   ]
  },
  {
   "cell_type": "code",
   "execution_count": 214,
   "id": "80d4d3d6-b993-49f0-9318-c0aef00d3de9",
   "metadata": {},
   "outputs": [
    {
     "data": {
      "text/plain": [
       "array([[1],\n",
       "       [2],\n",
       "       [3]])"
      ]
     },
     "execution_count": 214,
     "metadata": {},
     "output_type": "execute_result"
    }
   ],
   "source": [
    "arr"
   ]
  },
  {
   "cell_type": "code",
   "execution_count": 218,
   "id": "cc37e897-ca25-4493-8a22-01ab5b2ab825",
   "metadata": {},
   "outputs": [
    {
     "data": {
      "text/plain": [
       "array([[[[1]]],\n",
       "\n",
       "\n",
       "       [[[2]]],\n",
       "\n",
       "\n",
       "       [[[3]]]])"
      ]
     },
     "execution_count": 218,
     "metadata": {},
     "output_type": "execute_result"
    }
   ],
   "source": [
    "arr[:,np.newaxis,np.newaxis]"
   ]
  },
  {
   "cell_type": "code",
   "execution_count": 219,
   "id": "0a9a4ea8-eb14-425e-8d7b-3f7e91f66001",
   "metadata": {},
   "outputs": [
    {
     "data": {
      "text/plain": [
       "(3, 1)"
      ]
     },
     "execution_count": 219,
     "metadata": {},
     "output_type": "execute_result"
    }
   ],
   "source": [
    "arr.shape"
   ]
  },
  {
   "cell_type": "code",
   "execution_count": null,
   "id": "4bcce133-36fd-492e-ae45-c1adcb4b24ee",
   "metadata": {},
   "outputs": [],
   "source": []
  }
 ],
 "metadata": {
  "kernelspec": {
   "display_name": "donga",
   "language": "python",
   "name": "donga"
  },
  "language_info": {
   "codemirror_mode": {
    "name": "ipython",
    "version": 3
   },
   "file_extension": ".py",
   "mimetype": "text/x-python",
   "name": "python",
   "nbconvert_exporter": "python",
   "pygments_lexer": "ipython3",
   "version": "3.9.13"
  }
 },
 "nbformat": 4,
 "nbformat_minor": 5
}
